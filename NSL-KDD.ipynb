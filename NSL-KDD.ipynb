{
 "cells": [
  {
   "cell_type": "markdown",
   "id": "fc96e630-be70-4a46-ae7b-170b45e32d47",
   "metadata": {},
   "source": [
    "## Analyzing NSL-KDD"
   ]
  },
  {
   "cell_type": "markdown",
   "id": "d8d6d8a2-f0f9-449f-970f-e4473bb5f911",
   "metadata": {},
   "source": [
    "## Import libraries"
   ]
  },
  {
   "cell_type": "code",
   "execution_count": 1,
   "id": "f27f657d-d79a-4df6-9668-4912814c44d7",
   "metadata": {},
   "outputs": [
    {
     "name": "stderr",
     "output_type": "stream",
     "text": [
      "2024-11-27 21:41:22.131487: E external/local_xla/xla/stream_executor/cuda/cuda_fft.cc:477] Unable to register cuFFT factory: Attempting to register factory for plugin cuFFT when one has already been registered\n",
      "WARNING: All log messages before absl::InitializeLog() is called are written to STDERR\n",
      "E0000 00:00:1732736482.151201   27534 cuda_dnn.cc:8310] Unable to register cuDNN factory: Attempting to register factory for plugin cuDNN when one has already been registered\n",
      "E0000 00:00:1732736482.158121   27534 cuda_blas.cc:1418] Unable to register cuBLAS factory: Attempting to register factory for plugin cuBLAS when one has already been registered\n",
      "2024-11-27 21:41:22.180961: I tensorflow/core/platform/cpu_feature_guard.cc:210] This TensorFlow binary is optimized to use available CPU instructions in performance-critical operations.\n",
      "To enable the following instructions: AVX2 FMA, in other operations, rebuild TensorFlow with the appropriate compiler flags.\n"
     ]
    }
   ],
   "source": [
    "import pandas as pd\n",
    "import numpy as np\n",
    "import gc\n",
    "import lightgbm\n",
    "import matplotlib.pyplot as plt\n",
    "from sklearn.svm import SVC\n",
    "from sklearn.neighbors import KNeighborsClassifier\n",
    "from prettytable import PrettyTable\n",
    "from sklearn.decomposition import PCA\n",
    "from sklearn.model_selection import train_test_split\n",
    "from sklearn.feature_selection import SelectKBest, f_classif\n",
    "from sklearn.preprocessing import StandardScaler, OneHotEncoder, LabelEncoder\n",
    "from sklearn.model_selection import train_test_split\n",
    "from sklearn.linear_model import LinearRegression\n",
    "from sklearn.metrics import accuracy_score, root_mean_squared_error, mean_squared_error, mean_absolute_error, precision_score, confusion_matrix, multilabel_confusion_matrix, classification_report, f1_score, precision_score, recall_score\n",
    "from sklearn.model_selection import RandomizedSearchCV\n",
    "from sklearn.ensemble import RandomForestClassifier\n",
    "import xgboost as xgb\n",
    "import seaborn as sns\n",
    "from tensorflow import keras\n",
    "\n",
    "%matplotlib inline"
   ]
  },
  {
   "cell_type": "markdown",
   "id": "7ea7c16e-2d43-441e-815f-bdef5279d23d",
   "metadata": {},
   "source": [
    "# Function defines"
   ]
  },
  {
   "cell_type": "code",
   "execution_count": 2,
   "id": "427c3410-f8bb-4144-afc7-541f825fe454",
   "metadata": {},
   "outputs": [],
   "source": [
    "def visualize_CM(matrix):\n",
    "    \"\"\"\n",
    "    Visualize Correlation Matrix\n",
    "    \"\"\"\n",
    "    sns.heatmap(matrix,annot=True)\n",
    "\n",
    "def ab_val(val):\n",
    "    \"\"\"\n",
    "    Value for pie chart\n",
    "    \"\"\"\n",
    "    return f\"{val:.2f}%\"\n",
    "\n",
    "def piePlot(df, columns_list, rows, columns):\n",
    "    \"\"\"\n",
    "    Create a pie plot\n",
    "    \"\"\"\n",
    "    fig, axes = plt.subplots(rows, columns)\n",
    "    for ax, col in zip(axes.ravel(), columns_list):\n",
    "        labels = np.full((1,len(df[col].unique())),'')\n",
    "        df[col].value_counts().plot(ax=ax,\n",
    "                                    kind='pie',\n",
    "                                    autopct=ab_val,\n",
    "                                    labels=labels[0],\n",
    "                                    figsize=(25,25),\n",
    "                                    fontsize=10)\n",
    "        ax.set_title(col)\n",
    "        ax.legend(loc=3, labels=df[col].unique())\n",
    "\n",
    "def printColumns(df, column):\n",
    "    \"\"\"\n",
    "    Print columns to PrettyTable\n",
    "    \"\"\"\n",
    "    values = df[column].unique()\n",
    "    table = PrettyTable([f\"{column} - {df.name}\", \"Count\"])\n",
    "    for value in values:\n",
    "        count = df[column].loc[df[column]==value].count()\n",
    "        table.add_row([f\"{value}\", f\"{count}\"])\n",
    "    print(table)"
   ]
  },
  {
   "cell_type": "markdown",
   "id": "93b69184-8875-43fe-ad5e-56ad3a21abb0",
   "metadata": {},
   "source": [
    "# 1. Data Exploration"
   ]
  },
  {
   "cell_type": "markdown",
   "id": "061c4900-0d3a-422e-97b4-9a913206a49b",
   "metadata": {},
   "source": [
    "## 1.1. Load data"
   ]
  },
  {
   "cell_type": "code",
   "execution_count": 3,
   "id": "c7ebfef8-ec27-4544-9bd5-0be62108fdff",
   "metadata": {},
   "outputs": [],
   "source": [
    "train = pd.read_csv(\"data/NSL_KDD/csv/Train20.csv\")\n",
    "train = train.drop(['Unnamed: 0'], axis=1)\n",
    "train.name = \"Train\"\n",
    "test = pd.read_csv(\"data/NSL_KDD/csv/Test.csv\")\n",
    "test = test.drop(['Unnamed: 0'], axis=1)\n",
    "test.name = \"Test\""
   ]
  },
  {
   "cell_type": "code",
   "execution_count": 4,
   "id": "3182b21e-b0e5-4c6a-9ac1-b5c16b538774",
   "metadata": {},
   "outputs": [
    {
     "data": {
      "text/html": [
       "<div>\n",
       "<style scoped>\n",
       "    .dataframe tbody tr th:only-of-type {\n",
       "        vertical-align: middle;\n",
       "    }\n",
       "\n",
       "    .dataframe tbody tr th {\n",
       "        vertical-align: top;\n",
       "    }\n",
       "\n",
       "    .dataframe thead th {\n",
       "        text-align: right;\n",
       "    }\n",
       "</style>\n",
       "<table border=\"1\" class=\"dataframe\">\n",
       "  <thead>\n",
       "    <tr style=\"text-align: right;\">\n",
       "      <th></th>\n",
       "      <th>duration</th>\n",
       "      <th>protocol_type</th>\n",
       "      <th>service</th>\n",
       "      <th>flag</th>\n",
       "      <th>src_bytes</th>\n",
       "      <th>dst_bytes</th>\n",
       "      <th>land</th>\n",
       "      <th>wrong_fragment</th>\n",
       "      <th>urgent</th>\n",
       "      <th>hot</th>\n",
       "      <th>...</th>\n",
       "      <th>dst_host_diff_srv_rate</th>\n",
       "      <th>dst_host_same_src_port_rate</th>\n",
       "      <th>dst_host_srv_diff_host_rate</th>\n",
       "      <th>dst_host_serror_rate</th>\n",
       "      <th>dst_host_srv_serror_rate</th>\n",
       "      <th>dst_host_rerror_rate</th>\n",
       "      <th>dst_host_srv_rerror_rate</th>\n",
       "      <th>class</th>\n",
       "      <th>target</th>\n",
       "      <th>Attack Type</th>\n",
       "    </tr>\n",
       "  </thead>\n",
       "  <tbody>\n",
       "    <tr>\n",
       "      <th>0</th>\n",
       "      <td>0</td>\n",
       "      <td>tcp</td>\n",
       "      <td>ftp_data</td>\n",
       "      <td>SF</td>\n",
       "      <td>491</td>\n",
       "      <td>0</td>\n",
       "      <td>0</td>\n",
       "      <td>0</td>\n",
       "      <td>0</td>\n",
       "      <td>0</td>\n",
       "      <td>...</td>\n",
       "      <td>0.03</td>\n",
       "      <td>0.17</td>\n",
       "      <td>0.00</td>\n",
       "      <td>0.00</td>\n",
       "      <td>0.00</td>\n",
       "      <td>0.05</td>\n",
       "      <td>0.00</td>\n",
       "      <td>normal</td>\n",
       "      <td>20</td>\n",
       "      <td>normal</td>\n",
       "    </tr>\n",
       "    <tr>\n",
       "      <th>1</th>\n",
       "      <td>0</td>\n",
       "      <td>udp</td>\n",
       "      <td>other</td>\n",
       "      <td>SF</td>\n",
       "      <td>146</td>\n",
       "      <td>0</td>\n",
       "      <td>0</td>\n",
       "      <td>0</td>\n",
       "      <td>0</td>\n",
       "      <td>0</td>\n",
       "      <td>...</td>\n",
       "      <td>0.60</td>\n",
       "      <td>0.88</td>\n",
       "      <td>0.00</td>\n",
       "      <td>0.00</td>\n",
       "      <td>0.00</td>\n",
       "      <td>0.00</td>\n",
       "      <td>0.00</td>\n",
       "      <td>normal</td>\n",
       "      <td>15</td>\n",
       "      <td>normal</td>\n",
       "    </tr>\n",
       "    <tr>\n",
       "      <th>2</th>\n",
       "      <td>0</td>\n",
       "      <td>tcp</td>\n",
       "      <td>private</td>\n",
       "      <td>S0</td>\n",
       "      <td>0</td>\n",
       "      <td>0</td>\n",
       "      <td>0</td>\n",
       "      <td>0</td>\n",
       "      <td>0</td>\n",
       "      <td>0</td>\n",
       "      <td>...</td>\n",
       "      <td>0.05</td>\n",
       "      <td>0.00</td>\n",
       "      <td>0.00</td>\n",
       "      <td>1.00</td>\n",
       "      <td>1.00</td>\n",
       "      <td>0.00</td>\n",
       "      <td>0.00</td>\n",
       "      <td>neptune</td>\n",
       "      <td>19</td>\n",
       "      <td>dos</td>\n",
       "    </tr>\n",
       "    <tr>\n",
       "      <th>3</th>\n",
       "      <td>0</td>\n",
       "      <td>tcp</td>\n",
       "      <td>http</td>\n",
       "      <td>SF</td>\n",
       "      <td>232</td>\n",
       "      <td>8153</td>\n",
       "      <td>0</td>\n",
       "      <td>0</td>\n",
       "      <td>0</td>\n",
       "      <td>0</td>\n",
       "      <td>...</td>\n",
       "      <td>0.00</td>\n",
       "      <td>0.03</td>\n",
       "      <td>0.04</td>\n",
       "      <td>0.03</td>\n",
       "      <td>0.01</td>\n",
       "      <td>0.00</td>\n",
       "      <td>0.01</td>\n",
       "      <td>normal</td>\n",
       "      <td>21</td>\n",
       "      <td>normal</td>\n",
       "    </tr>\n",
       "    <tr>\n",
       "      <th>4</th>\n",
       "      <td>0</td>\n",
       "      <td>tcp</td>\n",
       "      <td>http</td>\n",
       "      <td>SF</td>\n",
       "      <td>199</td>\n",
       "      <td>420</td>\n",
       "      <td>0</td>\n",
       "      <td>0</td>\n",
       "      <td>0</td>\n",
       "      <td>0</td>\n",
       "      <td>...</td>\n",
       "      <td>0.00</td>\n",
       "      <td>0.00</td>\n",
       "      <td>0.00</td>\n",
       "      <td>0.00</td>\n",
       "      <td>0.00</td>\n",
       "      <td>0.00</td>\n",
       "      <td>0.00</td>\n",
       "      <td>normal</td>\n",
       "      <td>21</td>\n",
       "      <td>normal</td>\n",
       "    </tr>\n",
       "  </tbody>\n",
       "</table>\n",
       "<p>5 rows × 44 columns</p>\n",
       "</div>"
      ],
      "text/plain": [
       "   duration protocol_type   service flag  src_bytes  dst_bytes  land  \\\n",
       "0         0           tcp  ftp_data   SF        491          0     0   \n",
       "1         0           udp     other   SF        146          0     0   \n",
       "2         0           tcp   private   S0          0          0     0   \n",
       "3         0           tcp      http   SF        232       8153     0   \n",
       "4         0           tcp      http   SF        199        420     0   \n",
       "\n",
       "   wrong_fragment  urgent  hot  ...  dst_host_diff_srv_rate  \\\n",
       "0               0       0    0  ...                    0.03   \n",
       "1               0       0    0  ...                    0.60   \n",
       "2               0       0    0  ...                    0.05   \n",
       "3               0       0    0  ...                    0.00   \n",
       "4               0       0    0  ...                    0.00   \n",
       "\n",
       "   dst_host_same_src_port_rate  dst_host_srv_diff_host_rate  \\\n",
       "0                         0.17                         0.00   \n",
       "1                         0.88                         0.00   \n",
       "2                         0.00                         0.00   \n",
       "3                         0.03                         0.04   \n",
       "4                         0.00                         0.00   \n",
       "\n",
       "   dst_host_serror_rate  dst_host_srv_serror_rate  dst_host_rerror_rate  \\\n",
       "0                  0.00                      0.00                  0.05   \n",
       "1                  0.00                      0.00                  0.00   \n",
       "2                  1.00                      1.00                  0.00   \n",
       "3                  0.03                      0.01                  0.00   \n",
       "4                  0.00                      0.00                  0.00   \n",
       "\n",
       "   dst_host_srv_rerror_rate    class  target  Attack Type  \n",
       "0                      0.00   normal      20       normal  \n",
       "1                      0.00   normal      15       normal  \n",
       "2                      0.00  neptune      19          dos  \n",
       "3                      0.01   normal      21       normal  \n",
       "4                      0.00   normal      21       normal  \n",
       "\n",
       "[5 rows x 44 columns]"
      ]
     },
     "execution_count": 4,
     "metadata": {},
     "output_type": "execute_result"
    }
   ],
   "source": [
    "train.head()"
   ]
  },
  {
   "cell_type": "code",
   "execution_count": 5,
   "id": "78efcb85-bde5-4b3d-81ae-c544aa8987cd",
   "metadata": {},
   "outputs": [
    {
     "data": {
      "text/html": [
       "<div>\n",
       "<style scoped>\n",
       "    .dataframe tbody tr th:only-of-type {\n",
       "        vertical-align: middle;\n",
       "    }\n",
       "\n",
       "    .dataframe tbody tr th {\n",
       "        vertical-align: top;\n",
       "    }\n",
       "\n",
       "    .dataframe thead th {\n",
       "        text-align: right;\n",
       "    }\n",
       "</style>\n",
       "<table border=\"1\" class=\"dataframe\">\n",
       "  <thead>\n",
       "    <tr style=\"text-align: right;\">\n",
       "      <th></th>\n",
       "      <th>duration</th>\n",
       "      <th>protocol_type</th>\n",
       "      <th>service</th>\n",
       "      <th>flag</th>\n",
       "      <th>src_bytes</th>\n",
       "      <th>dst_bytes</th>\n",
       "      <th>land</th>\n",
       "      <th>wrong_fragment</th>\n",
       "      <th>urgent</th>\n",
       "      <th>hot</th>\n",
       "      <th>...</th>\n",
       "      <th>dst_host_diff_srv_rate</th>\n",
       "      <th>dst_host_same_src_port_rate</th>\n",
       "      <th>dst_host_srv_diff_host_rate</th>\n",
       "      <th>dst_host_serror_rate</th>\n",
       "      <th>dst_host_srv_serror_rate</th>\n",
       "      <th>dst_host_rerror_rate</th>\n",
       "      <th>dst_host_srv_rerror_rate</th>\n",
       "      <th>class</th>\n",
       "      <th>target</th>\n",
       "      <th>Attack Type</th>\n",
       "    </tr>\n",
       "  </thead>\n",
       "  <tbody>\n",
       "    <tr>\n",
       "      <th>0</th>\n",
       "      <td>0</td>\n",
       "      <td>tcp</td>\n",
       "      <td>private</td>\n",
       "      <td>REJ</td>\n",
       "      <td>0</td>\n",
       "      <td>0</td>\n",
       "      <td>0</td>\n",
       "      <td>0</td>\n",
       "      <td>0</td>\n",
       "      <td>0</td>\n",
       "      <td>...</td>\n",
       "      <td>0.06</td>\n",
       "      <td>0.00</td>\n",
       "      <td>0.00</td>\n",
       "      <td>0.0</td>\n",
       "      <td>0.0</td>\n",
       "      <td>1.00</td>\n",
       "      <td>1.00</td>\n",
       "      <td>neptune</td>\n",
       "      <td>21</td>\n",
       "      <td>dos</td>\n",
       "    </tr>\n",
       "    <tr>\n",
       "      <th>1</th>\n",
       "      <td>0</td>\n",
       "      <td>tcp</td>\n",
       "      <td>private</td>\n",
       "      <td>REJ</td>\n",
       "      <td>0</td>\n",
       "      <td>0</td>\n",
       "      <td>0</td>\n",
       "      <td>0</td>\n",
       "      <td>0</td>\n",
       "      <td>0</td>\n",
       "      <td>...</td>\n",
       "      <td>0.06</td>\n",
       "      <td>0.00</td>\n",
       "      <td>0.00</td>\n",
       "      <td>0.0</td>\n",
       "      <td>0.0</td>\n",
       "      <td>1.00</td>\n",
       "      <td>1.00</td>\n",
       "      <td>neptune</td>\n",
       "      <td>21</td>\n",
       "      <td>dos</td>\n",
       "    </tr>\n",
       "    <tr>\n",
       "      <th>2</th>\n",
       "      <td>2</td>\n",
       "      <td>tcp</td>\n",
       "      <td>ftp_data</td>\n",
       "      <td>SF</td>\n",
       "      <td>12983</td>\n",
       "      <td>0</td>\n",
       "      <td>0</td>\n",
       "      <td>0</td>\n",
       "      <td>0</td>\n",
       "      <td>0</td>\n",
       "      <td>...</td>\n",
       "      <td>0.04</td>\n",
       "      <td>0.61</td>\n",
       "      <td>0.02</td>\n",
       "      <td>0.0</td>\n",
       "      <td>0.0</td>\n",
       "      <td>0.00</td>\n",
       "      <td>0.00</td>\n",
       "      <td>normal</td>\n",
       "      <td>21</td>\n",
       "      <td>normal</td>\n",
       "    </tr>\n",
       "    <tr>\n",
       "      <th>3</th>\n",
       "      <td>0</td>\n",
       "      <td>icmp</td>\n",
       "      <td>eco_i</td>\n",
       "      <td>SF</td>\n",
       "      <td>20</td>\n",
       "      <td>0</td>\n",
       "      <td>0</td>\n",
       "      <td>0</td>\n",
       "      <td>0</td>\n",
       "      <td>0</td>\n",
       "      <td>...</td>\n",
       "      <td>0.00</td>\n",
       "      <td>1.00</td>\n",
       "      <td>0.28</td>\n",
       "      <td>0.0</td>\n",
       "      <td>0.0</td>\n",
       "      <td>0.00</td>\n",
       "      <td>0.00</td>\n",
       "      <td>saint</td>\n",
       "      <td>15</td>\n",
       "      <td>probe</td>\n",
       "    </tr>\n",
       "    <tr>\n",
       "      <th>4</th>\n",
       "      <td>1</td>\n",
       "      <td>tcp</td>\n",
       "      <td>telnet</td>\n",
       "      <td>RSTO</td>\n",
       "      <td>0</td>\n",
       "      <td>15</td>\n",
       "      <td>0</td>\n",
       "      <td>0</td>\n",
       "      <td>0</td>\n",
       "      <td>0</td>\n",
       "      <td>...</td>\n",
       "      <td>0.17</td>\n",
       "      <td>0.03</td>\n",
       "      <td>0.02</td>\n",
       "      <td>0.0</td>\n",
       "      <td>0.0</td>\n",
       "      <td>0.83</td>\n",
       "      <td>0.71</td>\n",
       "      <td>mscan</td>\n",
       "      <td>11</td>\n",
       "      <td>probe</td>\n",
       "    </tr>\n",
       "  </tbody>\n",
       "</table>\n",
       "<p>5 rows × 44 columns</p>\n",
       "</div>"
      ],
      "text/plain": [
       "   duration protocol_type   service  flag  src_bytes  dst_bytes  land  \\\n",
       "0         0           tcp   private   REJ          0          0     0   \n",
       "1         0           tcp   private   REJ          0          0     0   \n",
       "2         2           tcp  ftp_data    SF      12983          0     0   \n",
       "3         0          icmp     eco_i    SF         20          0     0   \n",
       "4         1           tcp    telnet  RSTO          0         15     0   \n",
       "\n",
       "   wrong_fragment  urgent  hot  ...  dst_host_diff_srv_rate  \\\n",
       "0               0       0    0  ...                    0.06   \n",
       "1               0       0    0  ...                    0.06   \n",
       "2               0       0    0  ...                    0.04   \n",
       "3               0       0    0  ...                    0.00   \n",
       "4               0       0    0  ...                    0.17   \n",
       "\n",
       "   dst_host_same_src_port_rate  dst_host_srv_diff_host_rate  \\\n",
       "0                         0.00                         0.00   \n",
       "1                         0.00                         0.00   \n",
       "2                         0.61                         0.02   \n",
       "3                         1.00                         0.28   \n",
       "4                         0.03                         0.02   \n",
       "\n",
       "   dst_host_serror_rate  dst_host_srv_serror_rate  dst_host_rerror_rate  \\\n",
       "0                   0.0                       0.0                  1.00   \n",
       "1                   0.0                       0.0                  1.00   \n",
       "2                   0.0                       0.0                  0.00   \n",
       "3                   0.0                       0.0                  0.00   \n",
       "4                   0.0                       0.0                  0.83   \n",
       "\n",
       "   dst_host_srv_rerror_rate    class  target  Attack Type  \n",
       "0                      1.00  neptune      21          dos  \n",
       "1                      1.00  neptune      21          dos  \n",
       "2                      0.00   normal      21       normal  \n",
       "3                      0.00    saint      15        probe  \n",
       "4                      0.71    mscan      11        probe  \n",
       "\n",
       "[5 rows x 44 columns]"
      ]
     },
     "execution_count": 5,
     "metadata": {},
     "output_type": "execute_result"
    }
   ],
   "source": [
    "test.head()"
   ]
  },
  {
   "cell_type": "code",
   "execution_count": 6,
   "id": "f70612a3-848d-48e0-929d-f75812f6ad82",
   "metadata": {},
   "outputs": [
    {
     "data": {
      "text/plain": [
       "Index(['duration', 'protocol_type', 'service', 'flag', 'src_bytes',\n",
       "       'dst_bytes', 'land', 'wrong_fragment', 'urgent', 'hot',\n",
       "       'num_failed_logins', 'logged_in', 'num_compromised', 'root_shell',\n",
       "       'su_attempted', 'num_root', 'num_file_creations', 'num_shells',\n",
       "       'num_access_files', 'num_outbound_cmds', 'is_host_login',\n",
       "       'is_guest_login', 'count', 'srv_count', 'serror_rate',\n",
       "       'srv_serror_rate', 'rerror_rate', 'srv_rerror_rate', 'same_srv_rate',\n",
       "       'diff_srv_rate', 'srv_diff_host_rate', 'dst_host_count',\n",
       "       'dst_host_srv_count', 'dst_host_same_srv_rate',\n",
       "       'dst_host_diff_srv_rate', 'dst_host_same_src_port_rate',\n",
       "       'dst_host_srv_diff_host_rate', 'dst_host_serror_rate',\n",
       "       'dst_host_srv_serror_rate', 'dst_host_rerror_rate',\n",
       "       'dst_host_srv_rerror_rate', 'class', 'target', 'Attack Type'],\n",
       "      dtype='object')"
      ]
     },
     "execution_count": 6,
     "metadata": {},
     "output_type": "execute_result"
    }
   ],
   "source": [
    "train.columns"
   ]
  },
  {
   "cell_type": "code",
   "execution_count": 7,
   "id": "bf1c0143-2c8a-4d84-b3bf-c9be5ea56f0f",
   "metadata": {},
   "outputs": [
    {
     "data": {
      "text/plain": [
       "Index(['duration', 'protocol_type', 'service', 'flag', 'src_bytes',\n",
       "       'dst_bytes', 'land', 'wrong_fragment', 'urgent', 'hot',\n",
       "       'num_failed_logins', 'logged_in', 'num_compromised', 'root_shell',\n",
       "       'su_attempted', 'num_root', 'num_file_creations', 'num_shells',\n",
       "       'num_access_files', 'num_outbound_cmds', 'is_host_login',\n",
       "       'is_guest_login', 'count', 'srv_count', 'serror_rate',\n",
       "       'srv_serror_rate', 'rerror_rate', 'srv_rerror_rate', 'same_srv_rate',\n",
       "       'diff_srv_rate', 'srv_diff_host_rate', 'dst_host_count',\n",
       "       'dst_host_srv_count', 'dst_host_same_srv_rate',\n",
       "       'dst_host_diff_srv_rate', 'dst_host_same_src_port_rate',\n",
       "       'dst_host_srv_diff_host_rate', 'dst_host_serror_rate',\n",
       "       'dst_host_srv_serror_rate', 'dst_host_rerror_rate',\n",
       "       'dst_host_srv_rerror_rate', 'class', 'target', 'Attack Type'],\n",
       "      dtype='object')"
      ]
     },
     "execution_count": 7,
     "metadata": {},
     "output_type": "execute_result"
    }
   ],
   "source": [
    "test.columns"
   ]
  },
  {
   "cell_type": "code",
   "execution_count": 8,
   "id": "ce9926f6-6ff1-4633-993e-442d67c0b2ee",
   "metadata": {},
   "outputs": [
    {
     "name": "stdout",
     "output_type": "stream",
     "text": [
      "<class 'pandas.core.frame.DataFrame'>\n",
      "RangeIndex: 25192 entries, 0 to 25191\n",
      "Data columns (total 44 columns):\n",
      " #   Column                       Non-Null Count  Dtype  \n",
      "---  ------                       --------------  -----  \n",
      " 0   duration                     25192 non-null  int64  \n",
      " 1   protocol_type                25192 non-null  object \n",
      " 2   service                      25192 non-null  object \n",
      " 3   flag                         25192 non-null  object \n",
      " 4   src_bytes                    25192 non-null  int64  \n",
      " 5   dst_bytes                    25192 non-null  int64  \n",
      " 6   land                         25192 non-null  int64  \n",
      " 7   wrong_fragment               25192 non-null  int64  \n",
      " 8   urgent                       25192 non-null  int64  \n",
      " 9   hot                          25192 non-null  int64  \n",
      " 10  num_failed_logins            25192 non-null  int64  \n",
      " 11  logged_in                    25192 non-null  int64  \n",
      " 12  num_compromised              25192 non-null  int64  \n",
      " 13  root_shell                   25192 non-null  int64  \n",
      " 14  su_attempted                 25192 non-null  int64  \n",
      " 15  num_root                     25192 non-null  int64  \n",
      " 16  num_file_creations           25192 non-null  int64  \n",
      " 17  num_shells                   25192 non-null  int64  \n",
      " 18  num_access_files             25192 non-null  int64  \n",
      " 19  num_outbound_cmds            25192 non-null  int64  \n",
      " 20  is_host_login                25192 non-null  int64  \n",
      " 21  is_guest_login               25192 non-null  int64  \n",
      " 22  count                        25192 non-null  int64  \n",
      " 23  srv_count                    25192 non-null  int64  \n",
      " 24  serror_rate                  25192 non-null  float64\n",
      " 25  srv_serror_rate              25192 non-null  float64\n",
      " 26  rerror_rate                  25192 non-null  float64\n",
      " 27  srv_rerror_rate              25192 non-null  float64\n",
      " 28  same_srv_rate                25192 non-null  float64\n",
      " 29  diff_srv_rate                25192 non-null  float64\n",
      " 30  srv_diff_host_rate           25192 non-null  float64\n",
      " 31  dst_host_count               25192 non-null  int64  \n",
      " 32  dst_host_srv_count           25192 non-null  int64  \n",
      " 33  dst_host_same_srv_rate       25192 non-null  float64\n",
      " 34  dst_host_diff_srv_rate       25192 non-null  float64\n",
      " 35  dst_host_same_src_port_rate  25192 non-null  float64\n",
      " 36  dst_host_srv_diff_host_rate  25192 non-null  float64\n",
      " 37  dst_host_serror_rate         25192 non-null  float64\n",
      " 38  dst_host_srv_serror_rate     25192 non-null  float64\n",
      " 39  dst_host_rerror_rate         25192 non-null  float64\n",
      " 40  dst_host_srv_rerror_rate     25192 non-null  float64\n",
      " 41  class                        25192 non-null  object \n",
      " 42  target                       25192 non-null  int64  \n",
      " 43  Attack Type                  25192 non-null  object \n",
      "dtypes: float64(15), int64(24), object(5)\n",
      "memory usage: 8.5+ MB\n"
     ]
    }
   ],
   "source": [
    "train.info()"
   ]
  },
  {
   "cell_type": "code",
   "execution_count": 9,
   "id": "084bcda2-f965-463f-9868-0ea114310645",
   "metadata": {},
   "outputs": [
    {
     "data": {
      "text/plain": [
       "array(['normal', 'neptune', 'warezclient', 'ipsweep', 'portsweep',\n",
       "       'teardrop', 'nmap', 'satan', 'smurf', 'pod', 'back',\n",
       "       'guess_passwd', 'ftp_write', 'multihop', 'rootkit',\n",
       "       'buffer_overflow', 'imap', 'warezmaster', 'phf', 'land',\n",
       "       'loadmodule', 'spy'], dtype=object)"
      ]
     },
     "execution_count": 9,
     "metadata": {},
     "output_type": "execute_result"
    }
   ],
   "source": [
    "train[\"class\"].unique()"
   ]
  },
  {
   "cell_type": "code",
   "execution_count": 10,
   "id": "9a435846-b99e-43b0-9f2d-8701be77fbee",
   "metadata": {},
   "outputs": [
    {
     "data": {
      "text/plain": [
       "array([20, 15, 19, 21, 18, 17, 16, 12, 14, 11,  2, 13, 10,  9,  8,  7,  3,\n",
       "        5,  1,  6,  0,  4])"
      ]
     },
     "execution_count": 10,
     "metadata": {},
     "output_type": "execute_result"
    }
   ],
   "source": [
    "train[\"target\"].unique()"
   ]
  },
  {
   "cell_type": "code",
   "execution_count": 11,
   "id": "adb2ba08-f822-42db-8844-f1a7ff075fc8",
   "metadata": {},
   "outputs": [
    {
     "data": {
      "text/html": [
       "<div>\n",
       "<style scoped>\n",
       "    .dataframe tbody tr th:only-of-type {\n",
       "        vertical-align: middle;\n",
       "    }\n",
       "\n",
       "    .dataframe tbody tr th {\n",
       "        vertical-align: top;\n",
       "    }\n",
       "\n",
       "    .dataframe thead th {\n",
       "        text-align: right;\n",
       "    }\n",
       "</style>\n",
       "<table border=\"1\" class=\"dataframe\">\n",
       "  <thead>\n",
       "    <tr style=\"text-align: right;\">\n",
       "      <th></th>\n",
       "      <th>class</th>\n",
       "      <th>target</th>\n",
       "      <th>Attack Type</th>\n",
       "    </tr>\n",
       "  </thead>\n",
       "  <tbody>\n",
       "    <tr>\n",
       "      <th>0</th>\n",
       "      <td>normal</td>\n",
       "      <td>20</td>\n",
       "      <td>normal</td>\n",
       "    </tr>\n",
       "    <tr>\n",
       "      <th>1</th>\n",
       "      <td>normal</td>\n",
       "      <td>15</td>\n",
       "      <td>normal</td>\n",
       "    </tr>\n",
       "    <tr>\n",
       "      <th>2</th>\n",
       "      <td>neptune</td>\n",
       "      <td>19</td>\n",
       "      <td>dos</td>\n",
       "    </tr>\n",
       "    <tr>\n",
       "      <th>3</th>\n",
       "      <td>normal</td>\n",
       "      <td>21</td>\n",
       "      <td>normal</td>\n",
       "    </tr>\n",
       "    <tr>\n",
       "      <th>4</th>\n",
       "      <td>normal</td>\n",
       "      <td>21</td>\n",
       "      <td>normal</td>\n",
       "    </tr>\n",
       "    <tr>\n",
       "      <th>...</th>\n",
       "      <td>...</td>\n",
       "      <td>...</td>\n",
       "      <td>...</td>\n",
       "    </tr>\n",
       "    <tr>\n",
       "      <th>25187</th>\n",
       "      <td>neptune</td>\n",
       "      <td>19</td>\n",
       "      <td>dos</td>\n",
       "    </tr>\n",
       "    <tr>\n",
       "      <th>25188</th>\n",
       "      <td>warezclient</td>\n",
       "      <td>12</td>\n",
       "      <td>r2l</td>\n",
       "    </tr>\n",
       "    <tr>\n",
       "      <th>25189</th>\n",
       "      <td>neptune</td>\n",
       "      <td>21</td>\n",
       "      <td>dos</td>\n",
       "    </tr>\n",
       "    <tr>\n",
       "      <th>25190</th>\n",
       "      <td>neptune</td>\n",
       "      <td>20</td>\n",
       "      <td>dos</td>\n",
       "    </tr>\n",
       "    <tr>\n",
       "      <th>25191</th>\n",
       "      <td>neptune</td>\n",
       "      <td>18</td>\n",
       "      <td>dos</td>\n",
       "    </tr>\n",
       "  </tbody>\n",
       "</table>\n",
       "<p>25192 rows × 3 columns</p>\n",
       "</div>"
      ],
      "text/plain": [
       "             class  target Attack Type\n",
       "0           normal      20      normal\n",
       "1           normal      15      normal\n",
       "2          neptune      19         dos\n",
       "3           normal      21      normal\n",
       "4           normal      21      normal\n",
       "...            ...     ...         ...\n",
       "25187      neptune      19         dos\n",
       "25188  warezclient      12         r2l\n",
       "25189      neptune      21         dos\n",
       "25190      neptune      20         dos\n",
       "25191      neptune      18         dos\n",
       "\n",
       "[25192 rows x 3 columns]"
      ]
     },
     "execution_count": 11,
     "metadata": {},
     "output_type": "execute_result"
    }
   ],
   "source": [
    "train[[\"class\", \"target\", \"Attack Type\"]]"
   ]
  },
  {
   "cell_type": "markdown",
   "id": "89ab4bcd-9e1d-4b2e-a762-070aa1b4b916",
   "metadata": {},
   "source": [
    "Train data plot"
   ]
  },
  {
   "cell_type": "code",
   "execution_count": 12,
   "id": "32579915-a81e-43ac-8b1d-1873ce5d6e87",
   "metadata": {},
   "outputs": [
    {
     "data": {
      "image/png": "[encoded data removed]",
      "text/plain": [
       "<Figure size 2500x2500 with 3 Axes>"
      ]
     },
     "metadata": {},
     "output_type": "display_data"
    }
   ],
   "source": [
    "piePlot(train, [\"protocol_type\", \"class\", \"Attack Type\"], 3, 1)"
   ]
  },
  {
   "cell_type": "markdown",
   "id": "a00f46ac-efd9-4799-8710-81d8cabaa221",
   "metadata": {},
   "source": [
    "Test data plot"
   ]
  },
  {
   "cell_type": "code",
   "execution_count": 13,
   "id": "262b3cfd-691f-4f0f-944d-6c8f1d002bd3",
   "metadata": {},
   "outputs": [
    {
     "data": {
      "image/png": "[encoded data removed]",
      "text/plain": [
       "<Figure size 2500x2500 with 3 Axes>"
      ]
     },
     "metadata": {},
     "output_type": "display_data"
    }
   ],
   "source": [
    "piePlot(train, [\"protocol_type\", \"class\", \"Attack Type\"], 3, 1)"
   ]
  },
  {
   "cell_type": "code",
   "execution_count": 14,
   "id": "17226aef-9cd4-4b7a-a7ab-2820b265a1f0",
   "metadata": {},
   "outputs": [
    {
     "name": "stdout",
     "output_type": "stream",
     "text": [
      "+-----------------------+-------+\n",
      "| protocol_type - Train | Count |\n",
      "+-----------------------+-------+\n",
      "|          tcp          | 20526 |\n",
      "|          udp          |  3011 |\n",
      "|          icmp         |  1655 |\n",
      "+-----------------------+-------+\n",
      "+-----------------+-------+\n",
      "| service - Train | Count |\n",
      "+-----------------+-------+\n",
      "|     ftp_data    |  1396 |\n",
      "|      other      |  858  |\n",
      "|     private     |  4351 |\n",
      "|       http      |  8003 |\n",
      "|    remote_job   |   17  |\n",
      "|       name      |   92  |\n",
      "|    netbios_ns   |   76  |\n",
      "|      eco_i      |  909  |\n",
      "|       mtp       |   90  |\n",
      "|      telnet     |  483  |\n",
      "|      finger     |  366  |\n",
      "|     domain_u    |  1820 |\n",
      "|      supdup     |  114  |\n",
      "|    uucp_path    |  133  |\n",
      "|      Z39_50     |  172  |\n",
      "|       smtp      |  1449 |\n",
      "|     csnet_ns    |  111  |\n",
      "|       uucp      |  157  |\n",
      "|   netbios_dgm   |   85  |\n",
      "|      urp_i      |  124  |\n",
      "|       auth      |  189  |\n",
      "|      domain     |  109  |\n",
      "|       ftp       |  345  |\n",
      "|       bgp       |  146  |\n",
      "|       ldap      |   90  |\n",
      "|      ecr_i      |  613  |\n",
      "|      gopher     |  109  |\n",
      "|      vmnet      |  107  |\n",
      "|      systat     |   88  |\n",
      "|     http_443    |  113  |\n",
      "|       efs       |  110  |\n",
      "|      whois      |  145  |\n",
      "|      imap4      |  138  |\n",
      "|     iso_tsap    |  131  |\n",
      "|       echo      |   65  |\n",
      "|      klogin     |   92  |\n",
      "|       link      |   85  |\n",
      "|      sunrpc     |   67  |\n",
      "|      login      |   79  |\n",
      "|      kshell     |   67  |\n",
      "|     sql_net     |   46  |\n",
      "|       time      |  155  |\n",
      "|    hostnames    |   96  |\n",
      "|       exec      |   91  |\n",
      "|      ntp_u      |   32  |\n",
      "|     discard     |  105  |\n",
      "|       nntp      |   61  |\n",
      "|     courier     |  164  |\n",
      "|       ctf       |  127  |\n",
      "|       ssh       |   58  |\n",
      "|     daytime     |  107  |\n",
      "|      shell      |   11  |\n",
      "|     netstat     |   78  |\n",
      "|      pop_3      |   53  |\n",
      "|       nnsp      |  123  |\n",
      "|       IRC       |   40  |\n",
      "|      pop_2      |   17  |\n",
      "|     printer     |   12  |\n",
      "|      tim_i      |   2   |\n",
      "|     pm_dump     |   3   |\n",
      "|      red_i      |   3   |\n",
      "|   netbios_ssn   |   67  |\n",
      "|       rje       |   20  |\n",
      "|       X11       |   22  |\n",
      "|      urh_i      |   4   |\n",
      "|    http_8001    |   1   |\n",
      "+-----------------+-------+\n",
      "+--------------+-------+\n",
      "| flag - Train | Count |\n",
      "+--------------+-------+\n",
      "|      SF      | 14973 |\n",
      "|      S0      |  7009 |\n",
      "|     REJ      |  2216 |\n",
      "|     RSTR     |  497  |\n",
      "|      SH      |   43  |\n",
      "|     RSTO     |  304  |\n",
      "|      S1      |   88  |\n",
      "|    RSTOS0    |   21  |\n",
      "|      S3      |   15  |\n",
      "|      S2      |   21  |\n",
      "|     OTH      |   5   |\n",
      "+--------------+-------+\n",
      "+-----------------+-------+\n",
      "|  class - Train  | Count |\n",
      "+-----------------+-------+\n",
      "|      normal     | 13449 |\n",
      "|     neptune     |  8282 |\n",
      "|   warezclient   |  181  |\n",
      "|     ipsweep     |  710  |\n",
      "|    portsweep    |  587  |\n",
      "|     teardrop    |  188  |\n",
      "|       nmap      |  301  |\n",
      "|      satan      |  691  |\n",
      "|      smurf      |  529  |\n",
      "|       pod       |   38  |\n",
      "|       back      |  196  |\n",
      "|   guess_passwd  |   10  |\n",
      "|    ftp_write    |   1   |\n",
      "|     multihop    |   2   |\n",
      "|     rootkit     |   4   |\n",
      "| buffer_overflow |   6   |\n",
      "|       imap      |   5   |\n",
      "|   warezmaster   |   7   |\n",
      "|       phf       |   2   |\n",
      "|       land      |   1   |\n",
      "|    loadmodule   |   1   |\n",
      "|       spy       |   1   |\n",
      "+-----------------+-------+\n",
      "+---------------------+-------+\n",
      "| Attack Type - Train | Count |\n",
      "+---------------------+-------+\n",
      "|        normal       | 13449 |\n",
      "|         dos         |  9234 |\n",
      "|         r2l         |  209  |\n",
      "|        probe        |  2289 |\n",
      "|         u2r         |   11  |\n",
      "+---------------------+-------+\n",
      "+----------------------+-------+\n",
      "| protocol_type - Test | Count |\n",
      "+----------------------+-------+\n",
      "|         tcp          | 18880 |\n",
      "|         icmp         |  1043 |\n",
      "|         udp          |  2621 |\n",
      "+----------------------+-------+\n",
      "+----------------+-------+\n",
      "| service - Test | Count |\n",
      "+----------------+-------+\n",
      "|    private     |  4774 |\n",
      "|    ftp_data    |  851  |\n",
      "|     eco_i      |  262  |\n",
      "|     telnet     |  1626 |\n",
      "|      http      |  7853 |\n",
      "|      smtp      |  934  |\n",
      "|      ftp       |  692  |\n",
      "|      ldap      |   19  |\n",
      "|     pop_3      |  1019 |\n",
      "|    courier     |   40  |\n",
      "|    discard     |   26  |\n",
      "|     ecr_i      |  752  |\n",
      "|     imap4      |  306  |\n",
      "|    domain_u    |  894  |\n",
      "|      mtp       |   32  |\n",
      "|     systat     |   32  |\n",
      "|    iso_tsap    |   48  |\n",
      "|     other      |  838  |\n",
      "|    csnet_ns    |   34  |\n",
      "|     finger     |  136  |\n",
      "|      uucp      |   50  |\n",
      "|     whois      |   40  |\n",
      "|   netbios_ns   |   36  |\n",
      "|      link      |   41  |\n",
      "|     Z39_50     |   45  |\n",
      "|     sunrpc     |  159  |\n",
      "|      auth      |   67  |\n",
      "|  netbios_dgm   |   25  |\n",
      "|   uucp_path    |   46  |\n",
      "|     vmnet      |   43  |\n",
      "|     domain     |   51  |\n",
      "|      name      |   37  |\n",
      "|     pop_2      |   13  |\n",
      "|    http_443    |   36  |\n",
      "|     urp_i      |   23  |\n",
      "|     login      |   29  |\n",
      "|     gopher     |   34  |\n",
      "|      exec      |   27  |\n",
      "|      time      |   36  |\n",
      "|   remote_job   |   14  |\n",
      "|      ssh       |   26  |\n",
      "|     kshell     |   24  |\n",
      "|    sql_net     |   18  |\n",
      "|     shell      |   16  |\n",
      "|   hostnames    |   23  |\n",
      "|      echo      |   37  |\n",
      "|    daytime     |   28  |\n",
      "|    pm_dump     |   16  |\n",
      "|      IRC       |   13  |\n",
      "|    netstat     |   26  |\n",
      "|      ctf       |   41  |\n",
      "|      nntp      |   21  |\n",
      "|  netbios_ssn   |   15  |\n",
      "|     tim_i      |   6   |\n",
      "|     supdup     |   27  |\n",
      "|      bgp       |   46  |\n",
      "|      nnsp      |   42  |\n",
      "|      rje       |   8   |\n",
      "|    printer     |   11  |\n",
      "|      efs       |   33  |\n",
      "|      X11       |   15  |\n",
      "|     ntp_u      |   10  |\n",
      "|     klogin     |   21  |\n",
      "|     tftp_u     |   1   |\n",
      "+----------------+-------+\n",
      "+-------------+-------+\n",
      "| flag - Test | Count |\n",
      "+-------------+-------+\n",
      "|     REJ     |  3850 |\n",
      "|      SF     | 14875 |\n",
      "|     RSTO    |  773  |\n",
      "|      S0     |  2013 |\n",
      "|     RSTR    |  669  |\n",
      "|      SH     |   73  |\n",
      "|      S3     |  249  |\n",
      "|      S2     |   15  |\n",
      "|      S1     |   21  |\n",
      "|    RSTOS0   |   2   |\n",
      "|     OTH     |   4   |\n",
      "+-------------+-------+\n",
      "+-----------------+-------+\n",
      "|   class - Test  | Count |\n",
      "+-----------------+-------+\n",
      "|     neptune     |  4657 |\n",
      "|      normal     |  9711 |\n",
      "|      saint      |  319  |\n",
      "|      mscan      |  996  |\n",
      "|   guess_passwd  |  1231 |\n",
      "|      smurf      |  665  |\n",
      "|     apache2     |  737  |\n",
      "|      satan      |  735  |\n",
      "| buffer_overflow |   20  |\n",
      "|       back      |  359  |\n",
      "|   warezmaster   |  944  |\n",
      "|  snmpgetattack  |  178  |\n",
      "|   processtable  |  685  |\n",
      "|       pod       |   41  |\n",
      "|    httptunnel   |  133  |\n",
      "|       nmap      |   73  |\n",
      "|        ps       |   15  |\n",
      "|    snmpguess    |  331  |\n",
      "|     ipsweep     |  141  |\n",
      "|     mailbomb    |  293  |\n",
      "|    portsweep    |  157  |\n",
      "|     multihop    |   18  |\n",
      "|      named      |   17  |\n",
      "|     sendmail    |   14  |\n",
      "|    loadmodule   |   2   |\n",
      "|      xterm      |   13  |\n",
      "|       worm      |   2   |\n",
      "|     teardrop    |   12  |\n",
      "|     rootkit     |   13  |\n",
      "|      xlock      |   9   |\n",
      "|       perl      |   2   |\n",
      "|       land      |   7   |\n",
      "|      xsnoop     |   4   |\n",
      "|    sqlattack    |   2   |\n",
      "|    ftp_write    |   3   |\n",
      "|       imap      |   1   |\n",
      "|     udpstorm    |   2   |\n",
      "|       phf       |   2   |\n",
      "+-----------------+-------+\n",
      "+--------------------+-------+\n",
      "| Attack Type - Test | Count |\n",
      "+--------------------+-------+\n",
      "|        dos         |  7458 |\n",
      "|       normal       |  9711 |\n",
      "|       probe        |  2421 |\n",
      "|        r2l         |  2754 |\n",
      "|        u2r         |  200  |\n",
      "+--------------------+-------+\n"
     ]
    }
   ],
   "source": [
    "datasets = [train, test]\n",
    "columns = train.select_dtypes(include='object')\n",
    "\n",
    "for dataset in datasets:\n",
    "    for column in columns:\n",
    "        printColumns(dataset, column)"
   ]
  },
  {
   "cell_type": "code",
   "execution_count": 15,
   "id": "8b598eb0-13de-4a0e-a32c-bdbcab8ec3b4",
   "metadata": {},
   "outputs": [
    {
     "data": {
      "text/plain": [
       "Index(['duration', 'protocol_type', 'service', 'flag', 'src_bytes',\n",
       "       'dst_bytes', 'land', 'wrong_fragment', 'urgent', 'hot',\n",
       "       'num_failed_logins', 'logged_in', 'num_compromised', 'root_shell',\n",
       "       'su_attempted', 'num_root', 'num_file_creations', 'num_shells',\n",
       "       'num_access_files', 'num_outbound_cmds', 'is_host_login',\n",
       "       'is_guest_login', 'count', 'srv_count', 'serror_rate',\n",
       "       'srv_serror_rate', 'rerror_rate', 'srv_rerror_rate', 'same_srv_rate',\n",
       "       'diff_srv_rate', 'srv_diff_host_rate', 'dst_host_count',\n",
       "       'dst_host_srv_count', 'dst_host_same_srv_rate',\n",
       "       'dst_host_diff_srv_rate', 'dst_host_same_src_port_rate',\n",
       "       'dst_host_srv_diff_host_rate', 'dst_host_serror_rate',\n",
       "       'dst_host_srv_serror_rate', 'dst_host_rerror_rate',\n",
       "       'dst_host_srv_rerror_rate', 'class', 'target', 'Attack Type'],\n",
       "      dtype='object')"
      ]
     },
     "execution_count": 15,
     "metadata": {},
     "output_type": "execute_result"
    }
   ],
   "source": [
    "train.columns"
   ]
  },
  {
   "cell_type": "code",
   "execution_count": 16,
   "id": "eb8cc1b4-b245-4307-9e5a-95b0e1458f14",
   "metadata": {},
   "outputs": [
    {
     "data": {
      "text/plain": [
       "0             normal\n",
       "1             normal\n",
       "2            neptune\n",
       "3             normal\n",
       "4             normal\n",
       "            ...     \n",
       "25187        neptune\n",
       "25188    warezclient\n",
       "25189        neptune\n",
       "25190        neptune\n",
       "25191        neptune\n",
       "Name: class, Length: 25192, dtype: object"
      ]
     },
     "execution_count": 16,
     "metadata": {},
     "output_type": "execute_result"
    }
   ],
   "source": [
    "train[\"class\"]"
   ]
  },
  {
   "cell_type": "code",
   "execution_count": 17,
   "id": "818b9277-54d0-4344-ae40-7156b6d7ff41",
   "metadata": {},
   "outputs": [
    {
     "data": {
      "text/plain": [
       "Index(['duration', 'protocol_type', 'service', 'flag', 'src_bytes',\n",
       "       'dst_bytes', 'land', 'wrong_fragment', 'urgent', 'hot',\n",
       "       'num_failed_logins', 'logged_in', 'num_compromised', 'root_shell',\n",
       "       'su_attempted', 'num_root', 'num_file_creations', 'num_shells',\n",
       "       'num_access_files', 'num_outbound_cmds', 'is_host_login',\n",
       "       'is_guest_login', 'count', 'srv_count', 'serror_rate',\n",
       "       'srv_serror_rate', 'rerror_rate', 'srv_rerror_rate', 'same_srv_rate',\n",
       "       'diff_srv_rate', 'srv_diff_host_rate', 'dst_host_count',\n",
       "       'dst_host_srv_count', 'dst_host_same_srv_rate',\n",
       "       'dst_host_diff_srv_rate', 'dst_host_same_src_port_rate',\n",
       "       'dst_host_srv_diff_host_rate', 'dst_host_serror_rate',\n",
       "       'dst_host_srv_serror_rate', 'dst_host_rerror_rate',\n",
       "       'dst_host_srv_rerror_rate', 'class', 'target', 'Attack Type'],\n",
       "      dtype='object')"
      ]
     },
     "execution_count": 17,
     "metadata": {},
     "output_type": "execute_result"
    }
   ],
   "source": [
    "test.columns"
   ]
  },
  {
   "cell_type": "code",
   "execution_count": 18,
   "id": "4480d7e3-a00d-49e4-b20e-75363c604766",
   "metadata": {},
   "outputs": [
    {
     "data": {
      "text/plain": [
       "duration                       0\n",
       "protocol_type                  0\n",
       "service                        0\n",
       "flag                           0\n",
       "src_bytes                      0\n",
       "dst_bytes                      0\n",
       "land                           0\n",
       "wrong_fragment                 0\n",
       "urgent                         0\n",
       "hot                            0\n",
       "num_failed_logins              0\n",
       "logged_in                      0\n",
       "num_compromised                0\n",
       "root_shell                     0\n",
       "su_attempted                   0\n",
       "num_root                       0\n",
       "num_file_creations             0\n",
       "num_shells                     0\n",
       "num_access_files               0\n",
       "num_outbound_cmds              0\n",
       "is_host_login                  0\n",
       "is_guest_login                 0\n",
       "count                          0\n",
       "srv_count                      0\n",
       "serror_rate                    0\n",
       "srv_serror_rate                0\n",
       "rerror_rate                    0\n",
       "srv_rerror_rate                0\n",
       "same_srv_rate                  0\n",
       "diff_srv_rate                  0\n",
       "srv_diff_host_rate             0\n",
       "dst_host_count                 0\n",
       "dst_host_srv_count             0\n",
       "dst_host_same_srv_rate         0\n",
       "dst_host_diff_srv_rate         0\n",
       "dst_host_same_src_port_rate    0\n",
       "dst_host_srv_diff_host_rate    0\n",
       "dst_host_serror_rate           0\n",
       "dst_host_srv_serror_rate       0\n",
       "dst_host_rerror_rate           0\n",
       "dst_host_srv_rerror_rate       0\n",
       "class                          0\n",
       "target                         0\n",
       "Attack Type                    0\n",
       "dtype: int64"
      ]
     },
     "execution_count": 18,
     "metadata": {},
     "output_type": "execute_result"
    }
   ],
   "source": [
    "train.isna().sum()"
   ]
  },
  {
   "cell_type": "code",
   "execution_count": 19,
   "id": "6f96038a-647b-448d-b257-134bf6fd9863",
   "metadata": {},
   "outputs": [
    {
     "data": {
      "text/plain": [
       "duration                       0\n",
       "protocol_type                  0\n",
       "service                        0\n",
       "flag                           0\n",
       "src_bytes                      0\n",
       "dst_bytes                      0\n",
       "land                           0\n",
       "wrong_fragment                 0\n",
       "urgent                         0\n",
       "hot                            0\n",
       "num_failed_logins              0\n",
       "logged_in                      0\n",
       "num_compromised                0\n",
       "root_shell                     0\n",
       "su_attempted                   0\n",
       "num_root                       0\n",
       "num_file_creations             0\n",
       "num_shells                     0\n",
       "num_access_files               0\n",
       "num_outbound_cmds              0\n",
       "is_host_login                  0\n",
       "is_guest_login                 0\n",
       "count                          0\n",
       "srv_count                      0\n",
       "serror_rate                    0\n",
       "srv_serror_rate                0\n",
       "rerror_rate                    0\n",
       "srv_rerror_rate                0\n",
       "same_srv_rate                  0\n",
       "diff_srv_rate                  0\n",
       "srv_diff_host_rate             0\n",
       "dst_host_count                 0\n",
       "dst_host_srv_count             0\n",
       "dst_host_same_srv_rate         0\n",
       "dst_host_diff_srv_rate         0\n",
       "dst_host_same_src_port_rate    0\n",
       "dst_host_srv_diff_host_rate    0\n",
       "dst_host_serror_rate           0\n",
       "dst_host_srv_serror_rate       0\n",
       "dst_host_rerror_rate           0\n",
       "dst_host_srv_rerror_rate       0\n",
       "class                          0\n",
       "target                         0\n",
       "Attack Type                    0\n",
       "dtype: int64"
      ]
     },
     "execution_count": 19,
     "metadata": {},
     "output_type": "execute_result"
    }
   ],
   "source": [
    "test.isna().sum()"
   ]
  },
  {
   "cell_type": "markdown",
   "id": "459c81ad-dba0-4b33-89fc-02c29bc18baa",
   "metadata": {},
   "source": [
    "## 2. Data Preprocessing"
   ]
  },
  {
   "cell_type": "code",
   "execution_count": 20,
   "id": "ae21ec96-a94e-4d2e-98ed-fb1dd033724f",
   "metadata": {},
   "outputs": [
    {
     "data": {
      "text/html": [
       "<div>\n",
       "<style scoped>\n",
       "    .dataframe tbody tr th:only-of-type {\n",
       "        vertical-align: middle;\n",
       "    }\n",
       "\n",
       "    .dataframe tbody tr th {\n",
       "        vertical-align: top;\n",
       "    }\n",
       "\n",
       "    .dataframe thead th {\n",
       "        text-align: right;\n",
       "    }\n",
       "</style>\n",
       "<table border=\"1\" class=\"dataframe\">\n",
       "  <thead>\n",
       "    <tr style=\"text-align: right;\">\n",
       "      <th></th>\n",
       "      <th>duration</th>\n",
       "      <th>protocol_type</th>\n",
       "      <th>service</th>\n",
       "      <th>flag</th>\n",
       "      <th>src_bytes</th>\n",
       "      <th>dst_bytes</th>\n",
       "      <th>land</th>\n",
       "      <th>wrong_fragment</th>\n",
       "      <th>urgent</th>\n",
       "      <th>hot</th>\n",
       "      <th>...</th>\n",
       "      <th>dst_host_diff_srv_rate</th>\n",
       "      <th>dst_host_same_src_port_rate</th>\n",
       "      <th>dst_host_srv_diff_host_rate</th>\n",
       "      <th>dst_host_serror_rate</th>\n",
       "      <th>dst_host_srv_serror_rate</th>\n",
       "      <th>dst_host_rerror_rate</th>\n",
       "      <th>dst_host_srv_rerror_rate</th>\n",
       "      <th>class</th>\n",
       "      <th>target</th>\n",
       "      <th>Attack Type</th>\n",
       "    </tr>\n",
       "  </thead>\n",
       "  <tbody>\n",
       "    <tr>\n",
       "      <th>0</th>\n",
       "      <td>0</td>\n",
       "      <td>tcp</td>\n",
       "      <td>ftp_data</td>\n",
       "      <td>SF</td>\n",
       "      <td>491</td>\n",
       "      <td>0</td>\n",
       "      <td>0</td>\n",
       "      <td>0</td>\n",
       "      <td>0</td>\n",
       "      <td>0</td>\n",
       "      <td>...</td>\n",
       "      <td>0.03</td>\n",
       "      <td>0.17</td>\n",
       "      <td>0.00</td>\n",
       "      <td>0.00</td>\n",
       "      <td>0.00</td>\n",
       "      <td>0.05</td>\n",
       "      <td>0.00</td>\n",
       "      <td>normal</td>\n",
       "      <td>20</td>\n",
       "      <td>normal</td>\n",
       "    </tr>\n",
       "    <tr>\n",
       "      <th>1</th>\n",
       "      <td>0</td>\n",
       "      <td>udp</td>\n",
       "      <td>other</td>\n",
       "      <td>SF</td>\n",
       "      <td>146</td>\n",
       "      <td>0</td>\n",
       "      <td>0</td>\n",
       "      <td>0</td>\n",
       "      <td>0</td>\n",
       "      <td>0</td>\n",
       "      <td>...</td>\n",
       "      <td>0.60</td>\n",
       "      <td>0.88</td>\n",
       "      <td>0.00</td>\n",
       "      <td>0.00</td>\n",
       "      <td>0.00</td>\n",
       "      <td>0.00</td>\n",
       "      <td>0.00</td>\n",
       "      <td>normal</td>\n",
       "      <td>15</td>\n",
       "      <td>normal</td>\n",
       "    </tr>\n",
       "    <tr>\n",
       "      <th>2</th>\n",
       "      <td>0</td>\n",
       "      <td>tcp</td>\n",
       "      <td>private</td>\n",
       "      <td>S0</td>\n",
       "      <td>0</td>\n",
       "      <td>0</td>\n",
       "      <td>0</td>\n",
       "      <td>0</td>\n",
       "      <td>0</td>\n",
       "      <td>0</td>\n",
       "      <td>...</td>\n",
       "      <td>0.05</td>\n",
       "      <td>0.00</td>\n",
       "      <td>0.00</td>\n",
       "      <td>1.00</td>\n",
       "      <td>1.00</td>\n",
       "      <td>0.00</td>\n",
       "      <td>0.00</td>\n",
       "      <td>neptune</td>\n",
       "      <td>19</td>\n",
       "      <td>dos</td>\n",
       "    </tr>\n",
       "    <tr>\n",
       "      <th>3</th>\n",
       "      <td>0</td>\n",
       "      <td>tcp</td>\n",
       "      <td>http</td>\n",
       "      <td>SF</td>\n",
       "      <td>232</td>\n",
       "      <td>8153</td>\n",
       "      <td>0</td>\n",
       "      <td>0</td>\n",
       "      <td>0</td>\n",
       "      <td>0</td>\n",
       "      <td>...</td>\n",
       "      <td>0.00</td>\n",
       "      <td>0.03</td>\n",
       "      <td>0.04</td>\n",
       "      <td>0.03</td>\n",
       "      <td>0.01</td>\n",
       "      <td>0.00</td>\n",
       "      <td>0.01</td>\n",
       "      <td>normal</td>\n",
       "      <td>21</td>\n",
       "      <td>normal</td>\n",
       "    </tr>\n",
       "    <tr>\n",
       "      <th>4</th>\n",
       "      <td>0</td>\n",
       "      <td>tcp</td>\n",
       "      <td>http</td>\n",
       "      <td>SF</td>\n",
       "      <td>199</td>\n",
       "      <td>420</td>\n",
       "      <td>0</td>\n",
       "      <td>0</td>\n",
       "      <td>0</td>\n",
       "      <td>0</td>\n",
       "      <td>...</td>\n",
       "      <td>0.00</td>\n",
       "      <td>0.00</td>\n",
       "      <td>0.00</td>\n",
       "      <td>0.00</td>\n",
       "      <td>0.00</td>\n",
       "      <td>0.00</td>\n",
       "      <td>0.00</td>\n",
       "      <td>normal</td>\n",
       "      <td>21</td>\n",
       "      <td>normal</td>\n",
       "    </tr>\n",
       "    <tr>\n",
       "      <th>...</th>\n",
       "      <td>...</td>\n",
       "      <td>...</td>\n",
       "      <td>...</td>\n",
       "      <td>...</td>\n",
       "      <td>...</td>\n",
       "      <td>...</td>\n",
       "      <td>...</td>\n",
       "      <td>...</td>\n",
       "      <td>...</td>\n",
       "      <td>...</td>\n",
       "      <td>...</td>\n",
       "      <td>...</td>\n",
       "      <td>...</td>\n",
       "      <td>...</td>\n",
       "      <td>...</td>\n",
       "      <td>...</td>\n",
       "      <td>...</td>\n",
       "      <td>...</td>\n",
       "      <td>...</td>\n",
       "      <td>...</td>\n",
       "      <td>...</td>\n",
       "    </tr>\n",
       "    <tr>\n",
       "      <th>22539</th>\n",
       "      <td>0</td>\n",
       "      <td>tcp</td>\n",
       "      <td>smtp</td>\n",
       "      <td>SF</td>\n",
       "      <td>794</td>\n",
       "      <td>333</td>\n",
       "      <td>0</td>\n",
       "      <td>0</td>\n",
       "      <td>0</td>\n",
       "      <td>0</td>\n",
       "      <td>...</td>\n",
       "      <td>0.06</td>\n",
       "      <td>0.01</td>\n",
       "      <td>0.01</td>\n",
       "      <td>0.01</td>\n",
       "      <td>0.00</td>\n",
       "      <td>0.00</td>\n",
       "      <td>0.00</td>\n",
       "      <td>normal</td>\n",
       "      <td>21</td>\n",
       "      <td>normal</td>\n",
       "    </tr>\n",
       "    <tr>\n",
       "      <th>22540</th>\n",
       "      <td>0</td>\n",
       "      <td>tcp</td>\n",
       "      <td>http</td>\n",
       "      <td>SF</td>\n",
       "      <td>317</td>\n",
       "      <td>938</td>\n",
       "      <td>0</td>\n",
       "      <td>0</td>\n",
       "      <td>0</td>\n",
       "      <td>0</td>\n",
       "      <td>...</td>\n",
       "      <td>0.00</td>\n",
       "      <td>0.01</td>\n",
       "      <td>0.01</td>\n",
       "      <td>0.01</td>\n",
       "      <td>0.00</td>\n",
       "      <td>0.00</td>\n",
       "      <td>0.00</td>\n",
       "      <td>normal</td>\n",
       "      <td>21</td>\n",
       "      <td>normal</td>\n",
       "    </tr>\n",
       "    <tr>\n",
       "      <th>22541</th>\n",
       "      <td>0</td>\n",
       "      <td>tcp</td>\n",
       "      <td>http</td>\n",
       "      <td>SF</td>\n",
       "      <td>54540</td>\n",
       "      <td>8314</td>\n",
       "      <td>0</td>\n",
       "      <td>0</td>\n",
       "      <td>0</td>\n",
       "      <td>2</td>\n",
       "      <td>...</td>\n",
       "      <td>0.00</td>\n",
       "      <td>0.00</td>\n",
       "      <td>0.00</td>\n",
       "      <td>0.00</td>\n",
       "      <td>0.00</td>\n",
       "      <td>0.07</td>\n",
       "      <td>0.07</td>\n",
       "      <td>back</td>\n",
       "      <td>15</td>\n",
       "      <td>dos</td>\n",
       "    </tr>\n",
       "    <tr>\n",
       "      <th>22542</th>\n",
       "      <td>0</td>\n",
       "      <td>udp</td>\n",
       "      <td>domain_u</td>\n",
       "      <td>SF</td>\n",
       "      <td>42</td>\n",
       "      <td>42</td>\n",
       "      <td>0</td>\n",
       "      <td>0</td>\n",
       "      <td>0</td>\n",
       "      <td>0</td>\n",
       "      <td>...</td>\n",
       "      <td>0.01</td>\n",
       "      <td>0.00</td>\n",
       "      <td>0.00</td>\n",
       "      <td>0.00</td>\n",
       "      <td>0.00</td>\n",
       "      <td>0.00</td>\n",
       "      <td>0.00</td>\n",
       "      <td>normal</td>\n",
       "      <td>21</td>\n",
       "      <td>normal</td>\n",
       "    </tr>\n",
       "    <tr>\n",
       "      <th>22543</th>\n",
       "      <td>0</td>\n",
       "      <td>tcp</td>\n",
       "      <td>sunrpc</td>\n",
       "      <td>REJ</td>\n",
       "      <td>0</td>\n",
       "      <td>0</td>\n",
       "      <td>0</td>\n",
       "      <td>0</td>\n",
       "      <td>0</td>\n",
       "      <td>0</td>\n",
       "      <td>...</td>\n",
       "      <td>0.03</td>\n",
       "      <td>0.00</td>\n",
       "      <td>0.00</td>\n",
       "      <td>0.00</td>\n",
       "      <td>0.00</td>\n",
       "      <td>0.44</td>\n",
       "      <td>1.00</td>\n",
       "      <td>mscan</td>\n",
       "      <td>14</td>\n",
       "      <td>probe</td>\n",
       "    </tr>\n",
       "  </tbody>\n",
       "</table>\n",
       "<p>47736 rows × 44 columns</p>\n",
       "</div>"
      ],
      "text/plain": [
       "       duration protocol_type   service flag  src_bytes  dst_bytes  land  \\\n",
       "0             0           tcp  ftp_data   SF        491          0     0   \n",
       "1             0           udp     other   SF        146          0     0   \n",
       "2             0           tcp   private   S0          0          0     0   \n",
       "3             0           tcp      http   SF        232       8153     0   \n",
       "4             0           tcp      http   SF        199        420     0   \n",
       "...         ...           ...       ...  ...        ...        ...   ...   \n",
       "22539         0           tcp      smtp   SF        794        333     0   \n",
       "22540         0           tcp      http   SF        317        938     0   \n",
       "22541         0           tcp      http   SF      54540       8314     0   \n",
       "22542         0           udp  domain_u   SF         42         42     0   \n",
       "22543         0           tcp    sunrpc  REJ          0          0     0   \n",
       "\n",
       "       wrong_fragment  urgent  hot  ...  dst_host_diff_srv_rate  \\\n",
       "0                   0       0    0  ...                    0.03   \n",
       "1                   0       0    0  ...                    0.60   \n",
       "2                   0       0    0  ...                    0.05   \n",
       "3                   0       0    0  ...                    0.00   \n",
       "4                   0       0    0  ...                    0.00   \n",
       "...               ...     ...  ...  ...                     ...   \n",
       "22539               0       0    0  ...                    0.06   \n",
       "22540               0       0    0  ...                    0.00   \n",
       "22541               0       0    2  ...                    0.00   \n",
       "22542               0       0    0  ...                    0.01   \n",
       "22543               0       0    0  ...                    0.03   \n",
       "\n",
       "       dst_host_same_src_port_rate  dst_host_srv_diff_host_rate  \\\n",
       "0                             0.17                         0.00   \n",
       "1                             0.88                         0.00   \n",
       "2                             0.00                         0.00   \n",
       "3                             0.03                         0.04   \n",
       "4                             0.00                         0.00   \n",
       "...                            ...                          ...   \n",
       "22539                         0.01                         0.01   \n",
       "22540                         0.01                         0.01   \n",
       "22541                         0.00                         0.00   \n",
       "22542                         0.00                         0.00   \n",
       "22543                         0.00                         0.00   \n",
       "\n",
       "       dst_host_serror_rate  dst_host_srv_serror_rate  dst_host_rerror_rate  \\\n",
       "0                      0.00                      0.00                  0.05   \n",
       "1                      0.00                      0.00                  0.00   \n",
       "2                      1.00                      1.00                  0.00   \n",
       "3                      0.03                      0.01                  0.00   \n",
       "4                      0.00                      0.00                  0.00   \n",
       "...                     ...                       ...                   ...   \n",
       "22539                  0.01                      0.00                  0.00   \n",
       "22540                  0.01                      0.00                  0.00   \n",
       "22541                  0.00                      0.00                  0.07   \n",
       "22542                  0.00                      0.00                  0.00   \n",
       "22543                  0.00                      0.00                  0.44   \n",
       "\n",
       "       dst_host_srv_rerror_rate    class  target  Attack Type  \n",
       "0                          0.00   normal      20       normal  \n",
       "1                          0.00   normal      15       normal  \n",
       "2                          0.00  neptune      19          dos  \n",
       "3                          0.01   normal      21       normal  \n",
       "4                          0.00   normal      21       normal  \n",
       "...                         ...      ...     ...          ...  \n",
       "22539                      0.00   normal      21       normal  \n",
       "22540                      0.00   normal      21       normal  \n",
       "22541                      0.07     back      15          dos  \n",
       "22542                      0.00   normal      21       normal  \n",
       "22543                      1.00    mscan      14        probe  \n",
       "\n",
       "[47736 rows x 44 columns]"
      ]
     },
     "execution_count": 20,
     "metadata": {},
     "output_type": "execute_result"
    }
   ],
   "source": [
    "data = pd.concat([train, test])\n",
    "data"
   ]
  },
  {
   "cell_type": "code",
   "execution_count": 21,
   "id": "99671a38-1156-4ef9-b407-1a02553bc079",
   "metadata": {},
   "outputs": [],
   "source": [
    "data = data.drop([\"class\", \"target\"], axis=1)\n",
    "data = data.reset_index()"
   ]
  },
  {
   "cell_type": "code",
   "execution_count": 22,
   "id": "ad432eef-bb25-4cc5-b104-43deb446c522",
   "metadata": {},
   "outputs": [],
   "source": [
    "X = data.drop([\"Attack Type\"], axis=1)\n",
    "y = data[\"Attack Type\"]"
   ]
  },
  {
   "cell_type": "code",
   "execution_count": 23,
   "id": "11365299-bf26-4472-a05c-ef6cdb12bc26",
   "metadata": {},
   "outputs": [
    {
     "data": {
      "text/html": [
       "<div>\n",
       "<style scoped>\n",
       "    .dataframe tbody tr th:only-of-type {\n",
       "        vertical-align: middle;\n",
       "    }\n",
       "\n",
       "    .dataframe tbody tr th {\n",
       "        vertical-align: top;\n",
       "    }\n",
       "\n",
       "    .dataframe thead th {\n",
       "        text-align: right;\n",
       "    }\n",
       "</style>\n",
       "<table border=\"1\" class=\"dataframe\">\n",
       "  <thead>\n",
       "    <tr style=\"text-align: right;\">\n",
       "      <th></th>\n",
       "      <th>index</th>\n",
       "      <th>duration</th>\n",
       "      <th>protocol_type</th>\n",
       "      <th>service</th>\n",
       "      <th>flag</th>\n",
       "      <th>src_bytes</th>\n",
       "      <th>dst_bytes</th>\n",
       "      <th>land</th>\n",
       "      <th>wrong_fragment</th>\n",
       "      <th>urgent</th>\n",
       "      <th>...</th>\n",
       "      <th>dst_host_count</th>\n",
       "      <th>dst_host_srv_count</th>\n",
       "      <th>dst_host_same_srv_rate</th>\n",
       "      <th>dst_host_diff_srv_rate</th>\n",
       "      <th>dst_host_same_src_port_rate</th>\n",
       "      <th>dst_host_srv_diff_host_rate</th>\n",
       "      <th>dst_host_serror_rate</th>\n",
       "      <th>dst_host_srv_serror_rate</th>\n",
       "      <th>dst_host_rerror_rate</th>\n",
       "      <th>dst_host_srv_rerror_rate</th>\n",
       "    </tr>\n",
       "  </thead>\n",
       "  <tbody>\n",
       "    <tr>\n",
       "      <th>0</th>\n",
       "      <td>0</td>\n",
       "      <td>0</td>\n",
       "      <td>tcp</td>\n",
       "      <td>ftp_data</td>\n",
       "      <td>SF</td>\n",
       "      <td>491</td>\n",
       "      <td>0</td>\n",
       "      <td>0</td>\n",
       "      <td>0</td>\n",
       "      <td>0</td>\n",
       "      <td>...</td>\n",
       "      <td>150</td>\n",
       "      <td>25</td>\n",
       "      <td>0.17</td>\n",
       "      <td>0.03</td>\n",
       "      <td>0.17</td>\n",
       "      <td>0.00</td>\n",
       "      <td>0.00</td>\n",
       "      <td>0.00</td>\n",
       "      <td>0.05</td>\n",
       "      <td>0.00</td>\n",
       "    </tr>\n",
       "    <tr>\n",
       "      <th>1</th>\n",
       "      <td>1</td>\n",
       "      <td>0</td>\n",
       "      <td>udp</td>\n",
       "      <td>other</td>\n",
       "      <td>SF</td>\n",
       "      <td>146</td>\n",
       "      <td>0</td>\n",
       "      <td>0</td>\n",
       "      <td>0</td>\n",
       "      <td>0</td>\n",
       "      <td>...</td>\n",
       "      <td>255</td>\n",
       "      <td>1</td>\n",
       "      <td>0.00</td>\n",
       "      <td>0.60</td>\n",
       "      <td>0.88</td>\n",
       "      <td>0.00</td>\n",
       "      <td>0.00</td>\n",
       "      <td>0.00</td>\n",
       "      <td>0.00</td>\n",
       "      <td>0.00</td>\n",
       "    </tr>\n",
       "    <tr>\n",
       "      <th>2</th>\n",
       "      <td>2</td>\n",
       "      <td>0</td>\n",
       "      <td>tcp</td>\n",
       "      <td>private</td>\n",
       "      <td>S0</td>\n",
       "      <td>0</td>\n",
       "      <td>0</td>\n",
       "      <td>0</td>\n",
       "      <td>0</td>\n",
       "      <td>0</td>\n",
       "      <td>...</td>\n",
       "      <td>255</td>\n",
       "      <td>26</td>\n",
       "      <td>0.10</td>\n",
       "      <td>0.05</td>\n",
       "      <td>0.00</td>\n",
       "      <td>0.00</td>\n",
       "      <td>1.00</td>\n",
       "      <td>1.00</td>\n",
       "      <td>0.00</td>\n",
       "      <td>0.00</td>\n",
       "    </tr>\n",
       "    <tr>\n",
       "      <th>3</th>\n",
       "      <td>3</td>\n",
       "      <td>0</td>\n",
       "      <td>tcp</td>\n",
       "      <td>http</td>\n",
       "      <td>SF</td>\n",
       "      <td>232</td>\n",
       "      <td>8153</td>\n",
       "      <td>0</td>\n",
       "      <td>0</td>\n",
       "      <td>0</td>\n",
       "      <td>...</td>\n",
       "      <td>30</td>\n",
       "      <td>255</td>\n",
       "      <td>1.00</td>\n",
       "      <td>0.00</td>\n",
       "      <td>0.03</td>\n",
       "      <td>0.04</td>\n",
       "      <td>0.03</td>\n",
       "      <td>0.01</td>\n",
       "      <td>0.00</td>\n",
       "      <td>0.01</td>\n",
       "    </tr>\n",
       "    <tr>\n",
       "      <th>4</th>\n",
       "      <td>4</td>\n",
       "      <td>0</td>\n",
       "      <td>tcp</td>\n",
       "      <td>http</td>\n",
       "      <td>SF</td>\n",
       "      <td>199</td>\n",
       "      <td>420</td>\n",
       "      <td>0</td>\n",
       "      <td>0</td>\n",
       "      <td>0</td>\n",
       "      <td>...</td>\n",
       "      <td>255</td>\n",
       "      <td>255</td>\n",
       "      <td>1.00</td>\n",
       "      <td>0.00</td>\n",
       "      <td>0.00</td>\n",
       "      <td>0.00</td>\n",
       "      <td>0.00</td>\n",
       "      <td>0.00</td>\n",
       "      <td>0.00</td>\n",
       "      <td>0.00</td>\n",
       "    </tr>\n",
       "  </tbody>\n",
       "</table>\n",
       "<p>5 rows × 42 columns</p>\n",
       "</div>"
      ],
      "text/plain": [
       "   index  duration protocol_type   service flag  src_bytes  dst_bytes  land  \\\n",
       "0      0         0           tcp  ftp_data   SF        491          0     0   \n",
       "1      1         0           udp     other   SF        146          0     0   \n",
       "2      2         0           tcp   private   S0          0          0     0   \n",
       "3      3         0           tcp      http   SF        232       8153     0   \n",
       "4      4         0           tcp      http   SF        199        420     0   \n",
       "\n",
       "   wrong_fragment  urgent  ...  dst_host_count  dst_host_srv_count  \\\n",
       "0               0       0  ...             150                  25   \n",
       "1               0       0  ...             255                   1   \n",
       "2               0       0  ...             255                  26   \n",
       "3               0       0  ...              30                 255   \n",
       "4               0       0  ...             255                 255   \n",
       "\n",
       "   dst_host_same_srv_rate  dst_host_diff_srv_rate  \\\n",
       "0                    0.17                    0.03   \n",
       "1                    0.00                    0.60   \n",
       "2                    0.10                    0.05   \n",
       "3                    1.00                    0.00   \n",
       "4                    1.00                    0.00   \n",
       "\n",
       "   dst_host_same_src_port_rate  dst_host_srv_diff_host_rate  \\\n",
       "0                         0.17                         0.00   \n",
       "1                         0.88                         0.00   \n",
       "2                         0.00                         0.00   \n",
       "3                         0.03                         0.04   \n",
       "4                         0.00                         0.00   \n",
       "\n",
       "   dst_host_serror_rate  dst_host_srv_serror_rate  dst_host_rerror_rate  \\\n",
       "0                  0.00                      0.00                  0.05   \n",
       "1                  0.00                      0.00                  0.00   \n",
       "2                  1.00                      1.00                  0.00   \n",
       "3                  0.03                      0.01                  0.00   \n",
       "4                  0.00                      0.00                  0.00   \n",
       "\n",
       "   dst_host_srv_rerror_rate  \n",
       "0                      0.00  \n",
       "1                      0.00  \n",
       "2                      0.00  \n",
       "3                      0.01  \n",
       "4                      0.00  \n",
       "\n",
       "[5 rows x 42 columns]"
      ]
     },
     "execution_count": 23,
     "metadata": {},
     "output_type": "execute_result"
    }
   ],
   "source": [
    "X.head()"
   ]
  },
  {
   "cell_type": "code",
   "execution_count": 24,
   "id": "0f01091b-2ffc-4f10-8f93-bdb3cc6d50d0",
   "metadata": {},
   "outputs": [],
   "source": [
    "le = LabelEncoder()\n",
    "y = le.fit_transform(y.to_numpy())"
   ]
  },
  {
   "cell_type": "code",
   "execution_count": 25,
   "id": "43ba4dc9-dcc9-4d2f-a8ba-4ba782bac540",
   "metadata": {},
   "outputs": [],
   "source": [
    "def encodeData(df, columns, encoder):\n",
    "    encoded = encoder.fit_transform(df[columns])\n",
    "    one_hot_df = pd.DataFrame(encoded, columns=encoder.get_feature_names_out(columns))\n",
    "    df_encoded = pd.concat([df, one_hot_df], axis=1)\n",
    "    df_encoded = df_encoded.drop(columns, axis=1)\n",
    "    return df_encoded"
   ]
  },
  {
   "cell_type": "code",
   "execution_count": 26,
   "id": "16dfc143-52a5-48b3-b19f-fc365c301bf8",
   "metadata": {},
   "outputs": [],
   "source": [
    "onehotencoder = OneHotEncoder(sparse_output=False)\n",
    "columns = X.select_dtypes(include='object').columns.tolist()\n",
    "X = encodeData(X, columns, onehotencoder)"
   ]
  },
  {
   "cell_type": "code",
   "execution_count": 27,
   "id": "f7e29b3f-d081-4fdf-922b-f1b0cb3231fa",
   "metadata": {},
   "outputs": [],
   "source": [
    "scaler = StandardScaler()\n",
    "X = scaler.fit_transform(X)"
   ]
  },
  {
   "cell_type": "code",
   "execution_count": 28,
   "id": "a7b2b418-1140-4df7-9fc8-f8baffe30d2a",
   "metadata": {},
   "outputs": [
    {
     "data": {
      "text/plain": [
       "array([[-1.72151299, -0.12134467, -0.00968927, ..., -0.07457327,\n",
       "         0.77414671, -0.04935536],\n",
       "       [-1.72136917, -0.12134467, -0.00988296, ..., -0.07457327,\n",
       "         0.77414671, -0.04935536],\n",
       "       [-1.72122535, -0.12134467, -0.00996493, ..., -0.07457327,\n",
       "        -1.29174481, -0.04935536],\n",
       "       ...,\n",
       "       [ 1.52025005, -0.12134467,  0.02065486, ..., -0.07457327,\n",
       "         0.77414671, -0.04935536],\n",
       "       [ 1.52039387, -0.12134467, -0.00994135, ..., -0.07457327,\n",
       "         0.77414671, -0.04935536],\n",
       "       [ 1.52053768, -0.12134467, -0.00996493, ..., -0.07457327,\n",
       "        -1.29174481, -0.04935536]])"
      ]
     },
     "execution_count": 28,
     "metadata": {},
     "output_type": "execute_result"
    }
   ],
   "source": [
    "X"
   ]
  },
  {
   "cell_type": "code",
   "execution_count": 29,
   "id": "1e28595f-b318-4c22-9990-2698780cbe38",
   "metadata": {},
   "outputs": [
    {
     "data": {
      "text/plain": [
       "array([1, 1, 0, ..., 0, 1, 2])"
      ]
     },
     "execution_count": 29,
     "metadata": {},
     "output_type": "execute_result"
    }
   ],
   "source": [
    "y"
   ]
  },
  {
   "cell_type": "markdown",
   "id": "a5a773cf-3078-4385-a7e1-15fc957ae582",
   "metadata": {},
   "source": [
    "## 3. Creating models\n",
    "\n",
    "Testing these models:\n",
    "1. Linear Regression\n",
    "2. K Nearest Neighbour\n",
    "3. Random Forest\n",
    "4. Gradient Boost:\n",
    "    * XGBoost;\n",
    "    * CatBoost;\n",
    "    * LightGBM.\n",
    "5. Support Vector Machine;\n",
    "6. Reccurent Neural Networks."
   ]
  },
  {
   "cell_type": "code",
   "execution_count": 30,
   "id": "bc7f5e83-6bc8-4874-bb57-51b679589c35",
   "metadata": {},
   "outputs": [],
   "source": [
    "results_dict = {}"
   ]
  },
  {
   "cell_type": "code",
   "execution_count": 31,
   "id": "96598696-7c76-43f9-95e5-aa71f6d6f0a3",
   "metadata": {},
   "outputs": [
    {
     "data": {
      "text/plain": [
       "((40575, 120), (40575,), (7161, 120), (7161,))"
      ]
     },
     "execution_count": 31,
     "metadata": {},
     "output_type": "execute_result"
    }
   ],
   "source": [
    "X_train, X_test, y_train, y_test = train_test_split(X, y, test_size=0.15)\n",
    "#X_train, X_val, y_train, y_val = train_test_split(X_train, y_train, test_size=0.18)\n",
    "X_train.shape, y_train.shape, X_test.shape, y_test.shape"
   ]
  },
  {
   "cell_type": "markdown",
   "id": "0cd67ebd-9e3d-4a10-b2da-fbd7439d7c37",
   "metadata": {},
   "source": [
    "## 3.1. Linear Regression"
   ]
  },
  {
   "cell_type": "code",
   "execution_count": 32,
   "id": "3b479040-e79f-491d-bc04-e15e5a2ec484",
   "metadata": {},
   "outputs": [],
   "source": [
    "lin_reg = LinearRegression()\n",
    "lin_reg.fit(X_train, y_train)\n",
    "y_pred = lin_reg.predict(X_test)"
   ]
  },
  {
   "cell_type": "code",
   "execution_count": 33,
   "id": "c596da83-6e9c-43f8-9c0d-b4f81a5ca77b",
   "metadata": {},
   "outputs": [
    {
     "data": {
      "text/plain": [
       "0.7312938738673107"
      ]
     },
     "execution_count": 33,
     "metadata": {},
     "output_type": "execute_result"
    }
   ],
   "source": [
    "lin_reg.score(X_test, y_test)"
   ]
  },
  {
   "cell_type": "code",
   "execution_count": 34,
   "id": "6e66e6dd-e357-4904-8201-95decf00c9ec",
   "metadata": {},
   "outputs": [],
   "source": [
    "mae = mean_absolute_error(y_true=y_test,y_pred=y_pred)\n",
    "mse = mean_squared_error(y_true=y_test,y_pred=y_pred) \n",
    "rmse = root_mean_squared_error(y_true=y_test,y_pred=y_pred)"
   ]
  },
  {
   "cell_type": "code",
   "execution_count": 35,
   "id": "c7d9faf7-bf04-4840-8f39-d9b4568f1292",
   "metadata": {},
   "outputs": [
    {
     "name": "stdout",
     "output_type": "stream",
     "text": [
      "R2: 0.7312938738673107\n",
      "MAE: 0.2548803125129584\n",
      "MSE: 0.19404900600087002\n",
      "RMSE: 0.44050993859488574\n"
     ]
    }
   ],
   "source": [
    "print(f\"R2: {lin_reg.score(X_test, y_test)}\\n\\\n",
    "MAE: {mae}\\n\\\n",
    "MSE: {mse}\\n\\\n",
    "RMSE: {rmse}\")"
   ]
  },
  {
   "cell_type": "markdown",
   "id": "8b4d2710-1df4-4057-bcbc-70ad5d604b57",
   "metadata": {},
   "source": [
    "## 3.2. K Nearest Neighbour"
   ]
  },
  {
   "cell_type": "code",
   "execution_count": 36,
   "id": "cdc5fef6-e970-4e96-a4ff-8bf5c55adc11",
   "metadata": {},
   "outputs": [],
   "source": [
    "knn_clf = KNeighborsClassifier()\n",
    "knn_clf.fit(X_train, y_train)\n",
    "y_pred = knn_clf.predict(X_test)"
   ]
  },
  {
   "cell_type": "code",
   "execution_count": 37,
   "id": "c579c13e-46ad-4764-9424-86ce00405894",
   "metadata": {},
   "outputs": [
    {
     "data": {
      "image/png": "[encoded data removed]",
      "text/plain": [
       "<Figure size 640x480 with 2 Axes>"
      ]
     },
     "metadata": {},
     "output_type": "display_data"
    }
   ],
   "source": [
    "visualize_CM(confusion_matrix(y_test, y_pred))"
   ]
  },
  {
   "cell_type": "code",
   "execution_count": 38,
   "id": "7f3d1831-8728-4d20-9003-8d4f2dc9bb6d",
   "metadata": {},
   "outputs": [],
   "source": [
    "accuracy = accuracy_score(y_true=y_test, y_pred=y_pred)\n",
    "precision = precision_score(y_true=y_test, y_pred=y_pred, average=\"weighted\")\n",
    "f1 = f1_score(y_true=y_test, y_pred=y_pred, average=\"weighted\")\n",
    "recall = recall_score(y_true=y_test, y_pred=y_pred, average=\"weighted\")\n",
    "mae = mean_absolute_error(y_true=y_test,y_pred=y_pred)\n",
    "mse = mean_squared_error(y_true=y_test,y_pred=y_pred) \n",
    "rmse = root_mean_squared_error(y_true=y_test,y_pred=y_pred)"
   ]
  },
  {
   "cell_type": "code",
   "execution_count": 39,
   "id": "a2e99646-ba4e-4ba1-9f0b-e67f3ec57bb9",
   "metadata": {},
   "outputs": [],
   "source": [
    "results = [accuracy, precision, f1, recall, mae, mse, rmse]\n",
    "results_dict[\"KNN\"] = results"
   ]
  },
  {
   "cell_type": "code",
   "execution_count": 40,
   "id": "349ab734-4943-47a6-9941-33b6f2e5cbb7",
   "metadata": {},
   "outputs": [
    {
     "data": {
      "text/html": [
       "<div>\n",
       "<style scoped>\n",
       "    .dataframe tbody tr th:only-of-type {\n",
       "        vertical-align: middle;\n",
       "    }\n",
       "\n",
       "    .dataframe tbody tr th {\n",
       "        vertical-align: top;\n",
       "    }\n",
       "\n",
       "    .dataframe thead th {\n",
       "        text-align: right;\n",
       "    }\n",
       "</style>\n",
       "<table border=\"1\" class=\"dataframe\">\n",
       "  <thead>\n",
       "    <tr style=\"text-align: right;\">\n",
       "      <th></th>\n",
       "      <th>Accuracy</th>\n",
       "      <th>Precision</th>\n",
       "      <th>F1</th>\n",
       "      <th>Recall</th>\n",
       "      <th>MAE</th>\n",
       "      <th>MSE</th>\n",
       "      <th>RMSE</th>\n",
       "    </tr>\n",
       "  </thead>\n",
       "  <tbody>\n",
       "    <tr>\n",
       "      <th>KNN</th>\n",
       "      <td>0.977517</td>\n",
       "      <td>0.977689</td>\n",
       "      <td>0.977488</td>\n",
       "      <td>0.977517</td>\n",
       "      <td>0.035889</td>\n",
       "      <td>0.064376</td>\n",
       "      <td>0.253725</td>\n",
       "    </tr>\n",
       "  </tbody>\n",
       "</table>\n",
       "</div>"
      ],
      "text/plain": [
       "     Accuracy  Precision        F1    Recall       MAE       MSE      RMSE\n",
       "KNN  0.977517   0.977689  0.977488  0.977517  0.035889  0.064376  0.253725"
      ]
     },
     "execution_count": 40,
     "metadata": {},
     "output_type": "execute_result"
    }
   ],
   "source": [
    "pd.DataFrame.from_dict(results_dict, orient=\"index\", columns=[\"Accuracy\", \"Precision\", \"F1\", \"Recall\", \"MAE\", \"MSE\", \"RMSE\"])"
   ]
  },
  {
   "cell_type": "markdown",
   "id": "65fb0dfd-330f-4ef0-8e03-446627bdfa25",
   "metadata": {},
   "source": [
    "## 3.3. Random Forest"
   ]
  },
  {
   "cell_type": "code",
   "execution_count": 41,
   "id": "bf1edee8-4aa8-44c4-bef7-fd89b6bf1821",
   "metadata": {},
   "outputs": [],
   "source": [
    "rf_clf = RandomForestClassifier()\n",
    "rf_clf.fit(X_train, y_train)\n",
    "y_pred = rf_clf.predict(X_test)"
   ]
  },
  {
   "cell_type": "code",
   "execution_count": 42,
   "id": "136e71c4-4df2-4485-9aec-d2a3808340d5",
   "metadata": {},
   "outputs": [
    {
     "data": {
      "image/png": "[encoded data removed]",
      "text/plain": [
       "<Figure size 640x480 with 2 Axes>"
      ]
     },
     "metadata": {},
     "output_type": "display_data"
    }
   ],
   "source": [
    "visualize_CM(confusion_matrix(y_test, y_pred))"
   ]
  },
  {
   "cell_type": "code",
   "execution_count": 43,
   "id": "635ca15b-bc61-4181-a8fb-939e80e13971",
   "metadata": {},
   "outputs": [],
   "source": [
    "accuracy = accuracy_score(y_true=y_test, y_pred=y_pred)\n",
    "precision = precision_score(y_true=y_test, y_pred=y_pred, average=\"weighted\")\n",
    "f1 = f1_score(y_true=y_test, y_pred=y_pred, average=\"weighted\")\n",
    "recall = recall_score(y_true=y_test, y_pred=y_pred, average=\"weighted\")\n",
    "mae = mean_absolute_error(y_true=y_test,y_pred=y_pred)\n",
    "mse = mean_squared_error(y_true=y_test,y_pred=y_pred) \n",
    "rmse = root_mean_squared_error(y_true=y_test,y_pred=y_pred)"
   ]
  },
  {
   "cell_type": "code",
   "execution_count": 44,
   "id": "08466d6b-752f-4c04-9038-ffa08f1a5872",
   "metadata": {},
   "outputs": [],
   "source": [
    "results = [accuracy, precision, f1, recall, mae, mse, rmse]\n",
    "results_dict[\"RF\"] = results"
   ]
  },
  {
   "cell_type": "code",
   "execution_count": 45,
   "id": "a152e5c7-7124-4d6c-b4de-e612a609c6f4",
   "metadata": {},
   "outputs": [
    {
     "data": {
      "text/html": [
       "<div>\n",
       "<style scoped>\n",
       "    .dataframe tbody tr th:only-of-type {\n",
       "        vertical-align: middle;\n",
       "    }\n",
       "\n",
       "    .dataframe tbody tr th {\n",
       "        vertical-align: top;\n",
       "    }\n",
       "\n",
       "    .dataframe thead th {\n",
       "        text-align: right;\n",
       "    }\n",
       "</style>\n",
       "<table border=\"1\" class=\"dataframe\">\n",
       "  <thead>\n",
       "    <tr style=\"text-align: right;\">\n",
       "      <th></th>\n",
       "      <th>Accuracy</th>\n",
       "      <th>Precision</th>\n",
       "      <th>F1</th>\n",
       "      <th>Recall</th>\n",
       "      <th>MAE</th>\n",
       "      <th>MSE</th>\n",
       "      <th>RMSE</th>\n",
       "    </tr>\n",
       "  </thead>\n",
       "  <tbody>\n",
       "    <tr>\n",
       "      <th>KNN</th>\n",
       "      <td>0.977517</td>\n",
       "      <td>0.977689</td>\n",
       "      <td>0.977488</td>\n",
       "      <td>0.977517</td>\n",
       "      <td>0.035889</td>\n",
       "      <td>0.064376</td>\n",
       "      <td>0.253725</td>\n",
       "    </tr>\n",
       "    <tr>\n",
       "      <th>RF</th>\n",
       "      <td>0.990644</td>\n",
       "      <td>0.990619</td>\n",
       "      <td>0.990597</td>\n",
       "      <td>0.990644</td>\n",
       "      <td>0.015780</td>\n",
       "      <td>0.029744</td>\n",
       "      <td>0.172466</td>\n",
       "    </tr>\n",
       "  </tbody>\n",
       "</table>\n",
       "</div>"
      ],
      "text/plain": [
       "     Accuracy  Precision        F1    Recall       MAE       MSE      RMSE\n",
       "KNN  0.977517   0.977689  0.977488  0.977517  0.035889  0.064376  0.253725\n",
       "RF   0.990644   0.990619  0.990597  0.990644  0.015780  0.029744  0.172466"
      ]
     },
     "execution_count": 45,
     "metadata": {},
     "output_type": "execute_result"
    }
   ],
   "source": [
    "pd.DataFrame.from_dict(results_dict, orient=\"index\", columns=[\"Accuracy\", \"Precision\", \"F1\", \"Recall\", \"MAE\", \"MSE\", \"RMSE\"])"
   ]
  },
  {
   "cell_type": "markdown",
   "id": "9488d9a1-0e45-4685-9897-f268b7c3150b",
   "metadata": {},
   "source": [
    "## 3.4. XGBoost"
   ]
  },
  {
   "cell_type": "code",
   "execution_count": 46,
   "id": "a85d0f17-f9e8-4b66-a98b-ab09dbd0c87f",
   "metadata": {},
   "outputs": [],
   "source": [
    "xgb_clf = xgb.XGBClassifier()\n",
    "xgb_clf.fit(X_train, y_train)\n",
    "y_pred = xgb_clf.predict(X_test)"
   ]
  },
  {
   "cell_type": "code",
   "execution_count": 47,
   "id": "33033db9-921d-4aa5-af0a-987880cb0247",
   "metadata": {},
   "outputs": [
    {
     "data": {
      "image/png": "[encoded data removed]",
      "text/plain": [
       "<Figure size 640x480 with 2 Axes>"
      ]
     },
     "metadata": {},
     "output_type": "display_data"
    }
   ],
   "source": [
    "visualize_CM(confusion_matrix(y_test, y_pred))"
   ]
  },
  {
   "cell_type": "code",
   "execution_count": 48,
   "id": "aa439ac6-8d98-4c49-bae4-300e729519d6",
   "metadata": {},
   "outputs": [],
   "source": [
    "accuracy = accuracy_score(y_true=y_test, y_pred=y_pred)\n",
    "precision = precision_score(y_true=y_test, y_pred=y_pred, average=\"weighted\")\n",
    "f1 = f1_score(y_true=y_test, y_pred=y_pred, average=\"weighted\")\n",
    "recall = recall_score(y_true=y_test, y_pred=y_pred, average=\"weighted\")\n",
    "mae = mean_absolute_error(y_true=y_test,y_pred=y_pred)\n",
    "mse = mean_squared_error(y_true=y_test,y_pred=y_pred) \n",
    "rmse = root_mean_squared_error(y_true=y_test,y_pred=y_pred)"
   ]
  },
  {
   "cell_type": "code",
   "execution_count": 49,
   "id": "f3d0e2e0-ab0c-4e1b-aa6d-bf941bea01e7",
   "metadata": {},
   "outputs": [],
   "source": [
    "results = [accuracy, precision, f1, recall, mae, mse, rmse]\n",
    "results_dict[\"XGBoost\"] = results"
   ]
  },
  {
   "cell_type": "code",
   "execution_count": 50,
   "id": "5c2ee8dc-1947-4b82-8733-7202f89cd7af",
   "metadata": {},
   "outputs": [
    {
     "data": {
      "text/html": [
       "<div>\n",
       "<style scoped>\n",
       "    .dataframe tbody tr th:only-of-type {\n",
       "        vertical-align: middle;\n",
       "    }\n",
       "\n",
       "    .dataframe tbody tr th {\n",
       "        vertical-align: top;\n",
       "    }\n",
       "\n",
       "    .dataframe thead th {\n",
       "        text-align: right;\n",
       "    }\n",
       "</style>\n",
       "<table border=\"1\" class=\"dataframe\">\n",
       "  <thead>\n",
       "    <tr style=\"text-align: right;\">\n",
       "      <th></th>\n",
       "      <th>Accuracy</th>\n",
       "      <th>Precision</th>\n",
       "      <th>F1</th>\n",
       "      <th>Recall</th>\n",
       "      <th>MAE</th>\n",
       "      <th>MSE</th>\n",
       "      <th>RMSE</th>\n",
       "    </tr>\n",
       "  </thead>\n",
       "  <tbody>\n",
       "    <tr>\n",
       "      <th>KNN</th>\n",
       "      <td>0.977517</td>\n",
       "      <td>0.977689</td>\n",
       "      <td>0.977488</td>\n",
       "      <td>0.977517</td>\n",
       "      <td>0.035889</td>\n",
       "      <td>0.064376</td>\n",
       "      <td>0.253725</td>\n",
       "    </tr>\n",
       "    <tr>\n",
       "      <th>RF</th>\n",
       "      <td>0.990644</td>\n",
       "      <td>0.990619</td>\n",
       "      <td>0.990597</td>\n",
       "      <td>0.990644</td>\n",
       "      <td>0.015780</td>\n",
       "      <td>0.029744</td>\n",
       "      <td>0.172466</td>\n",
       "    </tr>\n",
       "    <tr>\n",
       "      <th>XGBoost</th>\n",
       "      <td>0.990644</td>\n",
       "      <td>0.990613</td>\n",
       "      <td>0.990593</td>\n",
       "      <td>0.990644</td>\n",
       "      <td>0.015501</td>\n",
       "      <td>0.028627</td>\n",
       "      <td>0.169196</td>\n",
       "    </tr>\n",
       "  </tbody>\n",
       "</table>\n",
       "</div>"
      ],
      "text/plain": [
       "         Accuracy  Precision        F1    Recall       MAE       MSE      RMSE\n",
       "KNN      0.977517   0.977689  0.977488  0.977517  0.035889  0.064376  0.253725\n",
       "RF       0.990644   0.990619  0.990597  0.990644  0.015780  0.029744  0.172466\n",
       "XGBoost  0.990644   0.990613  0.990593  0.990644  0.015501  0.028627  0.169196"
      ]
     },
     "execution_count": 50,
     "metadata": {},
     "output_type": "execute_result"
    }
   ],
   "source": [
    "pd.DataFrame.from_dict(results_dict, orient=\"index\", columns=[\"Accuracy\", \"Precision\", \"F1\", \"Recall\", \"MAE\", \"MSE\", \"RMSE\"])"
   ]
  },
  {
   "cell_type": "markdown",
   "id": "80bbd994-19a7-4a66-9d2b-888877dc3c6a",
   "metadata": {},
   "source": [
    "## 3.5 LightGBM"
   ]
  },
  {
   "cell_type": "code",
   "execution_count": 51,
   "id": "e13ebb79-5236-4979-8161-3d7ea0bdaae4",
   "metadata": {},
   "outputs": [
    {
     "name": "stdout",
     "output_type": "stream",
     "text": [
      "[LightGBM] [Info] Auto-choosing row-wise multi-threading, the overhead of testing was 0.009225 seconds.\n",
      "You can set `force_row_wise=true` to remove the overhead.\n",
      "And if memory is not enough, you can set `force_col_wise=true`.\n",
      "[LightGBM] [Info] Total Bins 3527\n",
      "[LightGBM] [Info] Number of data points in the train set: 40575, number of used features: 107\n",
      "[LightGBM] [Info] Start training from score -1.052096\n",
      "[LightGBM] [Info] Start training from score -0.723143\n",
      "[LightGBM] [Info] Start training from score -2.313862\n",
      "[LightGBM] [Info] Start training from score -2.774538\n",
      "[LightGBM] [Info] Start training from score -5.446121\n"
     ]
    }
   ],
   "source": [
    "lgbm_clf = lightgbm.LGBMClassifier()\n",
    "lgbm_clf.fit(X_train, y_train)\n",
    "y_pred = lgbm_clf.predict(X_test)"
   ]
  },
  {
   "cell_type": "code",
   "execution_count": 52,
   "id": "355622a1-5a4d-49f5-8937-1ef6da750648",
   "metadata": {},
   "outputs": [
    {
     "data": {
      "image/png": "[encoded data removed]",
      "text/plain": [
       "<Figure size 640x480 with 2 Axes>"
      ]
     },
     "metadata": {},
     "output_type": "display_data"
    }
   ],
   "source": [
    "visualize_CM(confusion_matrix(y_test, y_pred))"
   ]
  },
  {
   "cell_type": "code",
   "execution_count": 53,
   "id": "17dc138d-964c-49d8-b491-39b4e256e206",
   "metadata": {},
   "outputs": [],
   "source": [
    "accuracy = accuracy_score(y_true=y_test, y_pred=y_pred)\n",
    "precision = precision_score(y_true=y_test, y_pred=y_pred, average=\"weighted\")\n",
    "f1 = f1_score(y_true=y_test, y_pred=y_pred, average=\"weighted\")\n",
    "recall = recall_score(y_true=y_test, y_pred=y_pred, average=\"weighted\")\n",
    "mae = mean_absolute_error(y_true=y_test,y_pred=y_pred)\n",
    "mse = mean_squared_error(y_true=y_test,y_pred=y_pred) \n",
    "rmse = root_mean_squared_error(y_true=y_test,y_pred=y_pred)"
   ]
  },
  {
   "cell_type": "code",
   "execution_count": 54,
   "id": "a86cdb9a-0ae7-4c37-8997-83a2ba7fda72",
   "metadata": {},
   "outputs": [],
   "source": [
    "results = [accuracy, precision, f1, recall, mae, mse, rmse]\n",
    "results_dict[\"LightGBM\"] = results"
   ]
  },
  {
   "cell_type": "code",
   "execution_count": 55,
   "id": "2cce5186-c6e6-4e71-83e7-13a97938f966",
   "metadata": {},
   "outputs": [
    {
     "data": {
      "text/html": [
       "<div>\n",
       "<style scoped>\n",
       "    .dataframe tbody tr th:only-of-type {\n",
       "        vertical-align: middle;\n",
       "    }\n",
       "\n",
       "    .dataframe tbody tr th {\n",
       "        vertical-align: top;\n",
       "    }\n",
       "\n",
       "    .dataframe thead th {\n",
       "        text-align: right;\n",
       "    }\n",
       "</style>\n",
       "<table border=\"1\" class=\"dataframe\">\n",
       "  <thead>\n",
       "    <tr style=\"text-align: right;\">\n",
       "      <th></th>\n",
       "      <th>Accuracy</th>\n",
       "      <th>Precision</th>\n",
       "      <th>F1</th>\n",
       "      <th>Recall</th>\n",
       "      <th>MAE</th>\n",
       "      <th>MSE</th>\n",
       "      <th>RMSE</th>\n",
       "    </tr>\n",
       "  </thead>\n",
       "  <tbody>\n",
       "    <tr>\n",
       "      <th>KNN</th>\n",
       "      <td>0.977517</td>\n",
       "      <td>0.977689</td>\n",
       "      <td>0.977488</td>\n",
       "      <td>0.977517</td>\n",
       "      <td>0.035889</td>\n",
       "      <td>0.064376</td>\n",
       "      <td>0.253725</td>\n",
       "    </tr>\n",
       "    <tr>\n",
       "      <th>RF</th>\n",
       "      <td>0.990644</td>\n",
       "      <td>0.990619</td>\n",
       "      <td>0.990597</td>\n",
       "      <td>0.990644</td>\n",
       "      <td>0.015780</td>\n",
       "      <td>0.029744</td>\n",
       "      <td>0.172466</td>\n",
       "    </tr>\n",
       "    <tr>\n",
       "      <th>XGBoost</th>\n",
       "      <td>0.990644</td>\n",
       "      <td>0.990613</td>\n",
       "      <td>0.990593</td>\n",
       "      <td>0.990644</td>\n",
       "      <td>0.015501</td>\n",
       "      <td>0.028627</td>\n",
       "      <td>0.169196</td>\n",
       "    </tr>\n",
       "    <tr>\n",
       "      <th>LightGBM</th>\n",
       "      <td>0.990504</td>\n",
       "      <td>0.990438</td>\n",
       "      <td>0.990409</td>\n",
       "      <td>0.990504</td>\n",
       "      <td>0.016618</td>\n",
       "      <td>0.032817</td>\n",
       "      <td>0.181154</td>\n",
       "    </tr>\n",
       "  </tbody>\n",
       "</table>\n",
       "</div>"
      ],
      "text/plain": [
       "          Accuracy  Precision        F1    Recall       MAE       MSE  \\\n",
       "KNN       0.977517   0.977689  0.977488  0.977517  0.035889  0.064376   \n",
       "RF        0.990644   0.990619  0.990597  0.990644  0.015780  0.029744   \n",
       "XGBoost   0.990644   0.990613  0.990593  0.990644  0.015501  0.028627   \n",
       "LightGBM  0.990504   0.990438  0.990409  0.990504  0.016618  0.032817   \n",
       "\n",
       "              RMSE  \n",
       "KNN       0.253725  \n",
       "RF        0.172466  \n",
       "XGBoost   0.169196  \n",
       "LightGBM  0.181154  "
      ]
     },
     "execution_count": 55,
     "metadata": {},
     "output_type": "execute_result"
    }
   ],
   "source": [
    "pd.DataFrame.from_dict(results_dict, orient=\"index\", columns=[\"Accuracy\", \"Precision\", \"F1\", \"Recall\", \"MAE\", \"MSE\", \"RMSE\"])"
   ]
  },
  {
   "cell_type": "markdown",
   "id": "af3ba431-eaff-4213-86ce-0dc2ce1b2934",
   "metadata": {},
   "source": [
    "## 3.6. Support Vector Machine"
   ]
  },
  {
   "cell_type": "code",
   "execution_count": 56,
   "id": "3f95fced-6424-48c5-bc6e-45f5cc71a10f",
   "metadata": {},
   "outputs": [],
   "source": [
    "svc_clf = SVC()\n",
    "svc_clf.fit(X_train, y_train)\n",
    "y_pred = svc_clf.predict(X_test)"
   ]
  },
  {
   "cell_type": "code",
   "execution_count": 57,
   "id": "6fd185c3-2434-4b16-a5b3-dfa4a73962cb",
   "metadata": {},
   "outputs": [
    {
     "data": {
      "image/png": "[encoded data removed]",
      "text/plain": [
       "<Figure size 640x480 with 2 Axes>"
      ]
     },
     "metadata": {},
     "output_type": "display_data"
    }
   ],
   "source": [
    "visualize_CM(confusion_matrix(y_test, y_pred))"
   ]
  },
  {
   "cell_type": "code",
   "execution_count": 58,
   "id": "5a0996f1-32b7-4e62-aaae-b314d94ad43a",
   "metadata": {},
   "outputs": [],
   "source": [
    "accuracy = accuracy_score(y_true=y_test, y_pred=y_pred)\n",
    "precision = precision_score(y_true=y_test, y_pred=y_pred, average=\"weighted\")\n",
    "f1 = f1_score(y_true=y_test, y_pred=y_pred, average=\"weighted\")\n",
    "recall = recall_score(y_true=y_test, y_pred=y_pred, average=\"weighted\")\n",
    "mae = mean_absolute_error(y_true=y_test,y_pred=y_pred)\n",
    "mse = mean_squared_error(y_true=y_test,y_pred=y_pred) \n",
    "rmse = root_mean_squared_error(y_true=y_test,y_pred=y_pred)"
   ]
  },
  {
   "cell_type": "code",
   "execution_count": 59,
   "id": "3820d5f1-1840-4bd4-b8a1-5b0e84edb49e",
   "metadata": {},
   "outputs": [],
   "source": [
    "results = [accuracy, precision, f1, recall, mae, mse, rmse]\n",
    "results_dict[\"SVM\"] = results"
   ]
  },
  {
   "cell_type": "code",
   "execution_count": 60,
   "id": "90472407-f10d-4d46-9118-52b0c11ae3c7",
   "metadata": {},
   "outputs": [
    {
     "data": {
      "text/html": [
       "<div>\n",
       "<style scoped>\n",
       "    .dataframe tbody tr th:only-of-type {\n",
       "        vertical-align: middle;\n",
       "    }\n",
       "\n",
       "    .dataframe tbody tr th {\n",
       "        vertical-align: top;\n",
       "    }\n",
       "\n",
       "    .dataframe thead th {\n",
       "        text-align: right;\n",
       "    }\n",
       "</style>\n",
       "<table border=\"1\" class=\"dataframe\">\n",
       "  <thead>\n",
       "    <tr style=\"text-align: right;\">\n",
       "      <th></th>\n",
       "      <th>KNN</th>\n",
       "      <th>RF</th>\n",
       "      <th>XGBoost</th>\n",
       "      <th>LightGBM</th>\n",
       "      <th>SVM</th>\n",
       "    </tr>\n",
       "  </thead>\n",
       "  <tbody>\n",
       "    <tr>\n",
       "      <th>Accuracy</th>\n",
       "      <td>0.977517</td>\n",
       "      <td>0.990644</td>\n",
       "      <td>0.990644</td>\n",
       "      <td>0.990504</td>\n",
       "      <td>0.973188</td>\n",
       "    </tr>\n",
       "    <tr>\n",
       "      <th>Precision</th>\n",
       "      <td>0.977689</td>\n",
       "      <td>0.990619</td>\n",
       "      <td>0.990613</td>\n",
       "      <td>0.990438</td>\n",
       "      <td>0.973767</td>\n",
       "    </tr>\n",
       "    <tr>\n",
       "      <th>F1</th>\n",
       "      <td>0.977488</td>\n",
       "      <td>0.990597</td>\n",
       "      <td>0.990593</td>\n",
       "      <td>0.990409</td>\n",
       "      <td>0.973311</td>\n",
       "    </tr>\n",
       "    <tr>\n",
       "      <th>Recall</th>\n",
       "      <td>0.977517</td>\n",
       "      <td>0.990644</td>\n",
       "      <td>0.990644</td>\n",
       "      <td>0.990504</td>\n",
       "      <td>0.973188</td>\n",
       "    </tr>\n",
       "    <tr>\n",
       "      <th>MAE</th>\n",
       "      <td>0.035889</td>\n",
       "      <td>0.015780</td>\n",
       "      <td>0.015501</td>\n",
       "      <td>0.016618</td>\n",
       "      <td>0.041894</td>\n",
       "    </tr>\n",
       "    <tr>\n",
       "      <th>MSE</th>\n",
       "      <td>0.064376</td>\n",
       "      <td>0.029744</td>\n",
       "      <td>0.028627</td>\n",
       "      <td>0.032817</td>\n",
       "      <td>0.073733</td>\n",
       "    </tr>\n",
       "    <tr>\n",
       "      <th>RMSE</th>\n",
       "      <td>0.253725</td>\n",
       "      <td>0.172466</td>\n",
       "      <td>0.169196</td>\n",
       "      <td>0.181154</td>\n",
       "      <td>0.271538</td>\n",
       "    </tr>\n",
       "  </tbody>\n",
       "</table>\n",
       "</div>"
      ],
      "text/plain": [
       "                KNN        RF   XGBoost  LightGBM       SVM\n",
       "Accuracy   0.977517  0.990644  0.990644  0.990504  0.973188\n",
       "Precision  0.977689  0.990619  0.990613  0.990438  0.973767\n",
       "F1         0.977488  0.990597  0.990593  0.990409  0.973311\n",
       "Recall     0.977517  0.990644  0.990644  0.990504  0.973188\n",
       "MAE        0.035889  0.015780  0.015501  0.016618  0.041894\n",
       "MSE        0.064376  0.029744  0.028627  0.032817  0.073733\n",
       "RMSE       0.253725  0.172466  0.169196  0.181154  0.271538"
      ]
     },
     "execution_count": 60,
     "metadata": {},
     "output_type": "execute_result"
    }
   ],
   "source": [
    "pd.DataFrame.from_dict(results_dict, orient=\"index\", columns=[\"Accuracy\", \"Precision\", \"F1\", \"Recall\", \"MAE\", \"MSE\", \"RMSE\"]).T"
   ]
  },
  {
   "cell_type": "markdown",
   "id": "68dc78ad-baf7-4ebb-af14-3d3a0d89fc3f",
   "metadata": {},
   "source": [
    "## 3.7. Reccurent Neural Network"
   ]
  },
  {
   "cell_type": "code",
   "execution_count": 61,
   "id": "1278a2e4-fb35-4d42-94dc-46b8fecdbac1",
   "metadata": {},
   "outputs": [
    {
     "data": {
      "text/plain": [
       "((33271, 120), (33271,), (7304, 120), (7304,), (7161, 120), (7161,))"
      ]
     },
     "execution_count": 61,
     "metadata": {},
     "output_type": "execute_result"
    }
   ],
   "source": [
    "X_train, X_test, y_train, y_test = train_test_split(X, y, test_size=0.15)\n",
    "X_train, X_val, y_train, y_val = train_test_split(X_train, y_train, test_size=0.18)\n",
    "X_train.shape, y_train.shape, X_val.shape, y_val.shape, X_test.shape, y_test.shape"
   ]
  },
  {
   "cell_type": "code",
   "execution_count": 62,
   "id": "658ab9f6-59da-4377-9cd4-5e1bf4e3afae",
   "metadata": {},
   "outputs": [
    {
     "name": "stderr",
     "output_type": "stream",
     "text": [
      "/home/kostas/Documents/git/IDS_test/lib/python3.12/site-packages/keras/src/layers/core/dense.py:87: UserWarning: Do not pass an `input_shape`/`input_dim` argument to a layer. When using Sequential models, prefer using an `Input(shape)` object as the first layer in the model instead.\n",
      "  super().__init__(activity_regularizer=activity_regularizer, **kwargs)\n",
      "I0000 00:00:1732736527.317944   27534 gpu_device.cc:2022] Created device /job:localhost/replica:0/task:0/device:GPU:0 with 4743 MB memory:  -> device: 0, name: NVIDIA GeForce GTX 1060, pci bus id: 0000:01:00.0, compute capability: 6.1\n"
     ]
    }
   ],
   "source": [
    "def create_model(X_train, y_train):\n",
    "    model = keras.Sequential()\n",
    "    model.add(keras.layers.Dense(X_train.shape[1], activation='relu', input_shape=(X_train.shape[1],)))\n",
    "    model.add(keras.layers.Dense(512, activation='relu'))\n",
    "    model.add(keras.layers.Dense(256, activation='relu'))\n",
    "    model.add(keras.layers.Dense(len(np.unique(y_train)), activation='softmax'))\n",
    "    model.compile(optimizer='adam', loss='sparse_categorical_crossentropy', metrics=['accuracy'])\n",
    "    return model\n",
    "model = create_model(X_train, y_train)"
   ]
  },
  {
   "cell_type": "code",
   "execution_count": 63,
   "id": "6d582129-e07e-4a2c-8ae1-67f01a90df03",
   "metadata": {},
   "outputs": [
    {
     "data": {
      "text/html": [
       "<pre style=\"white-space:pre;overflow-x:auto;line-height:normal;font-family:Menlo,'DejaVu Sans Mono',consolas,'Courier New',monospace\"><span style=\"font-weight: bold\">Model: \"sequential\"</span>\n",
       "</pre>\n"
      ],
      "text/plain": [
       "\u001b[1mModel: \"sequential\"\u001b[0m\n"
      ]
     },
     "metadata": {},
     "output_type": "display_data"
    },
    {
     "data": {
      "text/html": [
       "<pre style=\"white-space:pre;overflow-x:auto;line-height:normal;font-family:Menlo,'DejaVu Sans Mono',consolas,'Courier New',monospace\">┏━━━━━━━━━━━━━━━━━━━━━━━━━━━━━━━━━━━━━━┳━━━━━━━━━━━━━━━━━━━━━━━━━━━━━┳━━━━━━━━━━━━━━━━━┓\n",
       "┃<span style=\"font-weight: bold\"> Layer (type)                         </span>┃<span style=\"font-weight: bold\"> Output Shape                </span>┃<span style=\"font-weight: bold\">         Param # </span>┃\n",
       "┡━━━━━━━━━━━━━━━━━━━━━━━━━━━━━━━━━━━━━━╇━━━━━━━━━━━━━━━━━━━━━━━━━━━━━╇━━━━━━━━━━━━━━━━━┩\n",
       "│ dense (<span style=\"color: #0087ff; text-decoration-color: #0087ff\">Dense</span>)                        │ (<span style=\"color: #00d7ff; text-decoration-color: #00d7ff\">None</span>, <span style=\"color: #00af00; text-decoration-color: #00af00\">120</span>)                 │          <span style=\"color: #00af00; text-decoration-color: #00af00\">14,520</span> │\n",
       "├──────────────────────────────────────┼─────────────────────────────┼─────────────────┤\n",
       "│ dense_1 (<span style=\"color: #0087ff; text-decoration-color: #0087ff\">Dense</span>)                      │ (<span style=\"color: #00d7ff; text-decoration-color: #00d7ff\">None</span>, <span style=\"color: #00af00; text-decoration-color: #00af00\">512</span>)                 │          <span style=\"color: #00af00; text-decoration-color: #00af00\">61,952</span> │\n",
       "├──────────────────────────────────────┼─────────────────────────────┼─────────────────┤\n",
       "│ dense_2 (<span style=\"color: #0087ff; text-decoration-color: #0087ff\">Dense</span>)                      │ (<span style=\"color: #00d7ff; text-decoration-color: #00d7ff\">None</span>, <span style=\"color: #00af00; text-decoration-color: #00af00\">256</span>)                 │         <span style=\"color: #00af00; text-decoration-color: #00af00\">131,328</span> │\n",
       "├──────────────────────────────────────┼─────────────────────────────┼─────────────────┤\n",
       "│ dense_3 (<span style=\"color: #0087ff; text-decoration-color: #0087ff\">Dense</span>)                      │ (<span style=\"color: #00d7ff; text-decoration-color: #00d7ff\">None</span>, <span style=\"color: #00af00; text-decoration-color: #00af00\">5</span>)                   │           <span style=\"color: #00af00; text-decoration-color: #00af00\">1,285</span> │\n",
       "└──────────────────────────────────────┴─────────────────────────────┴─────────────────┘\n",
       "</pre>\n"
      ],
      "text/plain": [
       "┏━━━━━━━━━━━━━━━━━━━━━━━━━━━━━━━━━━━━━━┳━━━━━━━━━━━━━━━━━━━━━━━━━━━━━┳━━━━━━━━━━━━━━━━━┓\n",
       "┃\u001b[1m \u001b[0m\u001b[1mLayer (type)                        \u001b[0m\u001b[1m \u001b[0m┃\u001b[1m \u001b[0m\u001b[1mOutput Shape               \u001b[0m\u001b[1m \u001b[0m┃\u001b[1m \u001b[0m\u001b[1m        Param #\u001b[0m\u001b[1m \u001b[0m┃\n",
       "┡━━━━━━━━━━━━━━━━━━━━━━━━━━━━━━━━━━━━━━╇━━━━━━━━━━━━━━━━━━━━━━━━━━━━━╇━━━━━━━━━━━━━━━━━┩\n",
       "│ dense (\u001b[38;5;33mDense\u001b[0m)                        │ (\u001b[38;5;45mNone\u001b[0m, \u001b[38;5;34m120\u001b[0m)                 │          \u001b[38;5;34m14,520\u001b[0m │\n",
       "├──────────────────────────────────────┼─────────────────────────────┼─────────────────┤\n",
       "│ dense_1 (\u001b[38;5;33mDense\u001b[0m)                      │ (\u001b[38;5;45mNone\u001b[0m, \u001b[38;5;34m512\u001b[0m)                 │          \u001b[38;5;34m61,952\u001b[0m │\n",
       "├──────────────────────────────────────┼─────────────────────────────┼─────────────────┤\n",
       "│ dense_2 (\u001b[38;5;33mDense\u001b[0m)                      │ (\u001b[38;5;45mNone\u001b[0m, \u001b[38;5;34m256\u001b[0m)                 │         \u001b[38;5;34m131,328\u001b[0m │\n",
       "├──────────────────────────────────────┼─────────────────────────────┼─────────────────┤\n",
       "│ dense_3 (\u001b[38;5;33mDense\u001b[0m)                      │ (\u001b[38;5;45mNone\u001b[0m, \u001b[38;5;34m5\u001b[0m)                   │           \u001b[38;5;34m1,285\u001b[0m │\n",
       "└──────────────────────────────────────┴─────────────────────────────┴─────────────────┘\n"
      ]
     },
     "metadata": {},
     "output_type": "display_data"
    },
    {
     "data": {
      "text/html": [
       "<pre style=\"white-space:pre;overflow-x:auto;line-height:normal;font-family:Menlo,'DejaVu Sans Mono',consolas,'Courier New',monospace\"><span style=\"font-weight: bold\"> Total params: </span><span style=\"color: #00af00; text-decoration-color: #00af00\">209,085</span> (816.74 KB)\n",
       "</pre>\n"
      ],
      "text/plain": [
       "\u001b[1m Total params: \u001b[0m\u001b[38;5;34m209,085\u001b[0m (816.74 KB)\n"
      ]
     },
     "metadata": {},
     "output_type": "display_data"
    },
    {
     "data": {
      "text/html": [
       "<pre style=\"white-space:pre;overflow-x:auto;line-height:normal;font-family:Menlo,'DejaVu Sans Mono',consolas,'Courier New',monospace\"><span style=\"font-weight: bold\"> Trainable params: </span><span style=\"color: #00af00; text-decoration-color: #00af00\">209,085</span> (816.74 KB)\n",
       "</pre>\n"
      ],
      "text/plain": [
       "\u001b[1m Trainable params: \u001b[0m\u001b[38;5;34m209,085\u001b[0m (816.74 KB)\n"
      ]
     },
     "metadata": {},
     "output_type": "display_data"
    },
    {
     "data": {
      "text/html": [
       "<pre style=\"white-space:pre;overflow-x:auto;line-height:normal;font-family:Menlo,'DejaVu Sans Mono',consolas,'Courier New',monospace\"><span style=\"font-weight: bold\"> Non-trainable params: </span><span style=\"color: #00af00; text-decoration-color: #00af00\">0</span> (0.00 B)\n",
       "</pre>\n"
      ],
      "text/plain": [
       "\u001b[1m Non-trainable params: \u001b[0m\u001b[38;5;34m0\u001b[0m (0.00 B)\n"
      ]
     },
     "metadata": {},
     "output_type": "display_data"
    }
   ],
   "source": [
    "model.summary()"
   ]
  },
  {
   "cell_type": "code",
   "execution_count": 64,
   "id": "56a3458a-02d1-4634-bc4e-85b6223ab53b",
   "metadata": {},
   "outputs": [
    {
     "name": "stdout",
     "output_type": "stream",
     "text": [
      "Epoch 1/50\n"
     ]
    },
    {
     "name": "stderr",
     "output_type": "stream",
     "text": [
      "WARNING: All log messages before absl::InitializeLog() is called are written to STDERR\n",
      "I0000 00:00:1732736529.032924   28612 service.cc:148] XLA service 0x761eec004cf0 initialized for platform CUDA (this does not guarantee that XLA will be used). Devices:\n",
      "I0000 00:00:1732736529.032946   28612 service.cc:156]   StreamExecutor device (0): NVIDIA GeForce GTX 1060, Compute Capability 6.1\n",
      "2024-11-27 21:42:09.063387: I tensorflow/compiler/mlir/tensorflow/utils/dump_mlir_util.cc:268] disabling MLIR crash reproducer, set env var `MLIR_CRASH_REPRODUCER_DIRECTORY` to enable.\n",
      "I0000 00:00:1732736529.186548   28612 cuda_dnn.cc:529] Loaded cuDNN version 90501\n"
     ]
    },
    {
     "name": "stdout",
     "output_type": "stream",
     "text": [
      "\u001b[1m  81/1040\u001b[0m \u001b[32m━\u001b[0m\u001b[37m━━━━━━━━━━━━━━━━━━━\u001b[0m \u001b[1m1s\u001b[0m 2ms/step - accuracy: 0.7931 - loss: 0.7091"
     ]
    },
    {
     "name": "stderr",
     "output_type": "stream",
     "text": [
      "I0000 00:00:1732736530.069857   28612 device_compiler.h:188] Compiled cluster using XLA!  This line is logged at most once for the lifetime of the process.\n"
     ]
    },
    {
     "name": "stdout",
     "output_type": "stream",
     "text": [
      "\u001b[1m1040/1040\u001b[0m \u001b[32m━━━━━━━━━━━━━━━━━━━━\u001b[0m\u001b[37m\u001b[0m \u001b[1m6s\u001b[0m 4ms/step - accuracy: 0.9251 - loss: 0.2504 - val_accuracy: 0.9633 - val_loss: 0.0932\n",
      "Epoch 2/50\n",
      "\u001b[1m1040/1040\u001b[0m \u001b[32m━━━━━━━━━━━━━━━━━━━━\u001b[0m\u001b[37m\u001b[0m \u001b[1m3s\u001b[0m 2ms/step - accuracy: 0.9728 - loss: 0.0779 - val_accuracy: 0.9722 - val_loss: 0.0756\n",
      "Epoch 3/50\n",
      "\u001b[1m1040/1040\u001b[0m \u001b[32m━━━━━━━━━━━━━━━━━━━━\u001b[0m\u001b[37m\u001b[0m \u001b[1m2s\u001b[0m 2ms/step - accuracy: 0.9729 - loss: 0.0690 - val_accuracy: 0.9737 - val_loss: 0.0855\n",
      "Epoch 4/50\n",
      "\u001b[1m1040/1040\u001b[0m \u001b[32m━━━━━━━━━━━━━━━━━━━━\u001b[0m\u001b[37m\u001b[0m \u001b[1m2s\u001b[0m 2ms/step - accuracy: 0.9761 - loss: 0.0619 - val_accuracy: 0.9748 - val_loss: 0.0746\n",
      "Epoch 5/50\n",
      "\u001b[1m1040/1040\u001b[0m \u001b[32m━━━━━━━━━━━━━━━━━━━━\u001b[0m\u001b[37m\u001b[0m \u001b[1m2s\u001b[0m 2ms/step - accuracy: 0.9768 - loss: 0.0562 - val_accuracy: 0.9749 - val_loss: 0.0732\n",
      "Epoch 6/50\n",
      "\u001b[1m1040/1040\u001b[0m \u001b[32m━━━━━━━━━━━━━━━━━━━━\u001b[0m\u001b[37m\u001b[0m \u001b[1m3s\u001b[0m 2ms/step - accuracy: 0.9773 - loss: 0.0579 - val_accuracy: 0.9786 - val_loss: 0.0721\n",
      "Epoch 7/50\n",
      "\u001b[1m1040/1040\u001b[0m \u001b[32m━━━━━━━━━━━━━━━━━━━━\u001b[0m\u001b[37m\u001b[0m \u001b[1m2s\u001b[0m 2ms/step - accuracy: 0.9793 - loss: 0.0499 - val_accuracy: 0.9766 - val_loss: 0.0649\n",
      "Epoch 8/50\n",
      "\u001b[1m1040/1040\u001b[0m \u001b[32m━━━━━━━━━━━━━━━━━━━━\u001b[0m\u001b[37m\u001b[0m \u001b[1m3s\u001b[0m 2ms/step - accuracy: 0.9788 - loss: 0.0517 - val_accuracy: 0.9770 - val_loss: 0.0699\n",
      "Epoch 9/50\n",
      "\u001b[1m1040/1040\u001b[0m \u001b[32m━━━━━━━━━━━━━━━━━━━━\u001b[0m\u001b[37m\u001b[0m \u001b[1m3s\u001b[0m 3ms/step - accuracy: 0.9805 - loss: 0.0507 - val_accuracy: 0.9803 - val_loss: 0.0662\n",
      "Epoch 10/50\n",
      "\u001b[1m1040/1040\u001b[0m \u001b[32m━━━━━━━━━━━━━━━━━━━━\u001b[0m\u001b[37m\u001b[0m \u001b[1m3s\u001b[0m 3ms/step - accuracy: 0.9818 - loss: 0.0445 - val_accuracy: 0.9767 - val_loss: 0.0731\n",
      "Epoch 11/50\n",
      "\u001b[1m1040/1040\u001b[0m \u001b[32m━━━━━━━━━━━━━━━━━━━━\u001b[0m\u001b[37m\u001b[0m \u001b[1m2s\u001b[0m 2ms/step - accuracy: 0.9812 - loss: 0.0467 - val_accuracy: 0.9804 - val_loss: 0.0670\n",
      "Epoch 12/50\n",
      "\u001b[1m1040/1040\u001b[0m \u001b[32m━━━━━━━━━━━━━━━━━━━━\u001b[0m\u001b[37m\u001b[0m \u001b[1m3s\u001b[0m 2ms/step - accuracy: 0.9827 - loss: 0.0404 - val_accuracy: 0.9782 - val_loss: 0.0737\n",
      "Epoch 13/50\n",
      "\u001b[1m1040/1040\u001b[0m \u001b[32m━━━━━━━━━━━━━━━━━━━━\u001b[0m\u001b[37m\u001b[0m \u001b[1m2s\u001b[0m 2ms/step - accuracy: 0.9821 - loss: 0.0439 - val_accuracy: 0.9762 - val_loss: 0.0948\n",
      "Epoch 14/50\n",
      "\u001b[1m1040/1040\u001b[0m \u001b[32m━━━━━━━━━━━━━━━━━━━━\u001b[0m\u001b[37m\u001b[0m \u001b[1m2s\u001b[0m 2ms/step - accuracy: 0.9845 - loss: 0.0391 - val_accuracy: 0.9797 - val_loss: 0.0783\n",
      "Epoch 15/50\n",
      "\u001b[1m1040/1040\u001b[0m \u001b[32m━━━━━━━━━━━━━━━━━━━━\u001b[0m\u001b[37m\u001b[0m \u001b[1m2s\u001b[0m 2ms/step - accuracy: 0.9848 - loss: 0.0376 - val_accuracy: 0.9806 - val_loss: 0.0807\n",
      "Epoch 16/50\n",
      "\u001b[1m1040/1040\u001b[0m \u001b[32m━━━━━━━━━━━━━━━━━━━━\u001b[0m\u001b[37m\u001b[0m \u001b[1m2s\u001b[0m 2ms/step - accuracy: 0.9841 - loss: 0.0392 - val_accuracy: 0.9810 - val_loss: 0.0713\n",
      "Epoch 17/50\n",
      "\u001b[1m1040/1040\u001b[0m \u001b[32m━━━━━━━━━━━━━━━━━━━━\u001b[0m\u001b[37m\u001b[0m \u001b[1m2s\u001b[0m 2ms/step - accuracy: 0.9838 - loss: 0.0415 - val_accuracy: 0.9773 - val_loss: 0.1152\n",
      "Epoch 18/50\n",
      "\u001b[1m1040/1040\u001b[0m \u001b[32m━━━━━━━━━━━━━━━━━━━━\u001b[0m\u001b[37m\u001b[0m \u001b[1m2s\u001b[0m 2ms/step - accuracy: 0.9828 - loss: 0.0455 - val_accuracy: 0.9807 - val_loss: 0.0843\n",
      "Epoch 19/50\n",
      "\u001b[1m1040/1040\u001b[0m \u001b[32m━━━━━━━━━━━━━━━━━━━━\u001b[0m\u001b[37m\u001b[0m \u001b[1m2s\u001b[0m 2ms/step - accuracy: 0.9854 - loss: 0.0564 - val_accuracy: 0.9786 - val_loss: 0.0990\n",
      "Epoch 20/50\n",
      "\u001b[1m1040/1040\u001b[0m \u001b[32m━━━━━━━━━━━━━━━━━━━━\u001b[0m\u001b[37m\u001b[0m \u001b[1m2s\u001b[0m 2ms/step - accuracy: 0.9854 - loss: 0.0381 - val_accuracy: 0.9818 - val_loss: 0.0766\n",
      "Epoch 21/50\n",
      "\u001b[1m1040/1040\u001b[0m \u001b[32m━━━━━━━━━━━━━━━━━━━━\u001b[0m\u001b[37m\u001b[0m \u001b[1m2s\u001b[0m 2ms/step - accuracy: 0.9845 - loss: 0.0369 - val_accuracy: 0.9822 - val_loss: 0.0851\n",
      "Epoch 22/50\n",
      "\u001b[1m1040/1040\u001b[0m \u001b[32m━━━━━━━━━━━━━━━━━━━━\u001b[0m\u001b[37m\u001b[0m \u001b[1m2s\u001b[0m 2ms/step - accuracy: 0.9848 - loss: 0.0383 - val_accuracy: 0.9806 - val_loss: 0.0886\n",
      "Epoch 23/50\n",
      "\u001b[1m1040/1040\u001b[0m \u001b[32m━━━━━━━━━━━━━━━━━━━━\u001b[0m\u001b[37m\u001b[0m \u001b[1m2s\u001b[0m 2ms/step - accuracy: 0.9856 - loss: 0.0346 - val_accuracy: 0.9819 - val_loss: 0.0941\n",
      "Epoch 24/50\n",
      "\u001b[1m1040/1040\u001b[0m \u001b[32m━━━━━━━━━━━━━━━━━━━━\u001b[0m\u001b[37m\u001b[0m \u001b[1m2s\u001b[0m 2ms/step - accuracy: 0.9858 - loss: 0.0351 - val_accuracy: 0.9815 - val_loss: 0.0814\n",
      "Epoch 25/50\n",
      "\u001b[1m1040/1040\u001b[0m \u001b[32m━━━━━━━━━━━━━━━━━━━━\u001b[0m\u001b[37m\u001b[0m \u001b[1m3s\u001b[0m 2ms/step - accuracy: 0.9863 - loss: 0.0338 - val_accuracy: 0.9754 - val_loss: 0.1125\n",
      "Epoch 26/50\n",
      "\u001b[1m1040/1040\u001b[0m \u001b[32m━━━━━━━━━━━━━━━━━━━━\u001b[0m\u001b[37m\u001b[0m \u001b[1m3s\u001b[0m 3ms/step - accuracy: 0.9865 - loss: 0.0340 - val_accuracy: 0.9827 - val_loss: 0.1052\n",
      "Epoch 27/50\n",
      "\u001b[1m1040/1040\u001b[0m \u001b[32m━━━━━━━━━━━━━━━━━━━━\u001b[0m\u001b[37m\u001b[0m \u001b[1m3s\u001b[0m 2ms/step - accuracy: 0.9871 - loss: 0.0318 - val_accuracy: 0.9810 - val_loss: 0.0966\n",
      "Epoch 28/50\n",
      "\u001b[1m1040/1040\u001b[0m \u001b[32m━━━━━━━━━━━━━━━━━━━━\u001b[0m\u001b[37m\u001b[0m \u001b[1m2s\u001b[0m 2ms/step - accuracy: 0.9864 - loss: 0.0321 - val_accuracy: 0.9815 - val_loss: 0.0985\n",
      "Epoch 29/50\n",
      "\u001b[1m1040/1040\u001b[0m \u001b[32m━━━━━━━━━━━━━━━━━━━━\u001b[0m\u001b[37m\u001b[0m \u001b[1m2s\u001b[0m 2ms/step - accuracy: 0.9871 - loss: 0.0323 - val_accuracy: 0.9821 - val_loss: 0.0983\n",
      "Epoch 30/50\n",
      "\u001b[1m1040/1040\u001b[0m \u001b[32m━━━━━━━━━━━━━━━━━━━━\u001b[0m\u001b[37m\u001b[0m \u001b[1m2s\u001b[0m 2ms/step - accuracy: 0.9868 - loss: 0.0301 - val_accuracy: 0.9797 - val_loss: 0.1217\n",
      "Epoch 31/50\n",
      "\u001b[1m1040/1040\u001b[0m \u001b[32m━━━━━━━━━━━━━━━━━━━━\u001b[0m\u001b[37m\u001b[0m \u001b[1m2s\u001b[0m 2ms/step - accuracy: 0.9862 - loss: 0.0377 - val_accuracy: 0.9821 - val_loss: 0.1292\n",
      "Epoch 32/50\n",
      "\u001b[1m1040/1040\u001b[0m \u001b[32m━━━━━━━━━━━━━━━━━━━━\u001b[0m\u001b[37m\u001b[0m \u001b[1m2s\u001b[0m 2ms/step - accuracy: 0.9872 - loss: 0.0444 - val_accuracy: 0.9815 - val_loss: 0.1051\n",
      "Epoch 33/50\n",
      "\u001b[1m1040/1040\u001b[0m \u001b[32m━━━━━━━━━━━━━━━━━━━━\u001b[0m\u001b[37m\u001b[0m \u001b[1m2s\u001b[0m 2ms/step - accuracy: 0.9870 - loss: 0.0301 - val_accuracy: 0.9803 - val_loss: 0.1127\n",
      "Epoch 34/50\n",
      "\u001b[1m1040/1040\u001b[0m \u001b[32m━━━━━━━━━━━━━━━━━━━━\u001b[0m\u001b[37m\u001b[0m \u001b[1m2s\u001b[0m 2ms/step - accuracy: 0.9885 - loss: 0.0290 - val_accuracy: 0.9797 - val_loss: 0.1038\n",
      "Epoch 35/50\n",
      "\u001b[1m1040/1040\u001b[0m \u001b[32m━━━━━━━━━━━━━━━━━━━━\u001b[0m\u001b[37m\u001b[0m \u001b[1m3s\u001b[0m 2ms/step - accuracy: 0.9880 - loss: 0.0306 - val_accuracy: 0.9804 - val_loss: 0.1107\n",
      "Epoch 36/50\n",
      "\u001b[1m1040/1040\u001b[0m \u001b[32m━━━━━━━━━━━━━━━━━━━━\u001b[0m\u001b[37m\u001b[0m \u001b[1m3s\u001b[0m 2ms/step - accuracy: 0.9872 - loss: 0.0327 - val_accuracy: 0.9821 - val_loss: 0.1057\n",
      "Epoch 37/50\n",
      "\u001b[1m1040/1040\u001b[0m \u001b[32m━━━━━━━━━━━━━━━━━━━━\u001b[0m\u001b[37m\u001b[0m \u001b[1m2s\u001b[0m 2ms/step - accuracy: 0.9865 - loss: 0.0313 - val_accuracy: 0.9829 - val_loss: 0.1220\n",
      "Epoch 38/50\n",
      "\u001b[1m1040/1040\u001b[0m \u001b[32m━━━━━━━━━━━━━━━━━━━━\u001b[0m\u001b[37m\u001b[0m \u001b[1m2s\u001b[0m 2ms/step - accuracy: 0.9869 - loss: 0.0327 - val_accuracy: 0.9822 - val_loss: 0.1086\n",
      "Epoch 39/50\n",
      "\u001b[1m1040/1040\u001b[0m \u001b[32m━━━━━━━━━━━━━━━━━━━━\u001b[0m\u001b[37m\u001b[0m \u001b[1m2s\u001b[0m 2ms/step - accuracy: 0.9872 - loss: 0.0294 - val_accuracy: 0.9814 - val_loss: 0.1006\n",
      "Epoch 40/50\n",
      "\u001b[1m1040/1040\u001b[0m \u001b[32m━━━━━━━━━━━━━━━━━━━━\u001b[0m\u001b[37m\u001b[0m \u001b[1m2s\u001b[0m 2ms/step - accuracy: 0.9886 - loss: 0.0286 - val_accuracy: 0.9811 - val_loss: 0.1050\n",
      "Epoch 41/50\n",
      "\u001b[1m1040/1040\u001b[0m \u001b[32m━━━━━━━━━━━━━━━━━━━━\u001b[0m\u001b[37m\u001b[0m \u001b[1m3s\u001b[0m 3ms/step - accuracy: 0.9870 - loss: 0.0367 - val_accuracy: 0.9833 - val_loss: 0.1085\n",
      "Epoch 42/50\n",
      "\u001b[1m1040/1040\u001b[0m \u001b[32m━━━━━━━━━━━━━━━━━━━━\u001b[0m\u001b[37m\u001b[0m \u001b[1m2s\u001b[0m 2ms/step - accuracy: 0.9876 - loss: 0.0365 - val_accuracy: 0.9825 - val_loss: 0.0713\n",
      "Epoch 43/50\n",
      "\u001b[1m1040/1040\u001b[0m \u001b[32m━━━━━━━━━━━━━━━━━━━━\u001b[0m\u001b[37m\u001b[0m \u001b[1m2s\u001b[0m 2ms/step - accuracy: 0.9886 - loss: 0.0274 - val_accuracy: 0.9819 - val_loss: 0.0897\n",
      "Epoch 44/50\n",
      "\u001b[1m1040/1040\u001b[0m \u001b[32m━━━━━━━━━━━━━━━━━━━━\u001b[0m\u001b[37m\u001b[0m \u001b[1m2s\u001b[0m 2ms/step - accuracy: 0.9873 - loss: 0.0278 - val_accuracy: 0.9822 - val_loss: 0.0865\n",
      "Epoch 45/50\n",
      "\u001b[1m1040/1040\u001b[0m \u001b[32m━━━━━━━━━━━━━━━━━━━━\u001b[0m\u001b[37m\u001b[0m \u001b[1m3s\u001b[0m 3ms/step - accuracy: 0.9884 - loss: 0.0285 - val_accuracy: 0.9827 - val_loss: 0.0996\n",
      "Epoch 46/50\n",
      "\u001b[1m1040/1040\u001b[0m \u001b[32m━━━━━━━━━━━━━━━━━━━━\u001b[0m\u001b[37m\u001b[0m \u001b[1m3s\u001b[0m 3ms/step - accuracy: 0.9869 - loss: 0.0306 - val_accuracy: 0.9838 - val_loss: 0.1004\n",
      "Epoch 47/50\n",
      "\u001b[1m1040/1040\u001b[0m \u001b[32m━━━━━━━━━━━━━━━━━━━━\u001b[0m\u001b[37m\u001b[0m \u001b[1m3s\u001b[0m 2ms/step - accuracy: 0.9888 - loss: 0.0267 - val_accuracy: 0.9817 - val_loss: 0.0928\n",
      "Epoch 48/50\n",
      "\u001b[1m1040/1040\u001b[0m \u001b[32m━━━━━━━━━━━━━━━━━━━━\u001b[0m\u001b[37m\u001b[0m \u001b[1m3s\u001b[0m 2ms/step - accuracy: 0.9889 - loss: 0.0287 - val_accuracy: 0.9819 - val_loss: 0.1494\n",
      "Epoch 49/50\n",
      "\u001b[1m1040/1040\u001b[0m \u001b[32m━━━━━━━━━━━━━━━━━━━━\u001b[0m\u001b[37m\u001b[0m \u001b[1m3s\u001b[0m 3ms/step - accuracy: 0.9877 - loss: 0.0325 - val_accuracy: 0.9827 - val_loss: 0.1518\n",
      "Epoch 50/50\n",
      "\u001b[1m1040/1040\u001b[0m \u001b[32m━━━━━━━━━━━━━━━━━━━━\u001b[0m\u001b[37m\u001b[0m \u001b[1m3s\u001b[0m 2ms/step - accuracy: 0.9879 - loss: 0.0303 - val_accuracy: 0.9823 - val_loss: 0.1263\n",
      "CPU times: user 2min 43s, sys: 8.52 s, total: 2min 52s\n",
      "Wall time: 2min 7s\n"
     ]
    }
   ],
   "source": [
    "%%time\n",
    "model.fit(X_train, y_train,\n",
    "          batch_size=32,\n",
    "          epochs=50,\n",
    "          validation_data=(X_val, y_val))\n",
    "gc.collect();"
   ]
  },
  {
   "cell_type": "code",
   "execution_count": 65,
   "id": "197c5442-a88a-4513-99f4-011257c58344",
   "metadata": {},
   "outputs": [
    {
     "name": "stdout",
     "output_type": "stream",
     "text": [
      "\u001b[1m224/224\u001b[0m \u001b[32m━━━━━━━━━━━━━━━━━━━━\u001b[0m\u001b[37m\u001b[0m \u001b[1m1s\u001b[0m 3ms/step\n"
     ]
    }
   ],
   "source": [
    "y_pred = model.predict(X_test)\n",
    "y_pred = np.argmax(y_pred, axis=1)"
   ]
  },
  {
   "cell_type": "code",
   "execution_count": 74,
   "id": "0d3ec6dc-7c26-460a-a4aa-bdf39a9c95b0",
   "metadata": {},
   "outputs": [
    {
     "name": "stdout",
     "output_type": "stream",
     "text": [
      "\u001b[1m224/224\u001b[0m \u001b[32m━━━━━━━━━━━━━━━━━━━━\u001b[0m\u001b[37m\u001b[0m \u001b[1m0s\u001b[0m 2ms/step - accuracy: 0.9811 - loss: 0.0740\n"
     ]
    }
   ],
   "source": [
    "_, accuracy = model.evaluate(X_test, y_test)\n",
    "precision = precision_score(y_true=y_test, y_pred=y_pred, average=\"weighted\")\n",
    "f1 = f1_score(y_true=y_test, y_pred=y_pred, average=\"weighted\")\n",
    "recall = recall_score(y_true=y_test, y_pred=y_pred, average=\"weighted\")\n",
    "mae = mean_absolute_error(y_true=y_test,y_pred=y_pred)\n",
    "mse = mean_squared_error(y_true=y_test,y_pred=y_pred) \n",
    "rmse = root_mean_squared_error(y_true=y_test,y_pred=y_pred)"
   ]
  },
  {
   "cell_type": "code",
   "execution_count": 67,
   "id": "adb5fe48-86e2-4aac-bb70-cf4e8f69abf3",
   "metadata": {},
   "outputs": [],
   "source": [
    "results = [accuracy, precision, f1, recall, mae, mse, rmse]\n",
    "results_dict[\"RNN\"] = results"
   ]
  },
  {
   "cell_type": "code",
   "execution_count": 72,
   "id": "809e92b8-1469-48ad-b9c5-b1963f8687c7",
   "metadata": {},
   "outputs": [],
   "source": [
    "results_df = pd.DataFrame.from_dict(results_dict, orient=\"index\", columns=[\"Accuracy\", \"Precision\", \"F1\", \"Recall\", \"MAE\", \"MSE\", \"RMSE\"])"
   ]
  },
  {
   "cell_type": "code",
   "execution_count": 73,
   "id": "81db2ee2-6f43-4216-bd9a-b2089688d47d",
   "metadata": {},
   "outputs": [
    {
     "data": {
      "text/html": [
       "<div>\n",
       "<style scoped>\n",
       "    .dataframe tbody tr th:only-of-type {\n",
       "        vertical-align: middle;\n",
       "    }\n",
       "\n",
       "    .dataframe tbody tr th {\n",
       "        vertical-align: top;\n",
       "    }\n",
       "\n",
       "    .dataframe thead th {\n",
       "        text-align: right;\n",
       "    }\n",
       "</style>\n",
       "<table border=\"1\" class=\"dataframe\">\n",
       "  <thead>\n",
       "    <tr style=\"text-align: right;\">\n",
       "      <th></th>\n",
       "      <th>Accuracy</th>\n",
       "      <th>Precision</th>\n",
       "      <th>F1</th>\n",
       "      <th>Recall</th>\n",
       "      <th>MAE</th>\n",
       "      <th>MSE</th>\n",
       "      <th>RMSE</th>\n",
       "    </tr>\n",
       "  </thead>\n",
       "  <tbody>\n",
       "    <tr>\n",
       "      <th>KNN</th>\n",
       "      <td>0.977517</td>\n",
       "      <td>0.977689</td>\n",
       "      <td>0.977488</td>\n",
       "      <td>0.977517</td>\n",
       "      <td>0.035889</td>\n",
       "      <td>0.064376</td>\n",
       "      <td>0.253725</td>\n",
       "    </tr>\n",
       "    <tr>\n",
       "      <th>RF</th>\n",
       "      <td>0.990644</td>\n",
       "      <td>0.990619</td>\n",
       "      <td>0.990597</td>\n",
       "      <td>0.990644</td>\n",
       "      <td>0.015780</td>\n",
       "      <td>0.029744</td>\n",
       "      <td>0.172466</td>\n",
       "    </tr>\n",
       "    <tr>\n",
       "      <th>XGBoost</th>\n",
       "      <td>0.990644</td>\n",
       "      <td>0.990613</td>\n",
       "      <td>0.990593</td>\n",
       "      <td>0.990644</td>\n",
       "      <td>0.015501</td>\n",
       "      <td>0.028627</td>\n",
       "      <td>0.169196</td>\n",
       "    </tr>\n",
       "    <tr>\n",
       "      <th>LightGBM</th>\n",
       "      <td>0.990504</td>\n",
       "      <td>0.990438</td>\n",
       "      <td>0.990409</td>\n",
       "      <td>0.990504</td>\n",
       "      <td>0.016618</td>\n",
       "      <td>0.032817</td>\n",
       "      <td>0.181154</td>\n",
       "    </tr>\n",
       "    <tr>\n",
       "      <th>SVM</th>\n",
       "      <td>0.973188</td>\n",
       "      <td>0.973767</td>\n",
       "      <td>0.973311</td>\n",
       "      <td>0.973188</td>\n",
       "      <td>0.041894</td>\n",
       "      <td>0.073733</td>\n",
       "      <td>0.271538</td>\n",
       "    </tr>\n",
       "    <tr>\n",
       "      <th>RNN</th>\n",
       "      <td>0.978495</td>\n",
       "      <td>0.978771</td>\n",
       "      <td>0.978597</td>\n",
       "      <td>0.978495</td>\n",
       "      <td>0.035051</td>\n",
       "      <td>0.062701</td>\n",
       "      <td>0.250401</td>\n",
       "    </tr>\n",
       "  </tbody>\n",
       "</table>\n",
       "</div>"
      ],
      "text/plain": [
       "          Accuracy  Precision        F1    Recall       MAE       MSE  \\\n",
       "KNN       0.977517   0.977689  0.977488  0.977517  0.035889  0.064376   \n",
       "RF        0.990644   0.990619  0.990597  0.990644  0.015780  0.029744   \n",
       "XGBoost   0.990644   0.990613  0.990593  0.990644  0.015501  0.028627   \n",
       "LightGBM  0.990504   0.990438  0.990409  0.990504  0.016618  0.032817   \n",
       "SVM       0.973188   0.973767  0.973311  0.973188  0.041894  0.073733   \n",
       "RNN       0.978495   0.978771  0.978597  0.978495  0.035051  0.062701   \n",
       "\n",
       "              RMSE  \n",
       "KNN       0.253725  \n",
       "RF        0.172466  \n",
       "XGBoost   0.169196  \n",
       "LightGBM  0.181154  \n",
       "SVM       0.271538  \n",
       "RNN       0.250401  "
      ]
     },
     "execution_count": 73,
     "metadata": {},
     "output_type": "execute_result"
    }
   ],
   "source": [
    "results_df"
   ]
  },
  {
   "cell_type": "markdown",
   "id": "287c1eea-33ca-406d-8fe7-b01382c130d8",
   "metadata": {},
   "source": [
    "# 4. Plot Results"
   ]
  },
  {
   "cell_type": "code",
   "execution_count": null,
   "id": "3bc58546-fb8f-4fac-8f98-9b8db94e7fba",
   "metadata": {},
   "outputs": [],
   "source": []
  }
 ],
 "metadata": {
  "kernelspec": {
   "display_name": "Python 3 (ipykernel)",
   "language": "python",
   "name": "python3"
  },
  "language_info": {
   "codemirror_mode": {
    "name": "ipython",
    "version": 3
   },
   "file_extension": ".py",
   "mimetype": "text/x-python",
   "name": "python",
   "nbconvert_exporter": "python",
   "pygments_lexer": "ipython3",
   "version": "3.12.7"
  }
 },
 "nbformat": 4,
 "nbformat_minor": 5
}
