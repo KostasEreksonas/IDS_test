{
 "cells": [
  {
   "cell_type": "markdown",
   "id": "907e836c-143f-4707-937c-2a7221738c14",
   "metadata": {},
   "source": [
    "# Network Intrusion Detection System - NIDS"
   ]
  },
  {
   "cell_type": "markdown",
   "id": "3551cc16-e95a-460d-b9f1-9298b2d13297",
   "metadata": {},
   "source": [
    "# 1. Prerequisites"
   ]
  },
  {
   "cell_type": "markdown",
   "id": "b96f30b8-2d0b-4825-a8f1-c3ad8faabaf5",
   "metadata": {},
   "source": [
    "## 1.1. Import Libraries"
   ]
  },
  {
   "cell_type": "code",
   "execution_count": 1,
   "id": "6f6907d9-cd7d-47f7-8d45-023bfc28c8fa",
   "metadata": {},
   "outputs": [
    {
     "name": "stderr",
     "output_type": "stream",
     "text": [
      "2025-01-11 13:56:26.189185: E external/local_xla/xla/stream_executor/cuda/cuda_fft.cc:477] Unable to register cuFFT factory: Attempting to register factory for plugin cuFFT when one has already been registered\n",
      "WARNING: All log messages before absl::InitializeLog() is called are written to STDERR\n",
      "E0000 00:00:1736596586.228963  332385 cuda_dnn.cc:8310] Unable to register cuDNN factory: Attempting to register factory for plugin cuDNN when one has already been registered\n",
      "E0000 00:00:1736596586.244581  332385 cuda_blas.cc:1418] Unable to register cuBLAS factory: Attempting to register factory for plugin cuBLAS when one has already been registered\n",
      "2025-01-11 13:56:26.333975: I tensorflow/core/platform/cpu_feature_guard.cc:210] This TensorFlow binary is optimized to use available CPU instructions in performance-critical operations.\n",
      "To enable the following instructions: AVX2 FMA, in other operations, rebuild TensorFlow with the appropriate compiler flags.\n"
     ]
    }
   ],
   "source": [
    "import os\n",
    "import gc\n",
    "import optuna\n",
    "import numpy as np\n",
    "import pandas as pd\n",
    "import seaborn as sns\n",
    "import matplotlib.pyplot as plt\n",
    "%matplotlib inline\n",
    "\n",
    "from sklearn.neighbors import KNeighborsClassifier\n",
    "from tensorflow import keras\n",
    "from prettytable import PrettyTable\n",
    "from sklearn.decomposition import PCA\n",
    "from sklearn.model_selection import train_test_split\n",
    "from sklearn.feature_selection import SelectKBest, f_classif\n",
    "from sklearn.preprocessing import StandardScaler, OneHotEncoder\n",
    "from sklearn.metrics import accuracy_score, root_mean_squared_error, mean_squared_error, mean_absolute_error, precision_score, confusion_matrix, multilabel_confusion_matrix, classification_report, f1_score, precision_score, recall_score\n",
    "from sklearn.ensemble import RandomForestClassifier\n",
    "import xgboost as xgb\n",
    "import lightgbm\n",
    "from sklearn.svm import LinearSVC\n",
    "from tensorflow.keras.utils import to_categorical\n",
    "\n",
    "import warnings\n",
    "warnings.filterwarnings('ignore')"
   ]
  },
  {
   "cell_type": "code",
   "execution_count": 2,
   "id": "30f6db93-1ed1-4a63-b4c3-f2854e5c6183",
   "metadata": {},
   "outputs": [
    {
     "name": "stdout",
     "output_type": "stream",
     "text": [
      "data/CIC_IDS_2017/prepared_train_labels.npy\n",
      "data/CIC_IDS_2017/MachineLearningCSV.md5\n",
      "data/CIC_IDS_2017/download_dataset.sh\n",
      "data/CIC_IDS_2017/README.md\n",
      "data/CIC_IDS_2017/prepared_train_data.npy\n",
      "data/CIC_IDS_2017/GeneratedLabelledFlows.zip\n",
      "data/CIC_IDS_2017/MachineLearningCSV.zip\n",
      "data/CIC_IDS_2017/GeneratedLabelledFlows.md5\n",
      "data/CIC_IDS_2017/MachineLearningCVE/Friday-WorkingHours-Afternoon-DDos.pcap_ISCX.csv\n",
      "data/CIC_IDS_2017/MachineLearningCVE/Thursday-WorkingHours-Afternoon-Infilteration.pcap_ISCX.csv\n",
      "data/CIC_IDS_2017/MachineLearningCVE/Thursday-WorkingHours-Morning-WebAttacks.pcap_ISCX.csv\n",
      "data/CIC_IDS_2017/MachineLearningCVE/Friday-WorkingHours-Morning.pcap_ISCX.csv\n",
      "data/CIC_IDS_2017/MachineLearningCVE/Monday-WorkingHours.pcap_ISCX.csv\n",
      "data/CIC_IDS_2017/MachineLearningCVE/Friday-WorkingHours-Afternoon-PortScan.pcap_ISCX.csv\n",
      "data/CIC_IDS_2017/MachineLearningCVE/Wednesday-workingHours.pcap_ISCX.csv\n",
      "data/CIC_IDS_2017/MachineLearningCVE/Tuesday-WorkingHours.pcap_ISCX.csv\n",
      "data/CIC_IDS_2017/TrafficLabelling /Friday-WorkingHours-Afternoon-DDos.pcap_ISCX.csv\n",
      "data/CIC_IDS_2017/TrafficLabelling /Thursday-WorkingHours-Afternoon-Infilteration.pcap_ISCX.csv\n",
      "data/CIC_IDS_2017/TrafficLabelling /Thursday-WorkingHours-Morning-WebAttacks.pcap_ISCX.csv\n",
      "data/CIC_IDS_2017/TrafficLabelling /Friday-WorkingHours-Morning.pcap_ISCX.csv\n",
      "data/CIC_IDS_2017/TrafficLabelling /Monday-WorkingHours.pcap_ISCX.csv\n",
      "data/CIC_IDS_2017/TrafficLabelling /Friday-WorkingHours-Afternoon-PortScan.pcap_ISCX.csv\n",
      "data/CIC_IDS_2017/TrafficLabelling /Wednesday-workingHours.pcap_ISCX.csv\n",
      "data/CIC_IDS_2017/TrafficLabelling /Tuesday-WorkingHours.pcap_ISCX.csv\n"
     ]
    }
   ],
   "source": [
    "for dirname, _, filenames in os.walk('data/CIC_IDS_2017/'):\n",
    "    for filename in filenames:\n",
    "        print(os.path.join(dirname, filename))"
   ]
  },
  {
   "cell_type": "markdown",
   "id": "78110435-3032-46c9-bf56-0179f916b46b",
   "metadata": {},
   "source": [
    "# 2. Data Analysis"
   ]
  },
  {
   "cell_type": "code",
   "execution_count": 3,
   "id": "5a7e1871-943f-4887-98e9-4cc1b729c9b2",
   "metadata": {},
   "outputs": [],
   "source": [
    "monday = pd.read_csv('data/CIC_IDS_2017/MachineLearningCVE/Monday-WorkingHours.pcap_ISCX.csv', sep=\",\", encoding='utf-8')\n",
    "tuesday = pd.read_csv('data/CIC_IDS_2017/MachineLearningCVE/Tuesday-WorkingHours.pcap_ISCX.csv', sep=\",\", encoding='utf-8')\n",
    "wednesday = pd.read_csv('data/CIC_IDS_2017/MachineLearningCVE/Wednesday-workingHours.pcap_ISCX.csv', sep=\",\", encoding='utf-8')\n",
    "thursday_morning = pd.read_csv('data/CIC_IDS_2017/MachineLearningCVE/Thursday-WorkingHours-Morning-WebAttacks.pcap_ISCX.csv', sep=\",\", encoding='utf-8')\n",
    "thursday_afternoon = pd.read_csv('data/CIC_IDS_2017/MachineLearningCVE/Thursday-WorkingHours-Afternoon-Infilteration.pcap_ISCX.csv', sep=\",\", encoding='utf-8')\n",
    "friday_ddos = pd.read_csv('data/CIC_IDS_2017/MachineLearningCVE/Friday-WorkingHours-Afternoon-DDos.pcap_ISCX.csv', sep=\",\", encoding='utf-8')\n",
    "friday_pcap = pd.read_csv('data/CIC_IDS_2017/MachineLearningCVE/Friday-WorkingHours-Afternoon-PortScan.pcap_ISCX.csv', sep=\",\", encoding='utf-8')\n",
    "friday_morning = pd.read_csv('data/CIC_IDS_2017/MachineLearningCVE/Friday-WorkingHours-Morning.pcap_ISCX.csv', sep=\",\", encoding='utf-8')\n",
    "monday.name = 'Monday'\n",
    "tuesday.name = 'Tuesday'\n",
    "wednesday.name = 'Wednesday'\n",
    "thursday_morning.name = 'Thursday_Morning'\n",
    "thursday_afternoon.name = 'Thursday_Afternoon'\n",
    "friday_ddos.name = 'Friday_DDoS'\n",
    "friday_pcap.name = 'Friday_Pcap'\n",
    "friday_morning.name = 'Friday_Morning'"
   ]
  },
  {
   "cell_type": "code",
   "execution_count": 4,
   "id": "0a062489-b226-4766-8682-ba78c7c2098f",
   "metadata": {},
   "outputs": [],
   "source": [
    "dataframes = [monday, tuesday, wednesday, thursday_morning, thursday_afternoon, friday_ddos, friday_morning, friday_pcap]\n",
    "data = pd.concat(dataframes)"
   ]
  },
  {
   "cell_type": "code",
   "execution_count": 5,
   "id": "7eb05869-22d9-4a49-a2b3-69530059012e",
   "metadata": {},
   "outputs": [
    {
     "data": {
      "text/html": [
       "<div>\n",
       "<style scoped>\n",
       "    .dataframe tbody tr th:only-of-type {\n",
       "        vertical-align: middle;\n",
       "    }\n",
       "\n",
       "    .dataframe tbody tr th {\n",
       "        vertical-align: top;\n",
       "    }\n",
       "\n",
       "    .dataframe thead th {\n",
       "        text-align: right;\n",
       "    }\n",
       "</style>\n",
       "<table border=\"1\" class=\"dataframe\">\n",
       "  <thead>\n",
       "    <tr style=\"text-align: right;\">\n",
       "      <th></th>\n",
       "      <th>Destination Port</th>\n",
       "      <th>Flow Duration</th>\n",
       "      <th>Total Fwd Packets</th>\n",
       "      <th>Total Backward Packets</th>\n",
       "      <th>Total Length of Fwd Packets</th>\n",
       "      <th>Total Length of Bwd Packets</th>\n",
       "      <th>Fwd Packet Length Max</th>\n",
       "      <th>Fwd Packet Length Min</th>\n",
       "      <th>Fwd Packet Length Mean</th>\n",
       "      <th>Fwd Packet Length Std</th>\n",
       "      <th>...</th>\n",
       "      <th>min_seg_size_forward</th>\n",
       "      <th>Active Mean</th>\n",
       "      <th>Active Std</th>\n",
       "      <th>Active Max</th>\n",
       "      <th>Active Min</th>\n",
       "      <th>Idle Mean</th>\n",
       "      <th>Idle Std</th>\n",
       "      <th>Idle Max</th>\n",
       "      <th>Idle Min</th>\n",
       "      <th>Label</th>\n",
       "    </tr>\n",
       "  </thead>\n",
       "  <tbody>\n",
       "    <tr>\n",
       "      <th>0</th>\n",
       "      <td>49188</td>\n",
       "      <td>4</td>\n",
       "      <td>2</td>\n",
       "      <td>0</td>\n",
       "      <td>12</td>\n",
       "      <td>0</td>\n",
       "      <td>6</td>\n",
       "      <td>6</td>\n",
       "      <td>6.0</td>\n",
       "      <td>0.0</td>\n",
       "      <td>...</td>\n",
       "      <td>20</td>\n",
       "      <td>0.0</td>\n",
       "      <td>0.0</td>\n",
       "      <td>0</td>\n",
       "      <td>0</td>\n",
       "      <td>0.0</td>\n",
       "      <td>0.0</td>\n",
       "      <td>0</td>\n",
       "      <td>0</td>\n",
       "      <td>BENIGN</td>\n",
       "    </tr>\n",
       "    <tr>\n",
       "      <th>1</th>\n",
       "      <td>49188</td>\n",
       "      <td>1</td>\n",
       "      <td>2</td>\n",
       "      <td>0</td>\n",
       "      <td>12</td>\n",
       "      <td>0</td>\n",
       "      <td>6</td>\n",
       "      <td>6</td>\n",
       "      <td>6.0</td>\n",
       "      <td>0.0</td>\n",
       "      <td>...</td>\n",
       "      <td>20</td>\n",
       "      <td>0.0</td>\n",
       "      <td>0.0</td>\n",
       "      <td>0</td>\n",
       "      <td>0</td>\n",
       "      <td>0.0</td>\n",
       "      <td>0.0</td>\n",
       "      <td>0</td>\n",
       "      <td>0</td>\n",
       "      <td>BENIGN</td>\n",
       "    </tr>\n",
       "    <tr>\n",
       "      <th>2</th>\n",
       "      <td>49188</td>\n",
       "      <td>1</td>\n",
       "      <td>2</td>\n",
       "      <td>0</td>\n",
       "      <td>12</td>\n",
       "      <td>0</td>\n",
       "      <td>6</td>\n",
       "      <td>6</td>\n",
       "      <td>6.0</td>\n",
       "      <td>0.0</td>\n",
       "      <td>...</td>\n",
       "      <td>20</td>\n",
       "      <td>0.0</td>\n",
       "      <td>0.0</td>\n",
       "      <td>0</td>\n",
       "      <td>0</td>\n",
       "      <td>0.0</td>\n",
       "      <td>0.0</td>\n",
       "      <td>0</td>\n",
       "      <td>0</td>\n",
       "      <td>BENIGN</td>\n",
       "    </tr>\n",
       "    <tr>\n",
       "      <th>3</th>\n",
       "      <td>49188</td>\n",
       "      <td>1</td>\n",
       "      <td>2</td>\n",
       "      <td>0</td>\n",
       "      <td>12</td>\n",
       "      <td>0</td>\n",
       "      <td>6</td>\n",
       "      <td>6</td>\n",
       "      <td>6.0</td>\n",
       "      <td>0.0</td>\n",
       "      <td>...</td>\n",
       "      <td>20</td>\n",
       "      <td>0.0</td>\n",
       "      <td>0.0</td>\n",
       "      <td>0</td>\n",
       "      <td>0</td>\n",
       "      <td>0.0</td>\n",
       "      <td>0.0</td>\n",
       "      <td>0</td>\n",
       "      <td>0</td>\n",
       "      <td>BENIGN</td>\n",
       "    </tr>\n",
       "    <tr>\n",
       "      <th>4</th>\n",
       "      <td>49486</td>\n",
       "      <td>3</td>\n",
       "      <td>2</td>\n",
       "      <td>0</td>\n",
       "      <td>12</td>\n",
       "      <td>0</td>\n",
       "      <td>6</td>\n",
       "      <td>6</td>\n",
       "      <td>6.0</td>\n",
       "      <td>0.0</td>\n",
       "      <td>...</td>\n",
       "      <td>20</td>\n",
       "      <td>0.0</td>\n",
       "      <td>0.0</td>\n",
       "      <td>0</td>\n",
       "      <td>0</td>\n",
       "      <td>0.0</td>\n",
       "      <td>0.0</td>\n",
       "      <td>0</td>\n",
       "      <td>0</td>\n",
       "      <td>BENIGN</td>\n",
       "    </tr>\n",
       "  </tbody>\n",
       "</table>\n",
       "<p>5 rows × 79 columns</p>\n",
       "</div>"
      ],
      "text/plain": [
       "    Destination Port   Flow Duration   Total Fwd Packets  \\\n",
       "0              49188               4                   2   \n",
       "1              49188               1                   2   \n",
       "2              49188               1                   2   \n",
       "3              49188               1                   2   \n",
       "4              49486               3                   2   \n",
       "\n",
       "    Total Backward Packets  Total Length of Fwd Packets  \\\n",
       "0                        0                           12   \n",
       "1                        0                           12   \n",
       "2                        0                           12   \n",
       "3                        0                           12   \n",
       "4                        0                           12   \n",
       "\n",
       "    Total Length of Bwd Packets   Fwd Packet Length Max  \\\n",
       "0                             0                       6   \n",
       "1                             0                       6   \n",
       "2                             0                       6   \n",
       "3                             0                       6   \n",
       "4                             0                       6   \n",
       "\n",
       "    Fwd Packet Length Min   Fwd Packet Length Mean   Fwd Packet Length Std  \\\n",
       "0                       6                      6.0                     0.0   \n",
       "1                       6                      6.0                     0.0   \n",
       "2                       6                      6.0                     0.0   \n",
       "3                       6                      6.0                     0.0   \n",
       "4                       6                      6.0                     0.0   \n",
       "\n",
       "   ...   min_seg_size_forward  Active Mean   Active Std   Active Max  \\\n",
       "0  ...                     20          0.0          0.0            0   \n",
       "1  ...                     20          0.0          0.0            0   \n",
       "2  ...                     20          0.0          0.0            0   \n",
       "3  ...                     20          0.0          0.0            0   \n",
       "4  ...                     20          0.0          0.0            0   \n",
       "\n",
       "    Active Min  Idle Mean   Idle Std   Idle Max   Idle Min   Label  \n",
       "0            0        0.0        0.0          0          0  BENIGN  \n",
       "1            0        0.0        0.0          0          0  BENIGN  \n",
       "2            0        0.0        0.0          0          0  BENIGN  \n",
       "3            0        0.0        0.0          0          0  BENIGN  \n",
       "4            0        0.0        0.0          0          0  BENIGN  \n",
       "\n",
       "[5 rows x 79 columns]"
      ]
     },
     "execution_count": 5,
     "metadata": {},
     "output_type": "execute_result"
    }
   ],
   "source": [
    "data.head()"
   ]
  },
  {
   "cell_type": "code",
   "execution_count": 6,
   "id": "f263668b-8bbc-43ab-9fc8-3922d0b9c4bf",
   "metadata": {},
   "outputs": [
    {
     "data": {
      "text/plain": [
       "0         4\n",
       "1         1\n",
       "2         1\n",
       "3         1\n",
       "4         3\n",
       "5         1\n",
       "6         1\n",
       "7         1\n",
       "8       609\n",
       "9       879\n",
       "10     1160\n",
       "11      524\n",
       "12        6\n",
       "13     1119\n",
       "14    18378\n",
       "15      822\n",
       "16      876\n",
       "17     1009\n",
       "18      616\n",
       "19        5\n",
       "Name:  Flow Duration, dtype: int64"
      ]
     },
     "execution_count": 6,
     "metadata": {},
     "output_type": "execute_result"
    }
   ],
   "source": [
    "data[' Flow Duration'].head(20)"
   ]
  },
  {
   "cell_type": "code",
   "execution_count": 7,
   "id": "51b75923-c9c8-43d3-bf10-e5fbeb738254",
   "metadata": {},
   "outputs": [
    {
     "name": "stdout",
     "output_type": "stream",
     "text": [
      "<class 'pandas.core.frame.DataFrame'>\n",
      "Index: 2830743 entries, 0 to 286466\n",
      "Data columns (total 79 columns):\n",
      " #   Column                        Dtype  \n",
      "---  ------                        -----  \n",
      " 0    Destination Port             int64  \n",
      " 1    Flow Duration                int64  \n",
      " 2    Total Fwd Packets            int64  \n",
      " 3    Total Backward Packets       int64  \n",
      " 4   Total Length of Fwd Packets   int64  \n",
      " 5    Total Length of Bwd Packets  int64  \n",
      " 6    Fwd Packet Length Max        int64  \n",
      " 7    Fwd Packet Length Min        int64  \n",
      " 8    Fwd Packet Length Mean       float64\n",
      " 9    Fwd Packet Length Std        float64\n",
      " 10  Bwd Packet Length Max         int64  \n",
      " 11   Bwd Packet Length Min        int64  \n",
      " 12   Bwd Packet Length Mean       float64\n",
      " 13   Bwd Packet Length Std        float64\n",
      " 14  Flow Bytes/s                  float64\n",
      " 15   Flow Packets/s               float64\n",
      " 16   Flow IAT Mean                float64\n",
      " 17   Flow IAT Std                 float64\n",
      " 18   Flow IAT Max                 int64  \n",
      " 19   Flow IAT Min                 int64  \n",
      " 20  Fwd IAT Total                 int64  \n",
      " 21   Fwd IAT Mean                 float64\n",
      " 22   Fwd IAT Std                  float64\n",
      " 23   Fwd IAT Max                  int64  \n",
      " 24   Fwd IAT Min                  int64  \n",
      " 25  Bwd IAT Total                 int64  \n",
      " 26   Bwd IAT Mean                 float64\n",
      " 27   Bwd IAT Std                  float64\n",
      " 28   Bwd IAT Max                  int64  \n",
      " 29   Bwd IAT Min                  int64  \n",
      " 30  Fwd PSH Flags                 int64  \n",
      " 31   Bwd PSH Flags                int64  \n",
      " 32   Fwd URG Flags                int64  \n",
      " 33   Bwd URG Flags                int64  \n",
      " 34   Fwd Header Length            int64  \n",
      " 35   Bwd Header Length            int64  \n",
      " 36  Fwd Packets/s                 float64\n",
      " 37   Bwd Packets/s                float64\n",
      " 38   Min Packet Length            int64  \n",
      " 39   Max Packet Length            int64  \n",
      " 40   Packet Length Mean           float64\n",
      " 41   Packet Length Std            float64\n",
      " 42   Packet Length Variance       float64\n",
      " 43  FIN Flag Count                int64  \n",
      " 44   SYN Flag Count               int64  \n",
      " 45   RST Flag Count               int64  \n",
      " 46   PSH Flag Count               int64  \n",
      " 47   ACK Flag Count               int64  \n",
      " 48   URG Flag Count               int64  \n",
      " 49   CWE Flag Count               int64  \n",
      " 50   ECE Flag Count               int64  \n",
      " 51   Down/Up Ratio                int64  \n",
      " 52   Average Packet Size          float64\n",
      " 53   Avg Fwd Segment Size         float64\n",
      " 54   Avg Bwd Segment Size         float64\n",
      " 55   Fwd Header Length.1          int64  \n",
      " 56  Fwd Avg Bytes/Bulk            int64  \n",
      " 57   Fwd Avg Packets/Bulk         int64  \n",
      " 58   Fwd Avg Bulk Rate            int64  \n",
      " 59   Bwd Avg Bytes/Bulk           int64  \n",
      " 60   Bwd Avg Packets/Bulk         int64  \n",
      " 61  Bwd Avg Bulk Rate             int64  \n",
      " 62  Subflow Fwd Packets           int64  \n",
      " 63   Subflow Fwd Bytes            int64  \n",
      " 64   Subflow Bwd Packets          int64  \n",
      " 65   Subflow Bwd Bytes            int64  \n",
      " 66  Init_Win_bytes_forward        int64  \n",
      " 67   Init_Win_bytes_backward      int64  \n",
      " 68   act_data_pkt_fwd             int64  \n",
      " 69   min_seg_size_forward         int64  \n",
      " 70  Active Mean                   float64\n",
      " 71   Active Std                   float64\n",
      " 72   Active Max                   int64  \n",
      " 73   Active Min                   int64  \n",
      " 74  Idle Mean                     float64\n",
      " 75   Idle Std                     float64\n",
      " 76   Idle Max                     int64  \n",
      " 77   Idle Min                     int64  \n",
      " 78   Label                        object \n",
      "dtypes: float64(24), int64(54), object(1)\n",
      "memory usage: 1.7+ GB\n"
     ]
    }
   ],
   "source": [
    "data.info()"
   ]
  },
  {
   "cell_type": "code",
   "execution_count": 8,
   "id": "ec8899d7-4729-41c5-8926-f3cbe6c77ad4",
   "metadata": {},
   "outputs": [
    {
     "data": {
      "text/plain": [
       "Index([' Destination Port', ' Flow Duration', ' Total Fwd Packets',\n",
       "       ' Total Backward Packets', 'Total Length of Fwd Packets',\n",
       "       ' Total Length of Bwd Packets', ' Fwd Packet Length Max',\n",
       "       ' Fwd Packet Length Min', ' Fwd Packet Length Mean',\n",
       "       ' Fwd Packet Length Std', 'Bwd Packet Length Max',\n",
       "       ' Bwd Packet Length Min', ' Bwd Packet Length Mean',\n",
       "       ' Bwd Packet Length Std', 'Flow Bytes/s', ' Flow Packets/s',\n",
       "       ' Flow IAT Mean', ' Flow IAT Std', ' Flow IAT Max', ' Flow IAT Min',\n",
       "       'Fwd IAT Total', ' Fwd IAT Mean', ' Fwd IAT Std', ' Fwd IAT Max',\n",
       "       ' Fwd IAT Min', 'Bwd IAT Total', ' Bwd IAT Mean', ' Bwd IAT Std',\n",
       "       ' Bwd IAT Max', ' Bwd IAT Min', 'Fwd PSH Flags', ' Bwd PSH Flags',\n",
       "       ' Fwd URG Flags', ' Bwd URG Flags', ' Fwd Header Length',\n",
       "       ' Bwd Header Length', 'Fwd Packets/s', ' Bwd Packets/s',\n",
       "       ' Min Packet Length', ' Max Packet Length', ' Packet Length Mean',\n",
       "       ' Packet Length Std', ' Packet Length Variance', 'FIN Flag Count',\n",
       "       ' SYN Flag Count', ' RST Flag Count', ' PSH Flag Count',\n",
       "       ' ACK Flag Count', ' URG Flag Count', ' CWE Flag Count',\n",
       "       ' ECE Flag Count', ' Down/Up Ratio', ' Average Packet Size',\n",
       "       ' Avg Fwd Segment Size', ' Avg Bwd Segment Size',\n",
       "       ' Fwd Header Length.1', 'Fwd Avg Bytes/Bulk', ' Fwd Avg Packets/Bulk',\n",
       "       ' Fwd Avg Bulk Rate', ' Bwd Avg Bytes/Bulk', ' Bwd Avg Packets/Bulk',\n",
       "       'Bwd Avg Bulk Rate', 'Subflow Fwd Packets', ' Subflow Fwd Bytes',\n",
       "       ' Subflow Bwd Packets', ' Subflow Bwd Bytes', 'Init_Win_bytes_forward',\n",
       "       ' Init_Win_bytes_backward', ' act_data_pkt_fwd',\n",
       "       ' min_seg_size_forward', 'Active Mean', ' Active Std', ' Active Max',\n",
       "       ' Active Min', 'Idle Mean', ' Idle Std', ' Idle Max', ' Idle Min',\n",
       "       ' Label'],\n",
       "      dtype='object')"
      ]
     },
     "execution_count": 8,
     "metadata": {},
     "output_type": "execute_result"
    }
   ],
   "source": [
    "data.columns"
   ]
  },
  {
   "cell_type": "code",
   "execution_count": 9,
   "id": "50aa87f2-3618-45c8-94a8-57d8e4dfb3a0",
   "metadata": {},
   "outputs": [],
   "source": [
    "labels = data[' Label'].unique()\n",
    "values = data[' Label'].value_counts()"
   ]
  },
  {
   "cell_type": "code",
   "execution_count": 10,
   "id": "89581244-3ed3-4b8b-b2cc-62a073337254",
   "metadata": {},
   "outputs": [],
   "source": [
    "def unique_attacks(df, table_name, labels, values):\n",
    "    \"\"\"\n",
    "    Print unique attack labels and count in the dataset\n",
    "    \"\"\"\n",
    "    table = PrettyTable([\"Label\", \"Count\"])\n",
    "    for label, value in zip(labels, values):\n",
    "        table.add_row([label, value])\n",
    "    info = table.get_string()\n",
    "    with open(f\"tables/{table_name}.txt\", 'w') as f:\n",
    "        f.write(info)\n",
    "    print(table)\n",
    "    print(f\"Table saved as {table_name}.txt\")"
   ]
  },
  {
   "cell_type": "code",
   "execution_count": 11,
   "id": "274116d4-daf8-43db-9215-459a7a204828",
   "metadata": {},
   "outputs": [
    {
     "name": "stdout",
     "output_type": "stream",
     "text": [
      "+----------------------------+---------+\n",
      "|           Label            |  Count  |\n",
      "+----------------------------+---------+\n",
      "|           BENIGN           | 2273097 |\n",
      "|        FTP-Patator         |  231073 |\n",
      "|        SSH-Patator         |  158930 |\n",
      "|       DoS slowloris        |  128027 |\n",
      "|      DoS Slowhttptest      |  10293  |\n",
      "|          DoS Hulk          |   7938  |\n",
      "|       DoS GoldenEye        |   5897  |\n",
      "|         Heartbleed         |   5796  |\n",
      "|  Web Attack � Brute Force  |   5499  |\n",
      "|      Web Attack � XSS      |   1966  |\n",
      "| Web Attack � Sql Injection |   1507  |\n",
      "|        Infiltration        |   652   |\n",
      "|            DDoS            |    36   |\n",
      "|            Bot             |    21   |\n",
      "|          PortScan          |    11   |\n",
      "+----------------------------+---------+\n",
      "Table saved as Unique_attacks.txt\n"
     ]
    }
   ],
   "source": [
    "unique_attacks(data, \"Unique_attacks\", labels, values)"
   ]
  },
  {
   "cell_type": "code",
   "execution_count": 12,
   "id": "de0b6b94-c326-41c2-b1fd-8e9d22a36ead",
   "metadata": {},
   "outputs": [],
   "source": [
    "def missing_values(df, table_name):\n",
    "    \"\"\"\n",
    "    Print a table with missing values\n",
    "    \"\"\"\n",
    "    table = PrettyTable([\"Column\", \"All Values\", \"Missing Values\", \"% of missing values\"])\n",
    "    NaN_columns = []\n",
    "    columns = df.columns\n",
    "    for column in columns:\n",
    "        all_values = df[column].count()\n",
    "        missing_values = df[column].isna().sum()\n",
    "        if missing_values > 0:\n",
    "            NaN_columns.append(column)\n",
    "        percentage = f'{(missing_values / all_values)*100:.2f}'\n",
    "        table.add_row([column, all_values, missing_values, f'{percentage}%'])\n",
    "    data = table.get_string()\n",
    "    with open(f\"tables/{table_name}.txt\", 'w') as f:\n",
    "        f.write(data)\n",
    "    print(table)\n",
    "    if len(NaN_columns) > 0:\n",
    "        print(f\"Columns with missing values: {NaN_columns}\")\n",
    "    print(f\"Table saved as {table_name}.txt\")"
   ]
  },
  {
   "cell_type": "code",
   "execution_count": 13,
   "id": "5c7bee3f-64f3-4f5d-a378-2fb2e60eecad",
   "metadata": {},
   "outputs": [
    {
     "name": "stdout",
     "output_type": "stream",
     "text": [
      "+------------------------------+------------+----------------+---------------------+\n",
      "|            Column            | All Values | Missing Values | % of missing values |\n",
      "+------------------------------+------------+----------------+---------------------+\n",
      "|       Destination Port       |  2830743   |       0        |        0.00%        |\n",
      "|         Flow Duration        |  2830743   |       0        |        0.00%        |\n",
      "|       Total Fwd Packets      |  2830743   |       0        |        0.00%        |\n",
      "|    Total Backward Packets    |  2830743   |       0        |        0.00%        |\n",
      "| Total Length of Fwd Packets  |  2830743   |       0        |        0.00%        |\n",
      "|  Total Length of Bwd Packets |  2830743   |       0        |        0.00%        |\n",
      "|     Fwd Packet Length Max    |  2830743   |       0        |        0.00%        |\n",
      "|     Fwd Packet Length Min    |  2830743   |       0        |        0.00%        |\n",
      "|    Fwd Packet Length Mean    |  2830743   |       0        |        0.00%        |\n",
      "|     Fwd Packet Length Std    |  2830743   |       0        |        0.00%        |\n",
      "|    Bwd Packet Length Max     |  2830743   |       0        |        0.00%        |\n",
      "|     Bwd Packet Length Min    |  2830743   |       0        |        0.00%        |\n",
      "|    Bwd Packet Length Mean    |  2830743   |       0        |        0.00%        |\n",
      "|     Bwd Packet Length Std    |  2830743   |       0        |        0.00%        |\n",
      "|         Flow Bytes/s         |  2827876   |      2867      |        0.10%        |\n",
      "|        Flow Packets/s        |  2827876   |      2867      |        0.10%        |\n",
      "|         Flow IAT Mean        |  2830743   |       0        |        0.00%        |\n",
      "|         Flow IAT Std         |  2830743   |       0        |        0.00%        |\n",
      "|         Flow IAT Max         |  2830743   |       0        |        0.00%        |\n",
      "|         Flow IAT Min         |  2830743   |       0        |        0.00%        |\n",
      "|        Fwd IAT Total         |  2830743   |       0        |        0.00%        |\n",
      "|         Fwd IAT Mean         |  2830743   |       0        |        0.00%        |\n",
      "|          Fwd IAT Std         |  2830743   |       0        |        0.00%        |\n",
      "|          Fwd IAT Max         |  2830743   |       0        |        0.00%        |\n",
      "|          Fwd IAT Min         |  2830743   |       0        |        0.00%        |\n",
      "|        Bwd IAT Total         |  2830743   |       0        |        0.00%        |\n",
      "|         Bwd IAT Mean         |  2830743   |       0        |        0.00%        |\n",
      "|          Bwd IAT Std         |  2830743   |       0        |        0.00%        |\n",
      "|          Bwd IAT Max         |  2830743   |       0        |        0.00%        |\n",
      "|          Bwd IAT Min         |  2830743   |       0        |        0.00%        |\n",
      "|        Fwd PSH Flags         |  2830743   |       0        |        0.00%        |\n",
      "|         Bwd PSH Flags        |  2830743   |       0        |        0.00%        |\n",
      "|         Fwd URG Flags        |  2830743   |       0        |        0.00%        |\n",
      "|         Bwd URG Flags        |  2830743   |       0        |        0.00%        |\n",
      "|       Fwd Header Length      |  2830743   |       0        |        0.00%        |\n",
      "|       Bwd Header Length      |  2830743   |       0        |        0.00%        |\n",
      "|        Fwd Packets/s         |  2830743   |       0        |        0.00%        |\n",
      "|         Bwd Packets/s        |  2830743   |       0        |        0.00%        |\n",
      "|       Min Packet Length      |  2830743   |       0        |        0.00%        |\n",
      "|       Max Packet Length      |  2830743   |       0        |        0.00%        |\n",
      "|      Packet Length Mean      |  2830743   |       0        |        0.00%        |\n",
      "|       Packet Length Std      |  2830743   |       0        |        0.00%        |\n",
      "|    Packet Length Variance    |  2830743   |       0        |        0.00%        |\n",
      "|        FIN Flag Count        |  2830743   |       0        |        0.00%        |\n",
      "|        SYN Flag Count        |  2830743   |       0        |        0.00%        |\n",
      "|        RST Flag Count        |  2830743   |       0        |        0.00%        |\n",
      "|        PSH Flag Count        |  2830743   |       0        |        0.00%        |\n",
      "|        ACK Flag Count        |  2830743   |       0        |        0.00%        |\n",
      "|        URG Flag Count        |  2830743   |       0        |        0.00%        |\n",
      "|        CWE Flag Count        |  2830743   |       0        |        0.00%        |\n",
      "|        ECE Flag Count        |  2830743   |       0        |        0.00%        |\n",
      "|         Down/Up Ratio        |  2830743   |       0        |        0.00%        |\n",
      "|      Average Packet Size     |  2830743   |       0        |        0.00%        |\n",
      "|     Avg Fwd Segment Size     |  2830743   |       0        |        0.00%        |\n",
      "|     Avg Bwd Segment Size     |  2830743   |       0        |        0.00%        |\n",
      "|      Fwd Header Length.1     |  2830743   |       0        |        0.00%        |\n",
      "|      Fwd Avg Bytes/Bulk      |  2830743   |       0        |        0.00%        |\n",
      "|     Fwd Avg Packets/Bulk     |  2830743   |       0        |        0.00%        |\n",
      "|       Fwd Avg Bulk Rate      |  2830743   |       0        |        0.00%        |\n",
      "|      Bwd Avg Bytes/Bulk      |  2830743   |       0        |        0.00%        |\n",
      "|     Bwd Avg Packets/Bulk     |  2830743   |       0        |        0.00%        |\n",
      "|      Bwd Avg Bulk Rate       |  2830743   |       0        |        0.00%        |\n",
      "|     Subflow Fwd Packets      |  2830743   |       0        |        0.00%        |\n",
      "|       Subflow Fwd Bytes      |  2830743   |       0        |        0.00%        |\n",
      "|      Subflow Bwd Packets     |  2830743   |       0        |        0.00%        |\n",
      "|       Subflow Bwd Bytes      |  2830743   |       0        |        0.00%        |\n",
      "|    Init_Win_bytes_forward    |  2830743   |       0        |        0.00%        |\n",
      "|    Init_Win_bytes_backward   |  2830743   |       0        |        0.00%        |\n",
      "|       act_data_pkt_fwd       |  2830743   |       0        |        0.00%        |\n",
      "|     min_seg_size_forward     |  2830743   |       0        |        0.00%        |\n",
      "|         Active Mean          |  2830743   |       0        |        0.00%        |\n",
      "|          Active Std          |  2830743   |       0        |        0.00%        |\n",
      "|          Active Max          |  2830743   |       0        |        0.00%        |\n",
      "|          Active Min          |  2830743   |       0        |        0.00%        |\n",
      "|          Idle Mean           |  2830743   |       0        |        0.00%        |\n",
      "|           Idle Std           |  2830743   |       0        |        0.00%        |\n",
      "|           Idle Max           |  2830743   |       0        |        0.00%        |\n",
      "|           Idle Min           |  2830743   |       0        |        0.00%        |\n",
      "|             Label            |  2830743   |       0        |        0.00%        |\n",
      "+------------------------------+------------+----------------+---------------------+\n",
      "Columns with missing values: ['Flow Bytes/s', ' Flow Packets/s']\n",
      "Table saved as Missing_data.txt\n"
     ]
    }
   ],
   "source": [
    "data = data.replace([-np.inf, np.inf], np.nan)\n",
    "missing_values(data, \"Missing_data\")"
   ]
  },
  {
   "cell_type": "code",
   "execution_count": 14,
   "id": "399a7406-63ec-4593-91ea-dec37b9f7e61",
   "metadata": {},
   "outputs": [
    {
     "name": "stdout",
     "output_type": "stream",
     "text": [
      "+------------------------------+------------+----------------+---------------------+\n",
      "|            Column            | All Values | Missing Values | % of missing values |\n",
      "+------------------------------+------------+----------------+---------------------+\n",
      "|       Destination Port       |  2827876   |       0        |        0.00%        |\n",
      "|         Flow Duration        |  2827876   |       0        |        0.00%        |\n",
      "|       Total Fwd Packets      |  2827876   |       0        |        0.00%        |\n",
      "|    Total Backward Packets    |  2827876   |       0        |        0.00%        |\n",
      "| Total Length of Fwd Packets  |  2827876   |       0        |        0.00%        |\n",
      "|  Total Length of Bwd Packets |  2827876   |       0        |        0.00%        |\n",
      "|     Fwd Packet Length Max    |  2827876   |       0        |        0.00%        |\n",
      "|     Fwd Packet Length Min    |  2827876   |       0        |        0.00%        |\n",
      "|    Fwd Packet Length Mean    |  2827876   |       0        |        0.00%        |\n",
      "|     Fwd Packet Length Std    |  2827876   |       0        |        0.00%        |\n",
      "|    Bwd Packet Length Max     |  2827876   |       0        |        0.00%        |\n",
      "|     Bwd Packet Length Min    |  2827876   |       0        |        0.00%        |\n",
      "|    Bwd Packet Length Mean    |  2827876   |       0        |        0.00%        |\n",
      "|     Bwd Packet Length Std    |  2827876   |       0        |        0.00%        |\n",
      "|         Flow Bytes/s         |  2827876   |       0        |        0.00%        |\n",
      "|        Flow Packets/s        |  2827876   |       0        |        0.00%        |\n",
      "|         Flow IAT Mean        |  2827876   |       0        |        0.00%        |\n",
      "|         Flow IAT Std         |  2827876   |       0        |        0.00%        |\n",
      "|         Flow IAT Max         |  2827876   |       0        |        0.00%        |\n",
      "|         Flow IAT Min         |  2827876   |       0        |        0.00%        |\n",
      "|        Fwd IAT Total         |  2827876   |       0        |        0.00%        |\n",
      "|         Fwd IAT Mean         |  2827876   |       0        |        0.00%        |\n",
      "|          Fwd IAT Std         |  2827876   |       0        |        0.00%        |\n",
      "|          Fwd IAT Max         |  2827876   |       0        |        0.00%        |\n",
      "|          Fwd IAT Min         |  2827876   |       0        |        0.00%        |\n",
      "|        Bwd IAT Total         |  2827876   |       0        |        0.00%        |\n",
      "|         Bwd IAT Mean         |  2827876   |       0        |        0.00%        |\n",
      "|          Bwd IAT Std         |  2827876   |       0        |        0.00%        |\n",
      "|          Bwd IAT Max         |  2827876   |       0        |        0.00%        |\n",
      "|          Bwd IAT Min         |  2827876   |       0        |        0.00%        |\n",
      "|        Fwd PSH Flags         |  2827876   |       0        |        0.00%        |\n",
      "|         Bwd PSH Flags        |  2827876   |       0        |        0.00%        |\n",
      "|         Fwd URG Flags        |  2827876   |       0        |        0.00%        |\n",
      "|         Bwd URG Flags        |  2827876   |       0        |        0.00%        |\n",
      "|       Fwd Header Length      |  2827876   |       0        |        0.00%        |\n",
      "|       Bwd Header Length      |  2827876   |       0        |        0.00%        |\n",
      "|        Fwd Packets/s         |  2827876   |       0        |        0.00%        |\n",
      "|         Bwd Packets/s        |  2827876   |       0        |        0.00%        |\n",
      "|       Min Packet Length      |  2827876   |       0        |        0.00%        |\n",
      "|       Max Packet Length      |  2827876   |       0        |        0.00%        |\n",
      "|      Packet Length Mean      |  2827876   |       0        |        0.00%        |\n",
      "|       Packet Length Std      |  2827876   |       0        |        0.00%        |\n",
      "|    Packet Length Variance    |  2827876   |       0        |        0.00%        |\n",
      "|        FIN Flag Count        |  2827876   |       0        |        0.00%        |\n",
      "|        SYN Flag Count        |  2827876   |       0        |        0.00%        |\n",
      "|        RST Flag Count        |  2827876   |       0        |        0.00%        |\n",
      "|        PSH Flag Count        |  2827876   |       0        |        0.00%        |\n",
      "|        ACK Flag Count        |  2827876   |       0        |        0.00%        |\n",
      "|        URG Flag Count        |  2827876   |       0        |        0.00%        |\n",
      "|        CWE Flag Count        |  2827876   |       0        |        0.00%        |\n",
      "|        ECE Flag Count        |  2827876   |       0        |        0.00%        |\n",
      "|         Down/Up Ratio        |  2827876   |       0        |        0.00%        |\n",
      "|      Average Packet Size     |  2827876   |       0        |        0.00%        |\n",
      "|     Avg Fwd Segment Size     |  2827876   |       0        |        0.00%        |\n",
      "|     Avg Bwd Segment Size     |  2827876   |       0        |        0.00%        |\n",
      "|      Fwd Header Length.1     |  2827876   |       0        |        0.00%        |\n",
      "|      Fwd Avg Bytes/Bulk      |  2827876   |       0        |        0.00%        |\n",
      "|     Fwd Avg Packets/Bulk     |  2827876   |       0        |        0.00%        |\n",
      "|       Fwd Avg Bulk Rate      |  2827876   |       0        |        0.00%        |\n",
      "|      Bwd Avg Bytes/Bulk      |  2827876   |       0        |        0.00%        |\n",
      "|     Bwd Avg Packets/Bulk     |  2827876   |       0        |        0.00%        |\n",
      "|      Bwd Avg Bulk Rate       |  2827876   |       0        |        0.00%        |\n",
      "|     Subflow Fwd Packets      |  2827876   |       0        |        0.00%        |\n",
      "|       Subflow Fwd Bytes      |  2827876   |       0        |        0.00%        |\n",
      "|      Subflow Bwd Packets     |  2827876   |       0        |        0.00%        |\n",
      "|       Subflow Bwd Bytes      |  2827876   |       0        |        0.00%        |\n",
      "|    Init_Win_bytes_forward    |  2827876   |       0        |        0.00%        |\n",
      "|    Init_Win_bytes_backward   |  2827876   |       0        |        0.00%        |\n",
      "|       act_data_pkt_fwd       |  2827876   |       0        |        0.00%        |\n",
      "|     min_seg_size_forward     |  2827876   |       0        |        0.00%        |\n",
      "|         Active Mean          |  2827876   |       0        |        0.00%        |\n",
      "|          Active Std          |  2827876   |       0        |        0.00%        |\n",
      "|          Active Max          |  2827876   |       0        |        0.00%        |\n",
      "|          Active Min          |  2827876   |       0        |        0.00%        |\n",
      "|          Idle Mean           |  2827876   |       0        |        0.00%        |\n",
      "|           Idle Std           |  2827876   |       0        |        0.00%        |\n",
      "|           Idle Max           |  2827876   |       0        |        0.00%        |\n",
      "|           Idle Min           |  2827876   |       0        |        0.00%        |\n",
      "|             Label            |  2827876   |       0        |        0.00%        |\n",
      "+------------------------------+------------+----------------+---------------------+\n",
      "Table saved as Updated_data.txt\n"
     ]
    }
   ],
   "source": [
    "data.dropna(inplace=True)\n",
    "missing_values(data, \"Updated_data\")"
   ]
  },
  {
   "cell_type": "code",
   "execution_count": 15,
   "id": "0468893c-1381-4bbd-a08a-96f782ed17c7",
   "metadata": {},
   "outputs": [],
   "source": [
    "def traffic_plot(label, count):\n",
    "    s = 0\n",
    "    for i in range(1,len(count)):\n",
    "        s = s + count[i]\n",
    "    fig, ax = plt.subplots(figsize=(10,10))\n",
    "    ax.bar([\"Benign\", \"Malicious\"], [count[0], s])\n",
    "    ax.set_title('Network traffic type distribution', fontsize=16, fontweight=\"bold\")\n",
    "    ax.set_xlabel('Network traffic type')\n",
    "    ax.set_ylabel('Distribution')\n",
    "    ax.grid(which='Major', axis='both')\n",
    "    ax.set_axisbelow(True)\n",
    "    plt.savefig(\"images/plots/Traffic_type_distribution.png\")"
   ]
  },
  {
   "cell_type": "code",
   "execution_count": 16,
   "id": "2431301b-41c7-4597-ab2a-544d7e088b90",
   "metadata": {},
   "outputs": [
    {
     "data": {
      "image/png": "[encoded data removed]",
      "text/plain": [
       "<Figure size 1000x1000 with 1 Axes>"
      ]
     },
     "metadata": {},
     "output_type": "display_data"
    }
   ],
   "source": [
    "traffic_plot(labels, values)"
   ]
  },
  {
   "cell_type": "code",
   "execution_count": 17,
   "id": "e850df5e-7027-4e1f-aaa9-ae103e43986e",
   "metadata": {},
   "outputs": [],
   "source": [
    "def attack_plot(label, count):\n",
    "    _dict = {}\n",
    "    label = [x for x in label if x != 'BENIGN']\n",
    "    count = count.iloc[1:len(count)]\n",
    "    for x in range(len(label)):\n",
    "        _dict[label[x]] = count.iloc[x]\n",
    "    fig, ax = plt.subplots(figsize=(10,10))\n",
    "    ax.bar(_dict.keys(), _dict.values())\n",
    "    ax.set_title('Attack type distribution', fontsize=16, fontweight=\"bold\")\n",
    "    ax.set_xlabel('Traffic type')\n",
    "    ax.tick_params(axis='x', labelrotation=90)\n",
    "    ax.set_ylabel('Distribution')\n",
    "    ax.grid(which='Major', axis='both')\n",
    "    ax.set_axisbelow(True)\n",
    "    plt.savefig(\"images/plots/Attack_type_distribution.png\")"
   ]
  },
  {
   "cell_type": "code",
   "execution_count": 18,
   "id": "a0dae5c2-c27d-4986-8e23-ae832c0e202c",
   "metadata": {},
   "outputs": [
    {
     "data": {
      "image/png": "[encoded data removed]",
      "text/plain": [
       "<Figure size 1000x1000 with 1 Axes>"
      ]
     },
     "metadata": {},
     "output_type": "display_data"
    }
   ],
   "source": [
    "attack_plot(labels, values)"
   ]
  },
  {
   "cell_type": "markdown",
   "id": "7b72b4c9-abf3-4a4a-80db-385bb30ee721",
   "metadata": {},
   "source": [
    "# 4. Prepare data"
   ]
  },
  {
   "cell_type": "code",
   "execution_count": 19,
   "id": "67ee977d-f73a-4629-ace8-604fb16b3c48",
   "metadata": {},
   "outputs": [],
   "source": [
    "X = data.drop([' Label'], axis=1)\n",
    "y = data[' Label']"
   ]
  },
  {
   "cell_type": "code",
   "execution_count": 20,
   "id": "b2340347-5273-4dbc-be5d-e280a6e81f70",
   "metadata": {},
   "outputs": [
    {
     "data": {
      "text/html": [
       "<div>\n",
       "<style scoped>\n",
       "    .dataframe tbody tr th:only-of-type {\n",
       "        vertical-align: middle;\n",
       "    }\n",
       "\n",
       "    .dataframe tbody tr th {\n",
       "        vertical-align: top;\n",
       "    }\n",
       "\n",
       "    .dataframe thead th {\n",
       "        text-align: right;\n",
       "    }\n",
       "</style>\n",
       "<table border=\"1\" class=\"dataframe\">\n",
       "  <thead>\n",
       "    <tr style=\"text-align: right;\">\n",
       "      <th></th>\n",
       "      <th>Destination Port</th>\n",
       "      <th>Flow Duration</th>\n",
       "      <th>Total Fwd Packets</th>\n",
       "      <th>Total Backward Packets</th>\n",
       "      <th>Total Length of Fwd Packets</th>\n",
       "      <th>Total Length of Bwd Packets</th>\n",
       "      <th>Fwd Packet Length Max</th>\n",
       "      <th>Fwd Packet Length Min</th>\n",
       "      <th>Fwd Packet Length Mean</th>\n",
       "      <th>Fwd Packet Length Std</th>\n",
       "      <th>...</th>\n",
       "      <th>act_data_pkt_fwd</th>\n",
       "      <th>min_seg_size_forward</th>\n",
       "      <th>Active Mean</th>\n",
       "      <th>Active Std</th>\n",
       "      <th>Active Max</th>\n",
       "      <th>Active Min</th>\n",
       "      <th>Idle Mean</th>\n",
       "      <th>Idle Std</th>\n",
       "      <th>Idle Max</th>\n",
       "      <th>Idle Min</th>\n",
       "    </tr>\n",
       "  </thead>\n",
       "  <tbody>\n",
       "    <tr>\n",
       "      <th>0</th>\n",
       "      <td>49188</td>\n",
       "      <td>4</td>\n",
       "      <td>2</td>\n",
       "      <td>0</td>\n",
       "      <td>12</td>\n",
       "      <td>0</td>\n",
       "      <td>6</td>\n",
       "      <td>6</td>\n",
       "      <td>6.0</td>\n",
       "      <td>0.0</td>\n",
       "      <td>...</td>\n",
       "      <td>1</td>\n",
       "      <td>20</td>\n",
       "      <td>0.0</td>\n",
       "      <td>0.0</td>\n",
       "      <td>0</td>\n",
       "      <td>0</td>\n",
       "      <td>0.0</td>\n",
       "      <td>0.0</td>\n",
       "      <td>0</td>\n",
       "      <td>0</td>\n",
       "    </tr>\n",
       "    <tr>\n",
       "      <th>1</th>\n",
       "      <td>49188</td>\n",
       "      <td>1</td>\n",
       "      <td>2</td>\n",
       "      <td>0</td>\n",
       "      <td>12</td>\n",
       "      <td>0</td>\n",
       "      <td>6</td>\n",
       "      <td>6</td>\n",
       "      <td>6.0</td>\n",
       "      <td>0.0</td>\n",
       "      <td>...</td>\n",
       "      <td>1</td>\n",
       "      <td>20</td>\n",
       "      <td>0.0</td>\n",
       "      <td>0.0</td>\n",
       "      <td>0</td>\n",
       "      <td>0</td>\n",
       "      <td>0.0</td>\n",
       "      <td>0.0</td>\n",
       "      <td>0</td>\n",
       "      <td>0</td>\n",
       "    </tr>\n",
       "    <tr>\n",
       "      <th>2</th>\n",
       "      <td>49188</td>\n",
       "      <td>1</td>\n",
       "      <td>2</td>\n",
       "      <td>0</td>\n",
       "      <td>12</td>\n",
       "      <td>0</td>\n",
       "      <td>6</td>\n",
       "      <td>6</td>\n",
       "      <td>6.0</td>\n",
       "      <td>0.0</td>\n",
       "      <td>...</td>\n",
       "      <td>1</td>\n",
       "      <td>20</td>\n",
       "      <td>0.0</td>\n",
       "      <td>0.0</td>\n",
       "      <td>0</td>\n",
       "      <td>0</td>\n",
       "      <td>0.0</td>\n",
       "      <td>0.0</td>\n",
       "      <td>0</td>\n",
       "      <td>0</td>\n",
       "    </tr>\n",
       "    <tr>\n",
       "      <th>3</th>\n",
       "      <td>49188</td>\n",
       "      <td>1</td>\n",
       "      <td>2</td>\n",
       "      <td>0</td>\n",
       "      <td>12</td>\n",
       "      <td>0</td>\n",
       "      <td>6</td>\n",
       "      <td>6</td>\n",
       "      <td>6.0</td>\n",
       "      <td>0.0</td>\n",
       "      <td>...</td>\n",
       "      <td>1</td>\n",
       "      <td>20</td>\n",
       "      <td>0.0</td>\n",
       "      <td>0.0</td>\n",
       "      <td>0</td>\n",
       "      <td>0</td>\n",
       "      <td>0.0</td>\n",
       "      <td>0.0</td>\n",
       "      <td>0</td>\n",
       "      <td>0</td>\n",
       "    </tr>\n",
       "    <tr>\n",
       "      <th>4</th>\n",
       "      <td>49486</td>\n",
       "      <td>3</td>\n",
       "      <td>2</td>\n",
       "      <td>0</td>\n",
       "      <td>12</td>\n",
       "      <td>0</td>\n",
       "      <td>6</td>\n",
       "      <td>6</td>\n",
       "      <td>6.0</td>\n",
       "      <td>0.0</td>\n",
       "      <td>...</td>\n",
       "      <td>1</td>\n",
       "      <td>20</td>\n",
       "      <td>0.0</td>\n",
       "      <td>0.0</td>\n",
       "      <td>0</td>\n",
       "      <td>0</td>\n",
       "      <td>0.0</td>\n",
       "      <td>0.0</td>\n",
       "      <td>0</td>\n",
       "      <td>0</td>\n",
       "    </tr>\n",
       "  </tbody>\n",
       "</table>\n",
       "<p>5 rows × 78 columns</p>\n",
       "</div>"
      ],
      "text/plain": [
       "    Destination Port   Flow Duration   Total Fwd Packets  \\\n",
       "0              49188               4                   2   \n",
       "1              49188               1                   2   \n",
       "2              49188               1                   2   \n",
       "3              49188               1                   2   \n",
       "4              49486               3                   2   \n",
       "\n",
       "    Total Backward Packets  Total Length of Fwd Packets  \\\n",
       "0                        0                           12   \n",
       "1                        0                           12   \n",
       "2                        0                           12   \n",
       "3                        0                           12   \n",
       "4                        0                           12   \n",
       "\n",
       "    Total Length of Bwd Packets   Fwd Packet Length Max  \\\n",
       "0                             0                       6   \n",
       "1                             0                       6   \n",
       "2                             0                       6   \n",
       "3                             0                       6   \n",
       "4                             0                       6   \n",
       "\n",
       "    Fwd Packet Length Min   Fwd Packet Length Mean   Fwd Packet Length Std  \\\n",
       "0                       6                      6.0                     0.0   \n",
       "1                       6                      6.0                     0.0   \n",
       "2                       6                      6.0                     0.0   \n",
       "3                       6                      6.0                     0.0   \n",
       "4                       6                      6.0                     0.0   \n",
       "\n",
       "   ...   act_data_pkt_fwd   min_seg_size_forward  Active Mean   Active Std  \\\n",
       "0  ...                  1                     20          0.0          0.0   \n",
       "1  ...                  1                     20          0.0          0.0   \n",
       "2  ...                  1                     20          0.0          0.0   \n",
       "3  ...                  1                     20          0.0          0.0   \n",
       "4  ...                  1                     20          0.0          0.0   \n",
       "\n",
       "    Active Max   Active Min  Idle Mean   Idle Std   Idle Max   Idle Min  \n",
       "0            0            0        0.0        0.0          0          0  \n",
       "1            0            0        0.0        0.0          0          0  \n",
       "2            0            0        0.0        0.0          0          0  \n",
       "3            0            0        0.0        0.0          0          0  \n",
       "4            0            0        0.0        0.0          0          0  \n",
       "\n",
       "[5 rows x 78 columns]"
      ]
     },
     "execution_count": 20,
     "metadata": {},
     "output_type": "execute_result"
    }
   ],
   "source": [
    "X.head()"
   ]
  },
  {
   "cell_type": "code",
   "execution_count": 21,
   "id": "a6e87e7b-f715-43b7-a879-2611358e663e",
   "metadata": {},
   "outputs": [
    {
     "data": {
      "text/plain": [
       "array(['BENIGN', 'FTP-Patator', 'SSH-Patator', 'DoS slowloris',\n",
       "       'DoS Slowhttptest', 'DoS Hulk', 'DoS GoldenEye', 'Heartbleed',\n",
       "       'Web Attack � Brute Force', 'Web Attack � XSS',\n",
       "       'Web Attack � Sql Injection', 'Infiltration', 'DDoS', 'Bot',\n",
       "       'PortScan'], dtype=object)"
      ]
     },
     "execution_count": 21,
     "metadata": {},
     "output_type": "execute_result"
    }
   ],
   "source": [
    "y.unique()"
   ]
  },
  {
   "cell_type": "code",
   "execution_count": 22,
   "id": "9557e1ec-6d00-44f0-81df-7adf4cc5256e",
   "metadata": {},
   "outputs": [
    {
     "data": {
      "text/plain": [
       "15"
      ]
     },
     "execution_count": 22,
     "metadata": {},
     "output_type": "execute_result"
    }
   ],
   "source": [
    "len(y.unique())"
   ]
  },
  {
   "cell_type": "markdown",
   "id": "c286cd03-f18d-464f-a3ae-337905c47fb2",
   "metadata": {},
   "source": [
    "## 4.1 Data Normalization"
   ]
  },
  {
   "cell_type": "code",
   "execution_count": 23,
   "id": "063c7d91-e296-4416-ae99-c54ef3542fe2",
   "metadata": {},
   "outputs": [],
   "source": [
    "scaler = StandardScaler()\n",
    "X = scaler.fit_transform(X)"
   ]
  },
  {
   "cell_type": "code",
   "execution_count": 24,
   "id": "c71cb2e2-d0cd-4a3c-8c4b-e8b0ac8a3a7c",
   "metadata": {},
   "outputs": [
    {
     "data": {
      "text/plain": [
       "array([[ 2.25050642, -0.43961241, -0.00982461, ..., -0.10951643,\n",
       "        -0.35707153, -0.33918443],\n",
       "       [ 2.25050642, -0.4396125 , -0.00982461, ..., -0.10951643,\n",
       "        -0.35707153, -0.33918443],\n",
       "       [ 2.25050642, -0.4396125 , -0.00982461, ..., -0.10951643,\n",
       "        -0.35707153, -0.33918443],\n",
       "       ...,\n",
       "       [-0.41689841, -0.4348067 ,  0.08083571, ..., -0.10951643,\n",
       "        -0.35707153, -0.33918443],\n",
       "       [-0.41689841, -0.43536915,  0.05417091, ..., -0.10951643,\n",
       "        -0.35707153, -0.33918443],\n",
       "       [-0.41689841, -0.43406035,  0.04883795, ..., -0.10951643,\n",
       "        -0.35707153, -0.33918443]])"
      ]
     },
     "execution_count": 24,
     "metadata": {},
     "output_type": "execute_result"
    }
   ],
   "source": [
    "X"
   ]
  },
  {
   "cell_type": "markdown",
   "id": "46c8dbcc-45a5-4eae-83de-d3525c826f20",
   "metadata": {},
   "source": [
    "## 4.2 Encode data"
   ]
  },
  {
   "cell_type": "code",
   "execution_count": 25,
   "id": "923df8e2-af4e-4064-aba5-9b2dcd8fb61a",
   "metadata": {},
   "outputs": [],
   "source": [
    "onehotencoder = OneHotEncoder()\n",
    "y = y.values.reshape(-1, 1)\n",
    "y = onehotencoder.fit_transform(y).toarray()\n",
    "y = y[:, 0]"
   ]
  },
  {
   "cell_type": "markdown",
   "id": "2ef9086a-4a35-462c-88d6-7061de8a7102",
   "metadata": {},
   "source": [
    "## 4.3 Principal component analysis"
   ]
  },
  {
   "cell_type": "code",
   "execution_count": 26,
   "id": "fbe794ef-3174-4b51-aeaa-907f64c57619",
   "metadata": {},
   "outputs": [
    {
     "name": "stdout",
     "output_type": "stream",
     "text": [
      "CPU times: user 4.34 s, sys: 1.47 s, total: 5.81 s\n",
      "Wall time: 1.5 s\n"
     ]
    }
   ],
   "source": [
    "%%time\n",
    "num_components = 10\n",
    "pca = PCA(n_components=num_components)\n",
    "X_pca = pca.fit_transform(X)\n",
    "feature_selector = SelectKBest(score_func=f_classif, k='all')\n",
    "X = feature_selector.fit_transform(X_pca, y)\n",
    "X = X.reshape(X.shape[0], num_components, 1)"
   ]
  },
  {
   "cell_type": "markdown",
   "id": "214f862c-8035-4795-82d2-c024fbaf070a",
   "metadata": {},
   "source": [
    "## 4.4 Save data"
   ]
  },
  {
   "cell_type": "code",
   "execution_count": 27,
   "id": "c9d53f1b-428b-42b1-bfc7-7d9880af4318",
   "metadata": {},
   "outputs": [],
   "source": [
    "np.save('data/CIC_IDS_2017/prepared_train_data.npy', X)\n",
    "np.save('data/CIC_IDS_2017/prepared_train_labels.npy', y)"
   ]
  },
  {
   "cell_type": "markdown",
   "id": "66b08a0b-f203-445b-9324-fd8092c555de",
   "metadata": {},
   "source": [
    "## 4.5 Load data"
   ]
  },
  {
   "cell_type": "code",
   "execution_count": 28,
   "id": "b10416a1-71b8-4df3-94f5-bb5ebfc51179",
   "metadata": {},
   "outputs": [],
   "source": [
    "X = np.load('data/CIC_IDS_2017/prepared_train_data.npy')\n",
    "y = np.load('data/CIC_IDS_2017/prepared_train_labels.npy')"
   ]
  },
  {
   "cell_type": "code",
   "execution_count": 29,
   "id": "ce7e46ce-014c-4b57-a30c-5e0002a79ba3",
   "metadata": {},
   "outputs": [
    {
     "data": {
      "text/plain": [
       "array([[[-2.20341917],\n",
       "        [-0.04649812],\n",
       "        [ 0.5388577 ],\n",
       "        ...,\n",
       "        [-0.18823211],\n",
       "        [-0.24876228],\n",
       "        [ 1.3845989 ]],\n",
       "\n",
       "       [[-2.65783247],\n",
       "        [-0.06213898],\n",
       "        [ 0.80433841],\n",
       "        ...,\n",
       "        [ 0.16800908],\n",
       "        [ 1.10542934],\n",
       "        [-1.99055778]],\n",
       "\n",
       "       [[-2.65783247],\n",
       "        [-0.06213898],\n",
       "        [ 0.80433841],\n",
       "        ...,\n",
       "        [ 0.16800908],\n",
       "        [ 1.10542934],\n",
       "        [-1.99055778]],\n",
       "\n",
       "       ...,\n",
       "\n",
       "       [[ 2.96579199],\n",
       "        [ 0.59986647],\n",
       "        [-5.2269146 ],\n",
       "        ...,\n",
       "        [ 2.82679641],\n",
       "        [ 0.33933268],\n",
       "        [-0.2927417 ]],\n",
       "\n",
       "       [[ 2.00624895],\n",
       "        [ 0.45068367],\n",
       "        [-4.21600076],\n",
       "        ...,\n",
       "        [ 2.46204332],\n",
       "        [-0.01862949],\n",
       "        [-0.30590085]],\n",
       "\n",
       "       [[ 1.99913966],\n",
       "        [ 0.43758331],\n",
       "        [-4.20599781],\n",
       "        ...,\n",
       "        [ 2.45912152],\n",
       "        [-0.02805093],\n",
       "        [-0.30215974]]])"
      ]
     },
     "execution_count": 29,
     "metadata": {},
     "output_type": "execute_result"
    }
   ],
   "source": [
    "X"
   ]
  },
  {
   "cell_type": "code",
   "execution_count": 30,
   "id": "89bf3564-fea8-4930-8391-36d59cd7fece",
   "metadata": {},
   "outputs": [
    {
     "data": {
      "text/plain": [
       "array([1., 1., 1., ..., 1., 1., 1.])"
      ]
     },
     "execution_count": 30,
     "metadata": {},
     "output_type": "execute_result"
    }
   ],
   "source": [
    "y"
   ]
  },
  {
   "cell_type": "markdown",
   "id": "04d8ee6c-f2ad-4b8e-89f9-bd289a8061ef",
   "metadata": {},
   "source": [
    "# 5. Create a model\n",
    "\n",
    "Testing these models:\n",
    "1. K Nearest Neighbour\n",
    "2. Random Forest\n",
    "3. Gradient Boost:\n",
    "    * XGBoost;\n",
    "    * CatBoost;\n",
    "    * LightGBM.\n",
    "4. Support Vector Machine;\n",
    "5. Neural Network."
   ]
  },
  {
   "cell_type": "code",
   "execution_count": 31,
   "id": "b64539bd-6d5d-45aa-81a9-c709a09ff38d",
   "metadata": {},
   "outputs": [],
   "source": [
    "def visualize_CM(matrix, name):\n",
    "    \"\"\"\n",
    "    Visualize Correlation Matrix\n",
    "    \"\"\"\n",
    "    heatmap = sns.heatmap(matrix,annot=True)\n",
    "    fig = heatmap.get_figure()\n",
    "    fig.savefig(f\"images/confusion_matrices/{name}.png\")"
   ]
  },
  {
   "cell_type": "code",
   "execution_count": 32,
   "id": "0a8223e9-daf2-4a14-ae09-4eca3b6bfd25",
   "metadata": {},
   "outputs": [],
   "source": [
    "results_dict = {}"
   ]
  },
  {
   "cell_type": "code",
   "execution_count": 33,
   "id": "56e2c99c-4d7b-4600-8c27-4c29bbc85c38",
   "metadata": {},
   "outputs": [
    {
     "data": {
      "text/plain": [
       "((2403694, 10), (2403694,), (424182, 10), (424182,))"
      ]
     },
     "execution_count": 33,
     "metadata": {},
     "output_type": "execute_result"
    }
   ],
   "source": [
    "X_train, X_test, y_train, y_test = train_test_split(X, y, test_size=0.15)\n",
    "X_train = X_train.reshape(X_train.shape[0], X_train.shape[1])\n",
    "X_test = X_test.reshape(X_test.shape[0], X_test.shape[1])\n",
    "X_train.shape, y_train.shape, X_test.shape, y_test.shape"
   ]
  },
  {
   "cell_type": "markdown",
   "id": "0a5ef2ec-0829-4b4b-9a11-5415cbfc1a59",
   "metadata": {},
   "source": [
    "## 5.1. K Nearest Neighbour"
   ]
  },
  {
   "cell_type": "code",
   "execution_count": 34,
   "id": "113c32db-76f6-405b-8a75-8e40315422c3",
   "metadata": {},
   "outputs": [
    {
     "name": "stdout",
     "output_type": "stream",
     "text": [
      "CPU times: user 32.7 s, sys: 55.2 ms, total: 32.7 s\n",
      "Wall time: 32.9 s\n"
     ]
    }
   ],
   "source": [
    "%%time\n",
    "\n",
    "knn_clf = KNeighborsClassifier()\n",
    "knn_clf.fit(X_train, y_train)\n",
    "y_pred = knn_clf.predict(X_test)"
   ]
  },
  {
   "cell_type": "code",
   "execution_count": 35,
   "id": "493593bc-b14c-478d-9952-afeddd866aed",
   "metadata": {},
   "outputs": [
    {
     "data": {
      "image/png": "[encoded data removed]",
      "text/plain": [
       "<Figure size 640x480 with 2 Axes>"
      ]
     },
     "metadata": {},
     "output_type": "display_data"
    }
   ],
   "source": [
    "visualize_CM(confusion_matrix(y_test, y_pred), \"kNN_CF\")"
   ]
  },
  {
   "cell_type": "code",
   "execution_count": 36,
   "id": "14ae04a3-f47e-41b0-b3f2-f2b061f6a971",
   "metadata": {},
   "outputs": [],
   "source": [
    "accuracy = accuracy_score(y_true=y_test, y_pred=y_pred)\n",
    "precision = precision_score(y_true=y_test, y_pred=y_pred, average=\"weighted\")\n",
    "f1 = f1_score(y_true=y_test, y_pred=y_pred, average=\"weighted\")\n",
    "recall = recall_score(y_true=y_test, y_pred=y_pred, average=\"weighted\")\n",
    "mae = mean_absolute_error(y_true=y_test,y_pred=y_pred)\n",
    "mse = mean_squared_error(y_true=y_test,y_pred=y_pred) \n",
    "rmse = root_mean_squared_error(y_true=y_test,y_pred=y_pred)"
   ]
  },
  {
   "cell_type": "code",
   "execution_count": 37,
   "id": "cca960b5-d323-40c1-9832-309485839208",
   "metadata": {},
   "outputs": [],
   "source": [
    "results = [accuracy, precision, f1, recall, mae, mse, rmse]\n",
    "results_dict[\"KNN\"] = results"
   ]
  },
  {
   "cell_type": "code",
   "execution_count": 38,
   "id": "3f35c939-1163-48a7-8880-9664fe4e0813",
   "metadata": {},
   "outputs": [
    {
     "data": {
      "text/html": [
       "<div>\n",
       "<style scoped>\n",
       "    .dataframe tbody tr th:only-of-type {\n",
       "        vertical-align: middle;\n",
       "    }\n",
       "\n",
       "    .dataframe tbody tr th {\n",
       "        vertical-align: top;\n",
       "    }\n",
       "\n",
       "    .dataframe thead th {\n",
       "        text-align: right;\n",
       "    }\n",
       "</style>\n",
       "<table border=\"1\" class=\"dataframe\">\n",
       "  <thead>\n",
       "    <tr style=\"text-align: right;\">\n",
       "      <th></th>\n",
       "      <th>Accuracy</th>\n",
       "      <th>Precision</th>\n",
       "      <th>F1</th>\n",
       "      <th>Recall</th>\n",
       "      <th>MAE</th>\n",
       "      <th>MSE</th>\n",
       "      <th>RMSE</th>\n",
       "    </tr>\n",
       "  </thead>\n",
       "  <tbody>\n",
       "    <tr>\n",
       "      <th>KNN</th>\n",
       "      <td>0.996853</td>\n",
       "      <td>0.996862</td>\n",
       "      <td>0.996856</td>\n",
       "      <td>0.996853</td>\n",
       "      <td>0.003147</td>\n",
       "      <td>0.003147</td>\n",
       "      <td>0.0561</td>\n",
       "    </tr>\n",
       "  </tbody>\n",
       "</table>\n",
       "</div>"
      ],
      "text/plain": [
       "     Accuracy  Precision        F1    Recall       MAE       MSE    RMSE\n",
       "KNN  0.996853   0.996862  0.996856  0.996853  0.003147  0.003147  0.0561"
      ]
     },
     "execution_count": 38,
     "metadata": {},
     "output_type": "execute_result"
    }
   ],
   "source": [
    "pd.DataFrame.from_dict(results_dict, orient=\"index\", columns=[\"Accuracy\", \"Precision\", \"F1\", \"Recall\", \"MAE\", \"MSE\", \"RMSE\"])"
   ]
  },
  {
   "cell_type": "markdown",
   "id": "7b2e92a5-0035-4772-9922-79b876b262f6",
   "metadata": {},
   "source": [
    "## 5.2. Random Forest"
   ]
  },
  {
   "cell_type": "code",
   "execution_count": 39,
   "id": "cdc73f49-9e5c-482f-af69-fec4dd3dfd25",
   "metadata": {},
   "outputs": [],
   "source": [
    "rf_params = {\n",
    "    'n_estimators': 10,\n",
    "    'criterion': 'gini',\n",
    "    'max_depth': None,\n",
    "    'min_samples_split': 2,\n",
    "    'min_samples_leaf': 1, \n",
    "    'min_weight_fraction_leaf': 0.0, \n",
    "    'max_features': 'sqrt', \n",
    "    'max_leaf_nodes': None, \n",
    "    'bootstrap': True, \n",
    "    'oob_score': False,\n",
    "    'n_jobs': 8, \n",
    "    'random_state': None,\n",
    "    'verbose': 1, \n",
    "    'warm_start': False, \n",
    "    'class_weight': None\n",
    "}"
   ]
  },
  {
   "cell_type": "code",
   "execution_count": 40,
   "id": "c16114ba-5f32-496a-bfad-50b183a2d39f",
   "metadata": {},
   "outputs": [
    {
     "name": "stderr",
     "output_type": "stream",
     "text": [
      "[Parallel(n_jobs=8)]: Using backend ThreadingBackend with 8 concurrent workers.\n",
      "[Parallel(n_jobs=8)]: Done   6 out of  10 | elapsed:   20.1s remaining:   13.4s\n"
     ]
    },
    {
     "name": "stdout",
     "output_type": "stream",
     "text": [
      "CPU times: user 2min 56s, sys: 666 ms, total: 2min 56s\n",
      "Wall time: 33.7 s\n"
     ]
    },
    {
     "name": "stderr",
     "output_type": "stream",
     "text": [
      "[Parallel(n_jobs=8)]: Done  10 out of  10 | elapsed:   33.4s finished\n",
      "[Parallel(n_jobs=8)]: Using backend ThreadingBackend with 8 concurrent workers.\n",
      "[Parallel(n_jobs=8)]: Done   6 out of  10 | elapsed:    0.1s remaining:    0.0s\n",
      "[Parallel(n_jobs=8)]: Done  10 out of  10 | elapsed:    0.1s finished\n"
     ]
    }
   ],
   "source": [
    "%%time\n",
    "\n",
    "rf_clf = RandomForestClassifier(**rf_params)\n",
    "rf_clf.fit(X_train, y_train)\n",
    "y_pred = rf_clf.predict(X_test)"
   ]
  },
  {
   "cell_type": "code",
   "execution_count": 41,
   "id": "a734b1d1-452a-4773-bf2f-7018121b2985",
   "metadata": {},
   "outputs": [
    {
     "data": {
      "image/png": "[encoded data removed]",
      "text/plain": [
       "<Figure size 640x480 with 2 Axes>"
      ]
     },
     "metadata": {},
     "output_type": "display_data"
    }
   ],
   "source": [
    "visualize_CM(confusion_matrix(y_test, y_pred), \"RF_CF\")"
   ]
  },
  {
   "cell_type": "code",
   "execution_count": 42,
   "id": "e0757187-ba4c-4f9a-b0bb-965739d921d9",
   "metadata": {},
   "outputs": [],
   "source": [
    "accuracy = accuracy_score(y_true=y_test, y_pred=y_pred)\n",
    "precision = precision_score(y_true=y_test, y_pred=y_pred, average=\"weighted\")\n",
    "f1 = f1_score(y_true=y_test, y_pred=y_pred, average=\"weighted\")\n",
    "recall = recall_score(y_true=y_test, y_pred=y_pred, average=\"weighted\")\n",
    "mae = mean_absolute_error(y_true=y_test,y_pred=y_pred)\n",
    "mse = mean_squared_error(y_true=y_test,y_pred=y_pred) \n",
    "rmse = root_mean_squared_error(y_true=y_test,y_pred=y_pred)"
   ]
  },
  {
   "cell_type": "code",
   "execution_count": 43,
   "id": "5d092705-fa5b-4b9b-98e1-6b5dd27b4cca",
   "metadata": {},
   "outputs": [],
   "source": [
    "results = [accuracy, precision, f1, recall, mae, mse, rmse]\n",
    "results_dict[\"RF\"] = results"
   ]
  },
  {
   "cell_type": "code",
   "execution_count": 44,
   "id": "a26175bc-cc92-4af4-91a2-49f15fe79fb2",
   "metadata": {},
   "outputs": [
    {
     "data": {
      "text/html": [
       "<div>\n",
       "<style scoped>\n",
       "    .dataframe tbody tr th:only-of-type {\n",
       "        vertical-align: middle;\n",
       "    }\n",
       "\n",
       "    .dataframe tbody tr th {\n",
       "        vertical-align: top;\n",
       "    }\n",
       "\n",
       "    .dataframe thead th {\n",
       "        text-align: right;\n",
       "    }\n",
       "</style>\n",
       "<table border=\"1\" class=\"dataframe\">\n",
       "  <thead>\n",
       "    <tr style=\"text-align: right;\">\n",
       "      <th></th>\n",
       "      <th>Accuracy</th>\n",
       "      <th>Precision</th>\n",
       "      <th>F1</th>\n",
       "      <th>Recall</th>\n",
       "      <th>MAE</th>\n",
       "      <th>MSE</th>\n",
       "      <th>RMSE</th>\n",
       "    </tr>\n",
       "  </thead>\n",
       "  <tbody>\n",
       "    <tr>\n",
       "      <th>KNN</th>\n",
       "      <td>0.996853</td>\n",
       "      <td>0.996862</td>\n",
       "      <td>0.996856</td>\n",
       "      <td>0.996853</td>\n",
       "      <td>0.003147</td>\n",
       "      <td>0.003147</td>\n",
       "      <td>0.056100</td>\n",
       "    </tr>\n",
       "    <tr>\n",
       "      <th>RF</th>\n",
       "      <td>0.998713</td>\n",
       "      <td>0.998713</td>\n",
       "      <td>0.998713</td>\n",
       "      <td>0.998713</td>\n",
       "      <td>0.001287</td>\n",
       "      <td>0.001287</td>\n",
       "      <td>0.035877</td>\n",
       "    </tr>\n",
       "  </tbody>\n",
       "</table>\n",
       "</div>"
      ],
      "text/plain": [
       "     Accuracy  Precision        F1    Recall       MAE       MSE      RMSE\n",
       "KNN  0.996853   0.996862  0.996856  0.996853  0.003147  0.003147  0.056100\n",
       "RF   0.998713   0.998713  0.998713  0.998713  0.001287  0.001287  0.035877"
      ]
     },
     "execution_count": 44,
     "metadata": {},
     "output_type": "execute_result"
    }
   ],
   "source": [
    "pd.DataFrame.from_dict(results_dict, orient=\"index\", columns=[\"Accuracy\", \"Precision\", \"F1\", \"Recall\", \"MAE\", \"MSE\", \"RMSE\"])"
   ]
  },
  {
   "cell_type": "markdown",
   "id": "6a070ede-87e9-423e-a485-f7e0d9abb5b9",
   "metadata": {},
   "source": [
    "## 5.3. XGBoost"
   ]
  },
  {
   "cell_type": "code",
   "execution_count": 45,
   "id": "73f9c0ea-6d78-4fbb-9604-03454d205d20",
   "metadata": {},
   "outputs": [
    {
     "name": "stdout",
     "output_type": "stream",
     "text": [
      "CPU times: user 53 s, sys: 90.2 ms, total: 53.1 s\n",
      "Wall time: 7.35 s\n"
     ]
    }
   ],
   "source": [
    "%%time\n",
    "\n",
    "xgb_clf = xgb.XGBClassifier()\n",
    "xgb_clf.fit(X_train, y_train)\n",
    "y_pred = xgb_clf.predict(X_test)"
   ]
  },
  {
   "cell_type": "code",
   "execution_count": 46,
   "id": "3d682997-f460-4b60-ae70-92a77f9d5fd8",
   "metadata": {},
   "outputs": [
    {
     "data": {
      "image/png": "[encoded data removed]",
      "text/plain": [
       "<Figure size 640x480 with 2 Axes>"
      ]
     },
     "metadata": {},
     "output_type": "display_data"
    }
   ],
   "source": [
    "visualize_CM(confusion_matrix(y_test, y_pred), \"XGBoost_CF\")"
   ]
  },
  {
   "cell_type": "code",
   "execution_count": 47,
   "id": "ca0eea4c-abc7-414c-b5a1-aae2e3df79d5",
   "metadata": {},
   "outputs": [],
   "source": [
    "accuracy = accuracy_score(y_true=y_test, y_pred=y_pred)\n",
    "precision = precision_score(y_true=y_test, y_pred=y_pred, average=\"weighted\")\n",
    "f1 = f1_score(y_true=y_test, y_pred=y_pred, average=\"weighted\")\n",
    "recall = recall_score(y_true=y_test, y_pred=y_pred, average=\"weighted\")\n",
    "mae = mean_absolute_error(y_true=y_test,y_pred=y_pred)\n",
    "mse = mean_squared_error(y_true=y_test,y_pred=y_pred) \n",
    "rmse = root_mean_squared_error(y_true=y_test,y_pred=y_pred)"
   ]
  },
  {
   "cell_type": "code",
   "execution_count": 48,
   "id": "a071c0a7-a9b6-4fbc-bece-b87f73de55b9",
   "metadata": {},
   "outputs": [],
   "source": [
    "results = [accuracy, precision, f1, recall, mae, mse, rmse]\n",
    "results_dict[\"XGBoost\"] = results"
   ]
  },
  {
   "cell_type": "code",
   "execution_count": 49,
   "id": "e7046f3c-a5c5-4682-811c-da0ed214c42d",
   "metadata": {},
   "outputs": [
    {
     "data": {
      "text/html": [
       "<div>\n",
       "<style scoped>\n",
       "    .dataframe tbody tr th:only-of-type {\n",
       "        vertical-align: middle;\n",
       "    }\n",
       "\n",
       "    .dataframe tbody tr th {\n",
       "        vertical-align: top;\n",
       "    }\n",
       "\n",
       "    .dataframe thead th {\n",
       "        text-align: right;\n",
       "    }\n",
       "</style>\n",
       "<table border=\"1\" class=\"dataframe\">\n",
       "  <thead>\n",
       "    <tr style=\"text-align: right;\">\n",
       "      <th></th>\n",
       "      <th>Accuracy</th>\n",
       "      <th>Precision</th>\n",
       "      <th>F1</th>\n",
       "      <th>Recall</th>\n",
       "      <th>MAE</th>\n",
       "      <th>MSE</th>\n",
       "      <th>RMSE</th>\n",
       "    </tr>\n",
       "  </thead>\n",
       "  <tbody>\n",
       "    <tr>\n",
       "      <th>KNN</th>\n",
       "      <td>0.996853</td>\n",
       "      <td>0.996862</td>\n",
       "      <td>0.996856</td>\n",
       "      <td>0.996853</td>\n",
       "      <td>0.003147</td>\n",
       "      <td>0.003147</td>\n",
       "      <td>0.056100</td>\n",
       "    </tr>\n",
       "    <tr>\n",
       "      <th>RF</th>\n",
       "      <td>0.998713</td>\n",
       "      <td>0.998713</td>\n",
       "      <td>0.998713</td>\n",
       "      <td>0.998713</td>\n",
       "      <td>0.001287</td>\n",
       "      <td>0.001287</td>\n",
       "      <td>0.035877</td>\n",
       "    </tr>\n",
       "    <tr>\n",
       "      <th>XGBoost</th>\n",
       "      <td>0.996735</td>\n",
       "      <td>0.996733</td>\n",
       "      <td>0.996734</td>\n",
       "      <td>0.996735</td>\n",
       "      <td>0.003265</td>\n",
       "      <td>0.003265</td>\n",
       "      <td>0.057141</td>\n",
       "    </tr>\n",
       "  </tbody>\n",
       "</table>\n",
       "</div>"
      ],
      "text/plain": [
       "         Accuracy  Precision        F1    Recall       MAE       MSE      RMSE\n",
       "KNN      0.996853   0.996862  0.996856  0.996853  0.003147  0.003147  0.056100\n",
       "RF       0.998713   0.998713  0.998713  0.998713  0.001287  0.001287  0.035877\n",
       "XGBoost  0.996735   0.996733  0.996734  0.996735  0.003265  0.003265  0.057141"
      ]
     },
     "execution_count": 49,
     "metadata": {},
     "output_type": "execute_result"
    }
   ],
   "source": [
    "pd.DataFrame.from_dict(results_dict, orient=\"index\", columns=[\"Accuracy\", \"Precision\", \"F1\", \"Recall\", \"MAE\", \"MSE\", \"RMSE\"])"
   ]
  },
  {
   "cell_type": "markdown",
   "id": "6fb11c7c-2d4a-44c8-8b0c-59108478e525",
   "metadata": {},
   "source": [
    "## 5.4. LightGBM"
   ]
  },
  {
   "cell_type": "code",
   "execution_count": 50,
   "id": "7134510a-212b-47a5-86fc-88be2f331466",
   "metadata": {},
   "outputs": [
    {
     "name": "stdout",
     "output_type": "stream",
     "text": [
      "[LightGBM] [Info] Number of positive: 1930537, number of negative: 473157\n",
      "[LightGBM] [Info] Auto-choosing col-wise multi-threading, the overhead of testing was 0.052631 seconds.\n",
      "You can set `force_col_wise=true` to remove the overhead.\n",
      "[LightGBM] [Info] Total Bins 2550\n",
      "[LightGBM] [Info] Number of data points in the train set: 2403694, number of used features: 10\n",
      "[LightGBM] [Info] [binary:BoostFromScore]: pavg=0.803154 -> initscore=1.406126\n",
      "[LightGBM] [Info] Start training from score 1.406126\n",
      "CPU times: user 31 s, sys: 49.6 ms, total: 31.1 s\n",
      "Wall time: 8.07 s\n"
     ]
    }
   ],
   "source": [
    "%%time\n",
    "\n",
    "lgbm_clf = lightgbm.LGBMClassifier()\n",
    "lgbm_clf.fit(X_train, y_train)\n",
    "y_pred = lgbm_clf.predict(X_test)"
   ]
  },
  {
   "cell_type": "code",
   "execution_count": 51,
   "id": "cb0b0f53-cd01-4ff7-b04d-453465111ed3",
   "metadata": {},
   "outputs": [
    {
     "data": {
      "image/png": "[encoded data removed]",
      "text/plain": [
       "<Figure size 640x480 with 2 Axes>"
      ]
     },
     "metadata": {},
     "output_type": "display_data"
    }
   ],
   "source": [
    "visualize_CM(confusion_matrix(y_test, y_pred), \"LightGBM_CF\")"
   ]
  },
  {
   "cell_type": "code",
   "execution_count": 52,
   "id": "e6b0ac43-3850-4757-9e9f-af75f671fb5d",
   "metadata": {},
   "outputs": [],
   "source": [
    "accuracy = accuracy_score(y_true=y_test, y_pred=y_pred)\n",
    "precision = precision_score(y_true=y_test, y_pred=y_pred, average=\"weighted\")\n",
    "f1 = f1_score(y_true=y_test, y_pred=y_pred, average=\"weighted\")\n",
    "recall = recall_score(y_true=y_test, y_pred=y_pred, average=\"weighted\")\n",
    "mae = mean_absolute_error(y_true=y_test,y_pred=y_pred)\n",
    "mse = mean_squared_error(y_true=y_test,y_pred=y_pred) \n",
    "rmse = root_mean_squared_error(y_true=y_test,y_pred=y_pred)"
   ]
  },
  {
   "cell_type": "code",
   "execution_count": 53,
   "id": "ecce1050-ff49-40dd-9d6c-9498f0815012",
   "metadata": {},
   "outputs": [],
   "source": [
    "results = [accuracy, precision, f1, recall, mae, mse, rmse]\n",
    "results_dict[\"LightGBM\"] = results"
   ]
  },
  {
   "cell_type": "code",
   "execution_count": 54,
   "id": "662418a6-b533-4ec2-9153-1d345131d8e3",
   "metadata": {},
   "outputs": [
    {
     "data": {
      "text/html": [
       "<div>\n",
       "<style scoped>\n",
       "    .dataframe tbody tr th:only-of-type {\n",
       "        vertical-align: middle;\n",
       "    }\n",
       "\n",
       "    .dataframe tbody tr th {\n",
       "        vertical-align: top;\n",
       "    }\n",
       "\n",
       "    .dataframe thead th {\n",
       "        text-align: right;\n",
       "    }\n",
       "</style>\n",
       "<table border=\"1\" class=\"dataframe\">\n",
       "  <thead>\n",
       "    <tr style=\"text-align: right;\">\n",
       "      <th></th>\n",
       "      <th>Accuracy</th>\n",
       "      <th>Precision</th>\n",
       "      <th>F1</th>\n",
       "      <th>Recall</th>\n",
       "      <th>MAE</th>\n",
       "      <th>MSE</th>\n",
       "      <th>RMSE</th>\n",
       "    </tr>\n",
       "  </thead>\n",
       "  <tbody>\n",
       "    <tr>\n",
       "      <th>KNN</th>\n",
       "      <td>0.996853</td>\n",
       "      <td>0.996862</td>\n",
       "      <td>0.996856</td>\n",
       "      <td>0.996853</td>\n",
       "      <td>0.003147</td>\n",
       "      <td>0.003147</td>\n",
       "      <td>0.056100</td>\n",
       "    </tr>\n",
       "    <tr>\n",
       "      <th>RF</th>\n",
       "      <td>0.998713</td>\n",
       "      <td>0.998713</td>\n",
       "      <td>0.998713</td>\n",
       "      <td>0.998713</td>\n",
       "      <td>0.001287</td>\n",
       "      <td>0.001287</td>\n",
       "      <td>0.035877</td>\n",
       "    </tr>\n",
       "    <tr>\n",
       "      <th>XGBoost</th>\n",
       "      <td>0.996735</td>\n",
       "      <td>0.996733</td>\n",
       "      <td>0.996734</td>\n",
       "      <td>0.996735</td>\n",
       "      <td>0.003265</td>\n",
       "      <td>0.003265</td>\n",
       "      <td>0.057141</td>\n",
       "    </tr>\n",
       "    <tr>\n",
       "      <th>LightGBM</th>\n",
       "      <td>0.995144</td>\n",
       "      <td>0.995140</td>\n",
       "      <td>0.995141</td>\n",
       "      <td>0.995144</td>\n",
       "      <td>0.004856</td>\n",
       "      <td>0.004856</td>\n",
       "      <td>0.069688</td>\n",
       "    </tr>\n",
       "  </tbody>\n",
       "</table>\n",
       "</div>"
      ],
      "text/plain": [
       "          Accuracy  Precision        F1    Recall       MAE       MSE  \\\n",
       "KNN       0.996853   0.996862  0.996856  0.996853  0.003147  0.003147   \n",
       "RF        0.998713   0.998713  0.998713  0.998713  0.001287  0.001287   \n",
       "XGBoost   0.996735   0.996733  0.996734  0.996735  0.003265  0.003265   \n",
       "LightGBM  0.995144   0.995140  0.995141  0.995144  0.004856  0.004856   \n",
       "\n",
       "              RMSE  \n",
       "KNN       0.056100  \n",
       "RF        0.035877  \n",
       "XGBoost   0.057141  \n",
       "LightGBM  0.069688  "
      ]
     },
     "execution_count": 54,
     "metadata": {},
     "output_type": "execute_result"
    }
   ],
   "source": [
    "pd.DataFrame.from_dict(results_dict, orient=\"index\", columns=[\"Accuracy\", \"Precision\", \"F1\", \"Recall\", \"MAE\", \"MSE\", \"RMSE\"])"
   ]
  },
  {
   "cell_type": "markdown",
   "id": "501f8bf0-f18a-40c9-a735-144b47f859cb",
   "metadata": {},
   "source": [
    "## 5.5. Linear Support Vector Classifier"
   ]
  },
  {
   "cell_type": "code",
   "execution_count": 55,
   "id": "e28c4b40-1f74-43fc-94a6-6dea9333d4df",
   "metadata": {},
   "outputs": [
    {
     "name": "stdout",
     "output_type": "stream",
     "text": [
      "CPU times: user 5.25 s, sys: 76.4 ms, total: 5.33 s\n",
      "Wall time: 5.33 s\n"
     ]
    }
   ],
   "source": [
    "%%time\n",
    "\n",
    "svc_clf = LinearSVC()\n",
    "svc_clf.fit(X_train, y_train)\n",
    "y_pred = svc_clf.predict(X_test)"
   ]
  },
  {
   "cell_type": "code",
   "execution_count": 56,
   "id": "6bc29484-a552-41bb-b517-29d083061000",
   "metadata": {},
   "outputs": [
    {
     "data": {
      "image/png": "[encoded data removed]",
      "text/plain": [
       "<Figure size 640x480 with 2 Axes>"
      ]
     },
     "metadata": {},
     "output_type": "display_data"
    }
   ],
   "source": [
    "visualize_CM(confusion_matrix(y_test, y_pred), \"LSVC_CF\")"
   ]
  },
  {
   "cell_type": "code",
   "execution_count": 57,
   "id": "0160ee7e-04d3-4d70-88fb-0c798112e00e",
   "metadata": {},
   "outputs": [],
   "source": [
    "accuracy = accuracy_score(y_true=y_test, y_pred=y_pred)\n",
    "precision = precision_score(y_true=y_test, y_pred=y_pred, average=\"weighted\")\n",
    "f1 = f1_score(y_true=y_test, y_pred=y_pred, average=\"weighted\")\n",
    "recall = recall_score(y_true=y_test, y_pred=y_pred, average=\"weighted\")\n",
    "mae = mean_absolute_error(y_true=y_test,y_pred=y_pred)\n",
    "mse = mean_squared_error(y_true=y_test,y_pred=y_pred) \n",
    "rmse = root_mean_squared_error(y_true=y_test,y_pred=y_pred)"
   ]
  },
  {
   "cell_type": "code",
   "execution_count": 58,
   "id": "b33b43a5-1840-414f-afc3-534a7de869b7",
   "metadata": {},
   "outputs": [],
   "source": [
    "results = [accuracy, precision, f1, recall, mae, mse, rmse]\n",
    "results_dict[\"LSVC\"] = results"
   ]
  },
  {
   "cell_type": "code",
   "execution_count": 59,
   "id": "fcd6cc62-7702-46f9-a51d-39ddfe01b19d",
   "metadata": {},
   "outputs": [
    {
     "data": {
      "text/html": [
       "<div>\n",
       "<style scoped>\n",
       "    .dataframe tbody tr th:only-of-type {\n",
       "        vertical-align: middle;\n",
       "    }\n",
       "\n",
       "    .dataframe tbody tr th {\n",
       "        vertical-align: top;\n",
       "    }\n",
       "\n",
       "    .dataframe thead th {\n",
       "        text-align: right;\n",
       "    }\n",
       "</style>\n",
       "<table border=\"1\" class=\"dataframe\">\n",
       "  <thead>\n",
       "    <tr style=\"text-align: right;\">\n",
       "      <th></th>\n",
       "      <th>Accuracy</th>\n",
       "      <th>Precision</th>\n",
       "      <th>F1</th>\n",
       "      <th>Recall</th>\n",
       "      <th>MAE</th>\n",
       "      <th>MSE</th>\n",
       "      <th>RMSE</th>\n",
       "    </tr>\n",
       "  </thead>\n",
       "  <tbody>\n",
       "    <tr>\n",
       "      <th>KNN</th>\n",
       "      <td>0.996853</td>\n",
       "      <td>0.996862</td>\n",
       "      <td>0.996856</td>\n",
       "      <td>0.996853</td>\n",
       "      <td>0.003147</td>\n",
       "      <td>0.003147</td>\n",
       "      <td>0.056100</td>\n",
       "    </tr>\n",
       "    <tr>\n",
       "      <th>RF</th>\n",
       "      <td>0.998713</td>\n",
       "      <td>0.998713</td>\n",
       "      <td>0.998713</td>\n",
       "      <td>0.998713</td>\n",
       "      <td>0.001287</td>\n",
       "      <td>0.001287</td>\n",
       "      <td>0.035877</td>\n",
       "    </tr>\n",
       "    <tr>\n",
       "      <th>XGBoost</th>\n",
       "      <td>0.996735</td>\n",
       "      <td>0.996733</td>\n",
       "      <td>0.996734</td>\n",
       "      <td>0.996735</td>\n",
       "      <td>0.003265</td>\n",
       "      <td>0.003265</td>\n",
       "      <td>0.057141</td>\n",
       "    </tr>\n",
       "    <tr>\n",
       "      <th>LightGBM</th>\n",
       "      <td>0.995144</td>\n",
       "      <td>0.995140</td>\n",
       "      <td>0.995141</td>\n",
       "      <td>0.995144</td>\n",
       "      <td>0.004856</td>\n",
       "      <td>0.004856</td>\n",
       "      <td>0.069688</td>\n",
       "    </tr>\n",
       "    <tr>\n",
       "      <th>LSVC</th>\n",
       "      <td>0.879460</td>\n",
       "      <td>0.884654</td>\n",
       "      <td>0.860732</td>\n",
       "      <td>0.879460</td>\n",
       "      <td>0.120540</td>\n",
       "      <td>0.120540</td>\n",
       "      <td>0.347189</td>\n",
       "    </tr>\n",
       "  </tbody>\n",
       "</table>\n",
       "</div>"
      ],
      "text/plain": [
       "          Accuracy  Precision        F1    Recall       MAE       MSE  \\\n",
       "KNN       0.996853   0.996862  0.996856  0.996853  0.003147  0.003147   \n",
       "RF        0.998713   0.998713  0.998713  0.998713  0.001287  0.001287   \n",
       "XGBoost   0.996735   0.996733  0.996734  0.996735  0.003265  0.003265   \n",
       "LightGBM  0.995144   0.995140  0.995141  0.995144  0.004856  0.004856   \n",
       "LSVC      0.879460   0.884654  0.860732  0.879460  0.120540  0.120540   \n",
       "\n",
       "              RMSE  \n",
       "KNN       0.056100  \n",
       "RF        0.035877  \n",
       "XGBoost   0.057141  \n",
       "LightGBM  0.069688  \n",
       "LSVC      0.347189  "
      ]
     },
     "execution_count": 59,
     "metadata": {},
     "output_type": "execute_result"
    }
   ],
   "source": [
    "pd.DataFrame.from_dict(results_dict, orient=\"index\", columns=[\"Accuracy\", \"Precision\", \"F1\", \"Recall\", \"MAE\", \"MSE\", \"RMSE\"])"
   ]
  },
  {
   "cell_type": "markdown",
   "id": "96e50620-8081-48bc-b23d-e4bc5bbc8a7d",
   "metadata": {},
   "source": [
    "## 5.6. Feed Forward Neural Network"
   ]
  },
  {
   "cell_type": "code",
   "execution_count": 60,
   "id": "5bb38cbe-b40e-411e-b99b-2065fe16f2df",
   "metadata": {},
   "outputs": [
    {
     "data": {
      "text/plain": [
       "((1971029, 10, 1),\n",
       " (1971029,),\n",
       " (432665, 10, 1),\n",
       " (432665,),\n",
       " (424182, 10, 1),\n",
       " (424182,))"
      ]
     },
     "execution_count": 60,
     "metadata": {},
     "output_type": "execute_result"
    }
   ],
   "source": [
    "X_train, X_test, y_train, y_test = train_test_split(X, y, test_size=0.15)\n",
    "X_train, X_val, y_train, y_val = train_test_split(X_train, y_train, test_size=0.18)\n",
    "X_train.shape, y_train.shape, X_val.shape, y_val.shape, X_test.shape, y_test.shape"
   ]
  },
  {
   "cell_type": "code",
   "execution_count": 61,
   "id": "36e42ee9-dd58-4bd6-a23b-6fa5ece5b2e8",
   "metadata": {},
   "outputs": [
    {
     "name": "stderr",
     "output_type": "stream",
     "text": [
      "I0000 00:00:1736596703.548536  332385 gpu_device.cc:2022] Created device /job:localhost/replica:0/task:0/device:GPU:0 with 5023 MB memory:  -> device: 0, name: NVIDIA GeForce GTX 1060, pci bus id: 0000:01:00.0, compute capability: 6.1\n"
     ]
    }
   ],
   "source": [
    "def create_model_FFNN(X_train, y_train):\n",
    "    model = keras.Sequential()\n",
    "    model.add(keras.layers.Dense(X_train.shape[1], activation='relu', input_shape=(X_train.shape[1],)))\n",
    "    model.add(keras.layers.Dense(256, activation='relu'))\n",
    "    model.add(keras.layers.Dense(256, activation='relu'))\n",
    "    model.add(keras.layers.Dense(len(np.unique(y_train)), activation='softmax'))\n",
    "    model.compile(optimizer='adam', loss='sparse_categorical_crossentropy', metrics=['accuracy'])\n",
    "    return model\n",
    "model = create_model_FFNN(X_train, y_train)"
   ]
  },
  {
   "cell_type": "code",
   "execution_count": 62,
   "id": "74448766-d62c-43c0-b655-c3002288ff06",
   "metadata": {},
   "outputs": [
    {
     "data": {
      "text/plain": [
       "array([1., 0., 1., ..., 1., 0., 1.])"
      ]
     },
     "execution_count": 62,
     "metadata": {},
     "output_type": "execute_result"
    }
   ],
   "source": [
    "y_train"
   ]
  },
  {
   "cell_type": "code",
   "execution_count": 63,
   "id": "20b33e75-2262-48e7-9e8c-8186d8726bf7",
   "metadata": {},
   "outputs": [
    {
     "data": {
      "text/html": [
       "<pre style=\"white-space:pre;overflow-x:auto;line-height:normal;font-family:Menlo,'DejaVu Sans Mono',consolas,'Courier New',monospace\"><span style=\"font-weight: bold\">Model: \"sequential\"</span>\n",
       "</pre>\n"
      ],
      "text/plain": [
       "\u001b[1mModel: \"sequential\"\u001b[0m\n"
      ]
     },
     "metadata": {},
     "output_type": "display_data"
    },
    {
     "data": {
      "text/html": [
       "<pre style=\"white-space:pre;overflow-x:auto;line-height:normal;font-family:Menlo,'DejaVu Sans Mono',consolas,'Courier New',monospace\">┏━━━━━━━━━━━━━━━━━━━━━━━━━━━━━━━━━┳━━━━━━━━━━━━━━━━━━━━━━━━┳━━━━━━━━━━━━━━━┓\n",
       "┃<span style=\"font-weight: bold\"> Layer (type)                    </span>┃<span style=\"font-weight: bold\"> Output Shape           </span>┃<span style=\"font-weight: bold\">       Param # </span>┃\n",
       "┡━━━━━━━━━━━━━━━━━━━━━━━━━━━━━━━━━╇━━━━━━━━━━━━━━━━━━━━━━━━╇━━━━━━━━━━━━━━━┩\n",
       "│ dense (<span style=\"color: #0087ff; text-decoration-color: #0087ff\">Dense</span>)                   │ (<span style=\"color: #00d7ff; text-decoration-color: #00d7ff\">None</span>, <span style=\"color: #00af00; text-decoration-color: #00af00\">10</span>)             │           <span style=\"color: #00af00; text-decoration-color: #00af00\">110</span> │\n",
       "├─────────────────────────────────┼────────────────────────┼───────────────┤\n",
       "│ dense_1 (<span style=\"color: #0087ff; text-decoration-color: #0087ff\">Dense</span>)                 │ (<span style=\"color: #00d7ff; text-decoration-color: #00d7ff\">None</span>, <span style=\"color: #00af00; text-decoration-color: #00af00\">256</span>)            │         <span style=\"color: #00af00; text-decoration-color: #00af00\">2,816</span> │\n",
       "├─────────────────────────────────┼────────────────────────┼───────────────┤\n",
       "│ dense_2 (<span style=\"color: #0087ff; text-decoration-color: #0087ff\">Dense</span>)                 │ (<span style=\"color: #00d7ff; text-decoration-color: #00d7ff\">None</span>, <span style=\"color: #00af00; text-decoration-color: #00af00\">256</span>)            │        <span style=\"color: #00af00; text-decoration-color: #00af00\">65,792</span> │\n",
       "├─────────────────────────────────┼────────────────────────┼───────────────┤\n",
       "│ dense_3 (<span style=\"color: #0087ff; text-decoration-color: #0087ff\">Dense</span>)                 │ (<span style=\"color: #00d7ff; text-decoration-color: #00d7ff\">None</span>, <span style=\"color: #00af00; text-decoration-color: #00af00\">2</span>)              │           <span style=\"color: #00af00; text-decoration-color: #00af00\">514</span> │\n",
       "└─────────────────────────────────┴────────────────────────┴───────────────┘\n",
       "</pre>\n"
      ],
      "text/plain": [
       "┏━━━━━━━━━━━━━━━━━━━━━━━━━━━━━━━━━┳━━━━━━━━━━━━━━━━━━━━━━━━┳━━━━━━━━━━━━━━━┓\n",
       "┃\u001b[1m \u001b[0m\u001b[1mLayer (type)                   \u001b[0m\u001b[1m \u001b[0m┃\u001b[1m \u001b[0m\u001b[1mOutput Shape          \u001b[0m\u001b[1m \u001b[0m┃\u001b[1m \u001b[0m\u001b[1m      Param #\u001b[0m\u001b[1m \u001b[0m┃\n",
       "┡━━━━━━━━━━━━━━━━━━━━━━━━━━━━━━━━━╇━━━━━━━━━━━━━━━━━━━━━━━━╇━━━━━━━━━━━━━━━┩\n",
       "│ dense (\u001b[38;5;33mDense\u001b[0m)                   │ (\u001b[38;5;45mNone\u001b[0m, \u001b[38;5;34m10\u001b[0m)             │           \u001b[38;5;34m110\u001b[0m │\n",
       "├─────────────────────────────────┼────────────────────────┼───────────────┤\n",
       "│ dense_1 (\u001b[38;5;33mDense\u001b[0m)                 │ (\u001b[38;5;45mNone\u001b[0m, \u001b[38;5;34m256\u001b[0m)            │         \u001b[38;5;34m2,816\u001b[0m │\n",
       "├─────────────────────────────────┼────────────────────────┼───────────────┤\n",
       "│ dense_2 (\u001b[38;5;33mDense\u001b[0m)                 │ (\u001b[38;5;45mNone\u001b[0m, \u001b[38;5;34m256\u001b[0m)            │        \u001b[38;5;34m65,792\u001b[0m │\n",
       "├─────────────────────────────────┼────────────────────────┼───────────────┤\n",
       "│ dense_3 (\u001b[38;5;33mDense\u001b[0m)                 │ (\u001b[38;5;45mNone\u001b[0m, \u001b[38;5;34m2\u001b[0m)              │           \u001b[38;5;34m514\u001b[0m │\n",
       "└─────────────────────────────────┴────────────────────────┴───────────────┘\n"
      ]
     },
     "metadata": {},
     "output_type": "display_data"
    },
    {
     "data": {
      "text/html": [
       "<pre style=\"white-space:pre;overflow-x:auto;line-height:normal;font-family:Menlo,'DejaVu Sans Mono',consolas,'Courier New',monospace\"><span style=\"font-weight: bold\"> Total params: </span><span style=\"color: #00af00; text-decoration-color: #00af00\">69,232</span> (270.44 KB)\n",
       "</pre>\n"
      ],
      "text/plain": [
       "\u001b[1m Total params: \u001b[0m\u001b[38;5;34m69,232\u001b[0m (270.44 KB)\n"
      ]
     },
     "metadata": {},
     "output_type": "display_data"
    },
    {
     "data": {
      "text/html": [
       "<pre style=\"white-space:pre;overflow-x:auto;line-height:normal;font-family:Menlo,'DejaVu Sans Mono',consolas,'Courier New',monospace\"><span style=\"font-weight: bold\"> Trainable params: </span><span style=\"color: #00af00; text-decoration-color: #00af00\">69,232</span> (270.44 KB)\n",
       "</pre>\n"
      ],
      "text/plain": [
       "\u001b[1m Trainable params: \u001b[0m\u001b[38;5;34m69,232\u001b[0m (270.44 KB)\n"
      ]
     },
     "metadata": {},
     "output_type": "display_data"
    },
    {
     "data": {
      "text/html": [
       "<pre style=\"white-space:pre;overflow-x:auto;line-height:normal;font-family:Menlo,'DejaVu Sans Mono',consolas,'Courier New',monospace\"><span style=\"font-weight: bold\"> Non-trainable params: </span><span style=\"color: #00af00; text-decoration-color: #00af00\">0</span> (0.00 B)\n",
       "</pre>\n"
      ],
      "text/plain": [
       "\u001b[1m Non-trainable params: \u001b[0m\u001b[38;5;34m0\u001b[0m (0.00 B)\n"
      ]
     },
     "metadata": {},
     "output_type": "display_data"
    }
   ],
   "source": [
    "model.summary()"
   ]
  },
  {
   "cell_type": "code",
   "execution_count": 64,
   "id": "bcc86e0f-e7eb-4227-96d4-434c7c9806fb",
   "metadata": {},
   "outputs": [
    {
     "name": "stdout",
     "output_type": "stream",
     "text": [
      "Epoch 1/20\n"
     ]
    },
    {
     "name": "stderr",
     "output_type": "stream",
     "text": [
      "WARNING: All log messages before absl::InitializeLog() is called are written to STDERR\n",
      "I0000 00:00:1736596705.487004  334781 service.cc:148] XLA service 0x746d2800b3c0 initialized for platform CUDA (this does not guarantee that XLA will be used). Devices:\n",
      "I0000 00:00:1736596705.487062  334781 service.cc:156]   StreamExecutor device (0): NVIDIA GeForce GTX 1060, Compute Capability 6.1\n",
      "2025-01-11 13:58:25.518961: I tensorflow/compiler/mlir/tensorflow/utils/dump_mlir_util.cc:268] disabling MLIR crash reproducer, set env var `MLIR_CRASH_REPRODUCER_DIRECTORY` to enable.\n",
      "I0000 00:00:1736596705.651351  334781 cuda_dnn.cc:529] Loaded cuDNN version 90600\n"
     ]
    },
    {
     "name": "stdout",
     "output_type": "stream",
     "text": [
      "\u001b[1m   78/61595\u001b[0m \u001b[37m━━━━━━━━━━━━━━━━━━━━\u001b[0m \u001b[1m2:01\u001b[0m 2ms/step - accuracy: 0.8806 - loss: 0.3424   "
     ]
    },
    {
     "name": "stderr",
     "output_type": "stream",
     "text": [
      "I0000 00:00:1736596706.418906  334781 device_compiler.h:188] Compiled cluster using XLA!  This line is logged at most once for the lifetime of the process.\n"
     ]
    },
    {
     "name": "stdout",
     "output_type": "stream",
     "text": [
      "\u001b[1m61595/61595\u001b[0m \u001b[32m━━━━━━━━━━━━━━━━━━━━\u001b[0m\u001b[37m\u001b[0m \u001b[1m137s\u001b[0m 2ms/step - accuracy: 0.9629 - loss: 0.0901 - val_accuracy: 0.9768 - val_loss: 0.0554\n",
      "Epoch 2/20\n",
      "\u001b[1m61595/61595\u001b[0m \u001b[32m━━━━━━━━━━━━━━━━━━━━\u001b[0m\u001b[37m\u001b[0m \u001b[1m136s\u001b[0m 2ms/step - accuracy: 0.9762 - loss: 0.0561 - val_accuracy: 0.9792 - val_loss: 0.0466\n",
      "Epoch 3/20\n",
      "\u001b[1m61595/61595\u001b[0m \u001b[32m━━━━━━━━━━━━━━━━━━━━\u001b[0m\u001b[37m\u001b[0m \u001b[1m135s\u001b[0m 2ms/step - accuracy: 0.9790 - loss: 0.0495 - val_accuracy: 0.9825 - val_loss: 0.0430\n",
      "Epoch 4/20\n",
      "\u001b[1m61595/61595\u001b[0m \u001b[32m━━━━━━━━━━━━━━━━━━━━\u001b[0m\u001b[37m\u001b[0m \u001b[1m135s\u001b[0m 2ms/step - accuracy: 0.9817 - loss: 0.0451 - val_accuracy: 0.9865 - val_loss: 0.0371\n",
      "Epoch 5/20\n",
      "\u001b[1m61595/61595\u001b[0m \u001b[32m━━━━━━━━━━━━━━━━━━━━\u001b[0m\u001b[37m\u001b[0m \u001b[1m133s\u001b[0m 2ms/step - accuracy: 0.9864 - loss: 0.0370 - val_accuracy: 0.9906 - val_loss: 0.0318\n",
      "Epoch 6/20\n",
      "\u001b[1m61595/61595\u001b[0m \u001b[32m━━━━━━━━━━━━━━━━━━━━\u001b[0m\u001b[37m\u001b[0m \u001b[1m134s\u001b[0m 2ms/step - accuracy: 0.9875 - loss: 0.0351 - val_accuracy: 0.9887 - val_loss: 0.0330\n",
      "Epoch 7/20\n",
      "\u001b[1m61595/61595\u001b[0m \u001b[32m━━━━━━━━━━━━━━━━━━━━\u001b[0m\u001b[37m\u001b[0m \u001b[1m134s\u001b[0m 2ms/step - accuracy: 0.9879 - loss: 0.0333 - val_accuracy: 0.9880 - val_loss: 0.0277\n",
      "Epoch 8/20\n",
      "\u001b[1m61595/61595\u001b[0m \u001b[32m━━━━━━━━━━━━━━━━━━━━\u001b[0m\u001b[37m\u001b[0m \u001b[1m134s\u001b[0m 2ms/step - accuracy: 0.9882 - loss: 0.0323 - val_accuracy: 0.9895 - val_loss: 0.0316\n",
      "Epoch 9/20\n",
      "\u001b[1m61595/61595\u001b[0m \u001b[32m━━━━━━━━━━━━━━━━━━━━\u001b[0m\u001b[37m\u001b[0m \u001b[1m134s\u001b[0m 2ms/step - accuracy: 0.9880 - loss: 0.0321 - val_accuracy: 0.9887 - val_loss: 0.0276\n",
      "Epoch 10/20\n",
      "\u001b[1m61595/61595\u001b[0m \u001b[32m━━━━━━━━━━━━━━━━━━━━\u001b[0m\u001b[37m\u001b[0m \u001b[1m132s\u001b[0m 2ms/step - accuracy: 0.9885 - loss: 0.0306 - val_accuracy: 0.9899 - val_loss: 0.0252\n",
      "Epoch 11/20\n",
      "\u001b[1m61595/61595\u001b[0m \u001b[32m━━━━━━━━━━━━━━━━━━━━\u001b[0m\u001b[37m\u001b[0m \u001b[1m130s\u001b[0m 2ms/step - accuracy: 0.9890 - loss: 0.0302 - val_accuracy: 0.9899 - val_loss: 0.0278\n",
      "Epoch 12/20\n",
      "\u001b[1m61595/61595\u001b[0m \u001b[32m━━━━━━━━━━━━━━━━━━━━\u001b[0m\u001b[37m\u001b[0m \u001b[1m129s\u001b[0m 2ms/step - accuracy: 0.9882 - loss: 0.0319 - val_accuracy: 0.9903 - val_loss: 0.0292\n",
      "Epoch 13/20\n",
      "\u001b[1m61595/61595\u001b[0m \u001b[32m━━━━━━━━━━━━━━━━━━━━\u001b[0m\u001b[37m\u001b[0m \u001b[1m129s\u001b[0m 2ms/step - accuracy: 0.9893 - loss: 0.0299 - val_accuracy: 0.9900 - val_loss: 0.0331\n",
      "Epoch 14/20\n",
      "\u001b[1m61595/61595\u001b[0m \u001b[32m━━━━━━━━━━━━━━━━━━━━\u001b[0m\u001b[37m\u001b[0m \u001b[1m130s\u001b[0m 2ms/step - accuracy: 0.9891 - loss: 0.0301 - val_accuracy: 0.9895 - val_loss: 0.0240\n",
      "Epoch 15/20\n",
      "\u001b[1m61595/61595\u001b[0m \u001b[32m━━━━━━━━━━━━━━━━━━━━\u001b[0m\u001b[37m\u001b[0m \u001b[1m129s\u001b[0m 2ms/step - accuracy: 0.9895 - loss: 0.0299 - val_accuracy: 0.9889 - val_loss: 0.0288\n",
      "Epoch 16/20\n",
      "\u001b[1m61595/61595\u001b[0m \u001b[32m━━━━━━━━━━━━━━━━━━━━\u001b[0m\u001b[37m\u001b[0m \u001b[1m136s\u001b[0m 2ms/step - accuracy: 0.9892 - loss: 0.0289 - val_accuracy: 0.9875 - val_loss: 0.0357\n",
      "Epoch 17/20\n",
      "\u001b[1m61595/61595\u001b[0m \u001b[32m━━━━━━━━━━━━━━━━━━━━\u001b[0m\u001b[37m\u001b[0m \u001b[1m131s\u001b[0m 2ms/step - accuracy: 0.9897 - loss: 0.0286 - val_accuracy: 0.9914 - val_loss: 0.0234\n",
      "Epoch 18/20\n",
      "\u001b[1m61595/61595\u001b[0m \u001b[32m━━━━━━━━━━━━━━━━━━━━\u001b[0m\u001b[37m\u001b[0m \u001b[1m131s\u001b[0m 2ms/step - accuracy: 0.9896 - loss: 0.0284 - val_accuracy: 0.9888 - val_loss: 0.0300\n",
      "Epoch 19/20\n",
      "\u001b[1m61595/61595\u001b[0m \u001b[32m━━━━━━━━━━━━━━━━━━━━\u001b[0m\u001b[37m\u001b[0m \u001b[1m131s\u001b[0m 2ms/step - accuracy: 0.9899 - loss: 0.0291 - val_accuracy: 0.9903 - val_loss: 0.0261\n",
      "Epoch 20/20\n",
      "\u001b[1m61595/61595\u001b[0m \u001b[32m━━━━━━━━━━━━━━━━━━━━\u001b[0m\u001b[37m\u001b[0m \u001b[1m131s\u001b[0m 2ms/step - accuracy: 0.9898 - loss: 0.0291 - val_accuracy: 0.9895 - val_loss: 0.0264\n",
      "CPU times: user 52min 42s, sys: 2min 58s, total: 55min 40s\n",
      "Wall time: 44min 12s\n"
     ]
    }
   ],
   "source": [
    "%%time\n",
    "model.fit(X_train, y_train,\n",
    "          batch_size=32,\n",
    "          epochs=20,\n",
    "          validation_data=(X_val, y_val))\n",
    "gc.collect();"
   ]
  },
  {
   "cell_type": "code",
   "execution_count": 65,
   "id": "f0c1b282-460e-4583-aa29-41e780d64d85",
   "metadata": {},
   "outputs": [
    {
     "name": "stdout",
     "output_type": "stream",
     "text": [
      "\u001b[1m13256/13256\u001b[0m \u001b[32m━━━━━━━━━━━━━━━━━━━━\u001b[0m\u001b[37m\u001b[0m \u001b[1m14s\u001b[0m 1ms/step  \n"
     ]
    }
   ],
   "source": [
    "y_pred = model.predict(X_test)\n",
    "y_pred = np.argmax(y_pred, axis=1)"
   ]
  },
  {
   "cell_type": "code",
   "execution_count": 66,
   "id": "41c539be-9a2c-46fd-aee3-863d7df4f5d1",
   "metadata": {},
   "outputs": [
    {
     "name": "stdout",
     "output_type": "stream",
     "text": [
      "\u001b[1m13256/13256\u001b[0m \u001b[32m━━━━━━━━━━━━━━━━━━━━\u001b[0m\u001b[37m\u001b[0m \u001b[1m21s\u001b[0m 2ms/step - accuracy: 0.9898 - loss: 0.0267\n"
     ]
    }
   ],
   "source": [
    "_, accuracy = model.evaluate(X_test, y_test)\n",
    "precision = precision_score(y_true=y_test, y_pred=y_pred, average=\"weighted\")\n",
    "f1 = f1_score(y_true=y_test, y_pred=y_pred, average=\"weighted\")\n",
    "recall = recall_score(y_true=y_test, y_pred=y_pred, average=\"weighted\")\n",
    "mae = mean_absolute_error(y_true=y_test,y_pred=y_pred)\n",
    "mse = mean_squared_error(y_true=y_test,y_pred=y_pred) \n",
    "rmse = root_mean_squared_error(y_true=y_test,y_pred=y_pred)"
   ]
  },
  {
   "cell_type": "code",
   "execution_count": 67,
   "id": "7d1c80a4-a52a-45cb-819a-1440f2aed8d6",
   "metadata": {},
   "outputs": [],
   "source": [
    "results = [accuracy, precision, f1, recall, mae, mse, rmse]\n",
    "results_dict[\"FF-NN\"] = results"
   ]
  },
  {
   "cell_type": "code",
   "execution_count": 68,
   "id": "d92c9ec8-8919-4290-ba26-b058bc533ce1",
   "metadata": {},
   "outputs": [],
   "source": [
    "results_df = pd.DataFrame.from_dict(results_dict, orient=\"index\", columns=[\"Accuracy\", \"Precision\", \"F1\", \"Recall\", \"MAE\", \"MSE\", \"RMSE\"])"
   ]
  },
  {
   "cell_type": "code",
   "execution_count": 69,
   "id": "f6d868ce-f359-48c9-ad61-53b956109daf",
   "metadata": {},
   "outputs": [
    {
     "data": {
      "text/html": [
       "<div>\n",
       "<style scoped>\n",
       "    .dataframe tbody tr th:only-of-type {\n",
       "        vertical-align: middle;\n",
       "    }\n",
       "\n",
       "    .dataframe tbody tr th {\n",
       "        vertical-align: top;\n",
       "    }\n",
       "\n",
       "    .dataframe thead th {\n",
       "        text-align: right;\n",
       "    }\n",
       "</style>\n",
       "<table border=\"1\" class=\"dataframe\">\n",
       "  <thead>\n",
       "    <tr style=\"text-align: right;\">\n",
       "      <th></th>\n",
       "      <th>Accuracy</th>\n",
       "      <th>Precision</th>\n",
       "      <th>F1</th>\n",
       "      <th>Recall</th>\n",
       "      <th>MAE</th>\n",
       "      <th>MSE</th>\n",
       "      <th>RMSE</th>\n",
       "    </tr>\n",
       "  </thead>\n",
       "  <tbody>\n",
       "    <tr>\n",
       "      <th>KNN</th>\n",
       "      <td>0.996853</td>\n",
       "      <td>0.996862</td>\n",
       "      <td>0.996856</td>\n",
       "      <td>0.996853</td>\n",
       "      <td>0.003147</td>\n",
       "      <td>0.003147</td>\n",
       "      <td>0.056100</td>\n",
       "    </tr>\n",
       "    <tr>\n",
       "      <th>RF</th>\n",
       "      <td>0.998713</td>\n",
       "      <td>0.998713</td>\n",
       "      <td>0.998713</td>\n",
       "      <td>0.998713</td>\n",
       "      <td>0.001287</td>\n",
       "      <td>0.001287</td>\n",
       "      <td>0.035877</td>\n",
       "    </tr>\n",
       "    <tr>\n",
       "      <th>XGBoost</th>\n",
       "      <td>0.996735</td>\n",
       "      <td>0.996733</td>\n",
       "      <td>0.996734</td>\n",
       "      <td>0.996735</td>\n",
       "      <td>0.003265</td>\n",
       "      <td>0.003265</td>\n",
       "      <td>0.057141</td>\n",
       "    </tr>\n",
       "    <tr>\n",
       "      <th>LightGBM</th>\n",
       "      <td>0.995144</td>\n",
       "      <td>0.995140</td>\n",
       "      <td>0.995141</td>\n",
       "      <td>0.995144</td>\n",
       "      <td>0.004856</td>\n",
       "      <td>0.004856</td>\n",
       "      <td>0.069688</td>\n",
       "    </tr>\n",
       "    <tr>\n",
       "      <th>LSVC</th>\n",
       "      <td>0.879460</td>\n",
       "      <td>0.884654</td>\n",
       "      <td>0.860732</td>\n",
       "      <td>0.879460</td>\n",
       "      <td>0.120540</td>\n",
       "      <td>0.120540</td>\n",
       "      <td>0.347189</td>\n",
       "    </tr>\n",
       "    <tr>\n",
       "      <th>FF-NN</th>\n",
       "      <td>0.989662</td>\n",
       "      <td>0.989634</td>\n",
       "      <td>0.989619</td>\n",
       "      <td>0.989662</td>\n",
       "      <td>0.010338</td>\n",
       "      <td>0.010338</td>\n",
       "      <td>0.101674</td>\n",
       "    </tr>\n",
       "  </tbody>\n",
       "</table>\n",
       "</div>"
      ],
      "text/plain": [
       "          Accuracy  Precision        F1    Recall       MAE       MSE  \\\n",
       "KNN       0.996853   0.996862  0.996856  0.996853  0.003147  0.003147   \n",
       "RF        0.998713   0.998713  0.998713  0.998713  0.001287  0.001287   \n",
       "XGBoost   0.996735   0.996733  0.996734  0.996735  0.003265  0.003265   \n",
       "LightGBM  0.995144   0.995140  0.995141  0.995144  0.004856  0.004856   \n",
       "LSVC      0.879460   0.884654  0.860732  0.879460  0.120540  0.120540   \n",
       "FF-NN     0.989662   0.989634  0.989619  0.989662  0.010338  0.010338   \n",
       "\n",
       "              RMSE  \n",
       "KNN       0.056100  \n",
       "RF        0.035877  \n",
       "XGBoost   0.057141  \n",
       "LightGBM  0.069688  \n",
       "LSVC      0.347189  \n",
       "FF-NN     0.101674  "
      ]
     },
     "execution_count": 69,
     "metadata": {},
     "output_type": "execute_result"
    }
   ],
   "source": [
    "results_df"
   ]
  },
  {
   "cell_type": "markdown",
   "id": "8774cecc-edc4-4211-99f1-0bce23b42ad6",
   "metadata": {},
   "source": [
    "## 5.7. LSTM Neural Network"
   ]
  },
  {
   "cell_type": "code",
   "execution_count": 70,
   "id": "2bf20901-7479-4161-9132-50552f240752",
   "metadata": {},
   "outputs": [],
   "source": [
    "# Prepare sequential data\n",
    "def create_sequences(features, labels, seq_length):\n",
    "    sequences, seq_labels = [], []\n",
    "    for i in range(len(features) - seq_length):\n",
    "        sequences.append(features[i:i + seq_length])\n",
    "        seq_labels.append(labels[i + seq_length - 1])  # Use the last label in the sequence\n",
    "    return np.array(sequences), np.array(seq_labels)"
   ]
  },
  {
   "cell_type": "code",
   "execution_count": 71,
   "id": "84da3274-967c-4ce0-8127-c49df0e651e5",
   "metadata": {},
   "outputs": [],
   "source": [
    "# Create sequences\n",
    "seq_length = 20\n",
    "X, y = create_sequences(X, y, seq_length)\n",
    "y = to_categorical(y, num_classes=num_components)  # Convert labels to one-hot encoding"
   ]
  },
  {
   "cell_type": "code",
   "execution_count": 92,
   "id": "1fdab097-572a-4550-94d5-b5ab89bffe2f",
   "metadata": {},
   "outputs": [],
   "source": [
    "# Split data\n",
    "X_train, X_temp, y_train, y_temp = train_test_split(X, y, test_size=0.3, random_state=42)\n",
    "X_val, X_test, y_val, y_test = train_test_split(X_temp, y_temp, test_size=0.5, random_state=42)"
   ]
  },
  {
   "cell_type": "code",
   "execution_count": 73,
   "id": "215d2a7d-9ee7-49fe-94c9-6c9715ba43e8",
   "metadata": {},
   "outputs": [],
   "source": [
    "def create_model_LSTM(input_shape, num_classes):\n",
    "    model = keras.Sequential([\n",
    "        keras.layers.LSTM(64, input_shape=input_shape, return_sequences=True),\n",
    "        keras.layers.Dropout(0.3),\n",
    "        keras.layers.LSTM(32),\n",
    "        keras.layers.Dropout(0.3),\n",
    "        keras.layers.Dense(64, activation='relu'),\n",
    "        keras.layers.Dense(num_classes, activation='softmax')  # Use softmax for multi-class classification\n",
    "    ])\n",
    "    model.compile(optimizer='adam', loss='categorical_crossentropy', metrics=['accuracy'])\n",
    "    return model"
   ]
  },
  {
   "cell_type": "code",
   "execution_count": 74,
   "id": "05d58a4e-7685-49ca-9581-f0df62639c94",
   "metadata": {},
   "outputs": [],
   "source": [
    "# Build model\n",
    "model = create_model_LSTM(input_shape=(seq_length, X.shape[2]), num_classes=num_components)"
   ]
  },
  {
   "cell_type": "code",
   "execution_count": 75,
   "id": "568da0e7-5f27-4eb0-aa1e-35b52ff5f2af",
   "metadata": {},
   "outputs": [
    {
     "data": {
      "text/html": [
       "<pre style=\"white-space:pre;overflow-x:auto;line-height:normal;font-family:Menlo,'DejaVu Sans Mono',consolas,'Courier New',monospace\"><span style=\"font-weight: bold\">Model: \"sequential_1\"</span>\n",
       "</pre>\n"
      ],
      "text/plain": [
       "\u001b[1mModel: \"sequential_1\"\u001b[0m\n"
      ]
     },
     "metadata": {},
     "output_type": "display_data"
    },
    {
     "data": {
      "text/html": [
       "<pre style=\"white-space:pre;overflow-x:auto;line-height:normal;font-family:Menlo,'DejaVu Sans Mono',consolas,'Courier New',monospace\">┏━━━━━━━━━━━━━━━━━━━━━━━━━━━━━━━━━┳━━━━━━━━━━━━━━━━━━━━━━━━┳━━━━━━━━━━━━━━━┓\n",
       "┃<span style=\"font-weight: bold\"> Layer (type)                    </span>┃<span style=\"font-weight: bold\"> Output Shape           </span>┃<span style=\"font-weight: bold\">       Param # </span>┃\n",
       "┡━━━━━━━━━━━━━━━━━━━━━━━━━━━━━━━━━╇━━━━━━━━━━━━━━━━━━━━━━━━╇━━━━━━━━━━━━━━━┩\n",
       "│ lstm (<span style=\"color: #0087ff; text-decoration-color: #0087ff\">LSTM</span>)                     │ (<span style=\"color: #00d7ff; text-decoration-color: #00d7ff\">None</span>, <span style=\"color: #00af00; text-decoration-color: #00af00\">20</span>, <span style=\"color: #00af00; text-decoration-color: #00af00\">64</span>)         │        <span style=\"color: #00af00; text-decoration-color: #00af00\">19,200</span> │\n",
       "├─────────────────────────────────┼────────────────────────┼───────────────┤\n",
       "│ dropout (<span style=\"color: #0087ff; text-decoration-color: #0087ff\">Dropout</span>)               │ (<span style=\"color: #00d7ff; text-decoration-color: #00d7ff\">None</span>, <span style=\"color: #00af00; text-decoration-color: #00af00\">20</span>, <span style=\"color: #00af00; text-decoration-color: #00af00\">64</span>)         │             <span style=\"color: #00af00; text-decoration-color: #00af00\">0</span> │\n",
       "├─────────────────────────────────┼────────────────────────┼───────────────┤\n",
       "│ lstm_1 (<span style=\"color: #0087ff; text-decoration-color: #0087ff\">LSTM</span>)                   │ (<span style=\"color: #00d7ff; text-decoration-color: #00d7ff\">None</span>, <span style=\"color: #00af00; text-decoration-color: #00af00\">32</span>)             │        <span style=\"color: #00af00; text-decoration-color: #00af00\">12,416</span> │\n",
       "├─────────────────────────────────┼────────────────────────┼───────────────┤\n",
       "│ dropout_1 (<span style=\"color: #0087ff; text-decoration-color: #0087ff\">Dropout</span>)             │ (<span style=\"color: #00d7ff; text-decoration-color: #00d7ff\">None</span>, <span style=\"color: #00af00; text-decoration-color: #00af00\">32</span>)             │             <span style=\"color: #00af00; text-decoration-color: #00af00\">0</span> │\n",
       "├─────────────────────────────────┼────────────────────────┼───────────────┤\n",
       "│ dense_4 (<span style=\"color: #0087ff; text-decoration-color: #0087ff\">Dense</span>)                 │ (<span style=\"color: #00d7ff; text-decoration-color: #00d7ff\">None</span>, <span style=\"color: #00af00; text-decoration-color: #00af00\">64</span>)             │         <span style=\"color: #00af00; text-decoration-color: #00af00\">2,112</span> │\n",
       "├─────────────────────────────────┼────────────────────────┼───────────────┤\n",
       "│ dense_5 (<span style=\"color: #0087ff; text-decoration-color: #0087ff\">Dense</span>)                 │ (<span style=\"color: #00d7ff; text-decoration-color: #00d7ff\">None</span>, <span style=\"color: #00af00; text-decoration-color: #00af00\">10</span>)             │           <span style=\"color: #00af00; text-decoration-color: #00af00\">650</span> │\n",
       "└─────────────────────────────────┴────────────────────────┴───────────────┘\n",
       "</pre>\n"
      ],
      "text/plain": [
       "┏━━━━━━━━━━━━━━━━━━━━━━━━━━━━━━━━━┳━━━━━━━━━━━━━━━━━━━━━━━━┳━━━━━━━━━━━━━━━┓\n",
       "┃\u001b[1m \u001b[0m\u001b[1mLayer (type)                   \u001b[0m\u001b[1m \u001b[0m┃\u001b[1m \u001b[0m\u001b[1mOutput Shape          \u001b[0m\u001b[1m \u001b[0m┃\u001b[1m \u001b[0m\u001b[1m      Param #\u001b[0m\u001b[1m \u001b[0m┃\n",
       "┡━━━━━━━━━━━━━━━━━━━━━━━━━━━━━━━━━╇━━━━━━━━━━━━━━━━━━━━━━━━╇━━━━━━━━━━━━━━━┩\n",
       "│ lstm (\u001b[38;5;33mLSTM\u001b[0m)                     │ (\u001b[38;5;45mNone\u001b[0m, \u001b[38;5;34m20\u001b[0m, \u001b[38;5;34m64\u001b[0m)         │        \u001b[38;5;34m19,200\u001b[0m │\n",
       "├─────────────────────────────────┼────────────────────────┼───────────────┤\n",
       "│ dropout (\u001b[38;5;33mDropout\u001b[0m)               │ (\u001b[38;5;45mNone\u001b[0m, \u001b[38;5;34m20\u001b[0m, \u001b[38;5;34m64\u001b[0m)         │             \u001b[38;5;34m0\u001b[0m │\n",
       "├─────────────────────────────────┼────────────────────────┼───────────────┤\n",
       "│ lstm_1 (\u001b[38;5;33mLSTM\u001b[0m)                   │ (\u001b[38;5;45mNone\u001b[0m, \u001b[38;5;34m32\u001b[0m)             │        \u001b[38;5;34m12,416\u001b[0m │\n",
       "├─────────────────────────────────┼────────────────────────┼───────────────┤\n",
       "│ dropout_1 (\u001b[38;5;33mDropout\u001b[0m)             │ (\u001b[38;5;45mNone\u001b[0m, \u001b[38;5;34m32\u001b[0m)             │             \u001b[38;5;34m0\u001b[0m │\n",
       "├─────────────────────────────────┼────────────────────────┼───────────────┤\n",
       "│ dense_4 (\u001b[38;5;33mDense\u001b[0m)                 │ (\u001b[38;5;45mNone\u001b[0m, \u001b[38;5;34m64\u001b[0m)             │         \u001b[38;5;34m2,112\u001b[0m │\n",
       "├─────────────────────────────────┼────────────────────────┼───────────────┤\n",
       "│ dense_5 (\u001b[38;5;33mDense\u001b[0m)                 │ (\u001b[38;5;45mNone\u001b[0m, \u001b[38;5;34m10\u001b[0m)             │           \u001b[38;5;34m650\u001b[0m │\n",
       "└─────────────────────────────────┴────────────────────────┴───────────────┘\n"
      ]
     },
     "metadata": {},
     "output_type": "display_data"
    },
    {
     "data": {
      "text/html": [
       "<pre style=\"white-space:pre;overflow-x:auto;line-height:normal;font-family:Menlo,'DejaVu Sans Mono',consolas,'Courier New',monospace\"><span style=\"font-weight: bold\"> Total params: </span><span style=\"color: #00af00; text-decoration-color: #00af00\">34,378</span> (134.29 KB)\n",
       "</pre>\n"
      ],
      "text/plain": [
       "\u001b[1m Total params: \u001b[0m\u001b[38;5;34m34,378\u001b[0m (134.29 KB)\n"
      ]
     },
     "metadata": {},
     "output_type": "display_data"
    },
    {
     "data": {
      "text/html": [
       "<pre style=\"white-space:pre;overflow-x:auto;line-height:normal;font-family:Menlo,'DejaVu Sans Mono',consolas,'Courier New',monospace\"><span style=\"font-weight: bold\"> Trainable params: </span><span style=\"color: #00af00; text-decoration-color: #00af00\">34,378</span> (134.29 KB)\n",
       "</pre>\n"
      ],
      "text/plain": [
       "\u001b[1m Trainable params: \u001b[0m\u001b[38;5;34m34,378\u001b[0m (134.29 KB)\n"
      ]
     },
     "metadata": {},
     "output_type": "display_data"
    },
    {
     "data": {
      "text/html": [
       "<pre style=\"white-space:pre;overflow-x:auto;line-height:normal;font-family:Menlo,'DejaVu Sans Mono',consolas,'Courier New',monospace\"><span style=\"font-weight: bold\"> Non-trainable params: </span><span style=\"color: #00af00; text-decoration-color: #00af00\">0</span> (0.00 B)\n",
       "</pre>\n"
      ],
      "text/plain": [
       "\u001b[1m Non-trainable params: \u001b[0m\u001b[38;5;34m0\u001b[0m (0.00 B)\n"
      ]
     },
     "metadata": {},
     "output_type": "display_data"
    }
   ],
   "source": [
    "model.summary()"
   ]
  },
  {
   "cell_type": "code",
   "execution_count": 89,
   "id": "94999cac-c056-416e-8f3b-82ab3980d010",
   "metadata": {},
   "outputs": [
    {
     "name": "stderr",
     "output_type": "stream",
     "text": [
      "2025-01-11 15:35:40.620605: W external/local_xla/xla/tsl/framework/cpu_allocator_impl.cc:83] Allocation of 1583599200 exceeds 10% of free system memory.\n",
      "2025-01-11 15:35:43.848431: W external/local_xla/xla/tsl/framework/cpu_allocator_impl.cc:83] Allocation of 1583599200 exceeds 10% of free system memory.\n"
     ]
    },
    {
     "name": "stdout",
     "output_type": "stream",
     "text": [
      "Epoch 1/100\n",
      "\u001b[1m242/242\u001b[0m \u001b[32m━━━━━━━━━━━━━━━━━━━━\u001b[0m\u001b[37m\u001b[0m \u001b[1m27s\u001b[0m 110ms/step - accuracy: 0.9914 - loss: 0.0287 - val_accuracy: 0.9935 - val_loss: 0.0218\n",
      "Epoch 2/100\n",
      "\u001b[1m242/242\u001b[0m \u001b[32m━━━━━━━━━━━━━━━━━━━━\u001b[0m\u001b[37m\u001b[0m \u001b[1m27s\u001b[0m 110ms/step - accuracy: 0.9892 - loss: 0.0351 - val_accuracy: 0.9791 - val_loss: 0.0540\n",
      "Epoch 3/100\n",
      "\u001b[1m242/242\u001b[0m \u001b[32m━━━━━━━━━━━━━━━━━━━━\u001b[0m\u001b[37m\u001b[0m \u001b[1m26s\u001b[0m 108ms/step - accuracy: 0.9836 - loss: 0.0447 - val_accuracy: 0.9909 - val_loss: 0.0275\n",
      "Epoch 4/100\n",
      "\u001b[1m242/242\u001b[0m \u001b[32m━━━━━━━━━━━━━━━━━━━━\u001b[0m\u001b[37m\u001b[0m \u001b[1m26s\u001b[0m 109ms/step - accuracy: 0.9898 - loss: 0.0321 - val_accuracy: 0.9921 - val_loss: 0.0281\n",
      "Epoch 5/100\n",
      "\u001b[1m242/242\u001b[0m \u001b[32m━━━━━━━━━━━━━━━━━━━━\u001b[0m\u001b[37m\u001b[0m \u001b[1m26s\u001b[0m 108ms/step - accuracy: 0.9917 - loss: 0.0277 - val_accuracy: 0.9878 - val_loss: 0.0349\n",
      "Epoch 6/100\n",
      "\u001b[1m242/242\u001b[0m \u001b[32m━━━━━━━━━━━━━━━━━━━━\u001b[0m\u001b[37m\u001b[0m \u001b[1m26s\u001b[0m 108ms/step - accuracy: 0.9888 - loss: 0.0334 - val_accuracy: 0.9942 - val_loss: 0.0199\n",
      "Epoch 7/100\n",
      "\u001b[1m242/242\u001b[0m \u001b[32m━━━━━━━━━━━━━━━━━━━━\u001b[0m\u001b[37m\u001b[0m \u001b[1m26s\u001b[0m 108ms/step - accuracy: 0.9918 - loss: 0.0275 - val_accuracy: 0.9922 - val_loss: 0.0244\n",
      "Epoch 8/100\n",
      "\u001b[1m242/242\u001b[0m \u001b[32m━━━━━━━━━━━━━━━━━━━━\u001b[0m\u001b[37m\u001b[0m \u001b[1m26s\u001b[0m 107ms/step - accuracy: 0.9931 - loss: 0.0236 - val_accuracy: 0.9946 - val_loss: 0.0185\n",
      "Epoch 9/100\n",
      "\u001b[1m242/242\u001b[0m \u001b[32m━━━━━━━━━━━━━━━━━━━━\u001b[0m\u001b[37m\u001b[0m \u001b[1m26s\u001b[0m 107ms/step - accuracy: 0.9927 - loss: 0.0244 - val_accuracy: 0.9944 - val_loss: 0.0187\n",
      "Epoch 10/100\n",
      "\u001b[1m242/242\u001b[0m \u001b[32m━━━━━━━━━━━━━━━━━━━━\u001b[0m\u001b[37m\u001b[0m \u001b[1m26s\u001b[0m 108ms/step - accuracy: 0.9939 - loss: 0.0211 - val_accuracy: 0.9949 - val_loss: 0.0171\n",
      "Epoch 11/100\n",
      "\u001b[1m242/242\u001b[0m \u001b[32m━━━━━━━━━━━━━━━━━━━━\u001b[0m\u001b[37m\u001b[0m \u001b[1m26s\u001b[0m 108ms/step - accuracy: 0.9942 - loss: 0.0202 - val_accuracy: 0.9786 - val_loss: 0.0845\n",
      "Epoch 12/100\n",
      "\u001b[1m242/242\u001b[0m \u001b[32m━━━━━━━━━━━━━━━━━━━━\u001b[0m\u001b[37m\u001b[0m \u001b[1m26s\u001b[0m 108ms/step - accuracy: 0.9835 - loss: 0.0467 - val_accuracy: 0.9901 - val_loss: 0.0293\n",
      "Epoch 13/100\n",
      "\u001b[1m242/242\u001b[0m \u001b[32m━━━━━━━━━━━━━━━━━━━━\u001b[0m\u001b[37m\u001b[0m \u001b[1m26s\u001b[0m 108ms/step - accuracy: 0.9891 - loss: 0.0323 - val_accuracy: 0.9911 - val_loss: 0.0249\n",
      "Epoch 14/100\n",
      "\u001b[1m242/242\u001b[0m \u001b[32m━━━━━━━━━━━━━━━━━━━━\u001b[0m\u001b[37m\u001b[0m \u001b[1m26s\u001b[0m 108ms/step - accuracy: 0.9899 - loss: 0.0299 - val_accuracy: 0.9915 - val_loss: 0.0241\n",
      "Epoch 15/100\n",
      "\u001b[1m242/242\u001b[0m \u001b[32m━━━━━━━━━━━━━━━━━━━━\u001b[0m\u001b[37m\u001b[0m \u001b[1m26s\u001b[0m 108ms/step - accuracy: 0.9905 - loss: 0.0294 - val_accuracy: 0.9929 - val_loss: 0.0225\n",
      "Epoch 16/100\n",
      "\u001b[1m242/242\u001b[0m \u001b[32m━━━━━━━━━━━━━━━━━━━━\u001b[0m\u001b[37m\u001b[0m \u001b[1m26s\u001b[0m 107ms/step - accuracy: 0.9920 - loss: 0.0254 - val_accuracy: 0.9943 - val_loss: 0.0194\n",
      "Epoch 17/100\n",
      "\u001b[1m242/242\u001b[0m \u001b[32m━━━━━━━━━━━━━━━━━━━━\u001b[0m\u001b[37m\u001b[0m \u001b[1m26s\u001b[0m 108ms/step - accuracy: 0.9904 - loss: 0.0288 - val_accuracy: 0.9906 - val_loss: 0.0279\n",
      "Epoch 18/100\n",
      "\u001b[1m242/242\u001b[0m \u001b[32m━━━━━━━━━━━━━━━━━━━━\u001b[0m\u001b[37m\u001b[0m \u001b[1m26s\u001b[0m 108ms/step - accuracy: 0.9905 - loss: 0.0286 - val_accuracy: 0.9941 - val_loss: 0.0189\n",
      "Epoch 19/100\n",
      "\u001b[1m242/242\u001b[0m \u001b[32m━━━━━━━━━━━━━━━━━━━━\u001b[0m\u001b[37m\u001b[0m \u001b[1m26s\u001b[0m 108ms/step - accuracy: 0.9890 - loss: 0.0343 - val_accuracy: 0.9947 - val_loss: 0.0172\n",
      "Epoch 20/100\n",
      "\u001b[1m242/242\u001b[0m \u001b[32m━━━━━━━━━━━━━━━━━━━━\u001b[0m\u001b[37m\u001b[0m \u001b[1m26s\u001b[0m 107ms/step - accuracy: 0.9921 - loss: 0.0251 - val_accuracy: 0.9893 - val_loss: 0.0307\n",
      "Epoch 21/100\n",
      "\u001b[1m242/242\u001b[0m \u001b[32m━━━━━━━━━━━━━━━━━━━━\u001b[0m\u001b[37m\u001b[0m \u001b[1m26s\u001b[0m 108ms/step - accuracy: 0.9890 - loss: 0.0317 - val_accuracy: 0.9934 - val_loss: 0.0198\n",
      "Epoch 22/100\n",
      "\u001b[1m242/242\u001b[0m \u001b[32m━━━━━━━━━━━━━━━━━━━━\u001b[0m\u001b[37m\u001b[0m \u001b[1m26s\u001b[0m 108ms/step - accuracy: 0.9929 - loss: 0.0231 - val_accuracy: 0.9954 - val_loss: 0.0156\n",
      "Epoch 23/100\n",
      "\u001b[1m242/242\u001b[0m \u001b[32m━━━━━━━━━━━━━━━━━━━━\u001b[0m\u001b[37m\u001b[0m \u001b[1m26s\u001b[0m 109ms/step - accuracy: 0.9930 - loss: 0.0236 - val_accuracy: 0.9955 - val_loss: 0.0152\n",
      "Epoch 24/100\n",
      "\u001b[1m242/242\u001b[0m \u001b[32m━━━━━━━━━━━━━━━━━━━━\u001b[0m\u001b[37m\u001b[0m \u001b[1m26s\u001b[0m 108ms/step - accuracy: 0.9947 - loss: 0.0179 - val_accuracy: 0.9956 - val_loss: 0.0149\n",
      "Epoch 25/100\n",
      "\u001b[1m242/242\u001b[0m \u001b[32m━━━━━━━━━━━━━━━━━━━━\u001b[0m\u001b[37m\u001b[0m \u001b[1m27s\u001b[0m 111ms/step - accuracy: 0.9938 - loss: 0.0205 - val_accuracy: 0.9890 - val_loss: 0.0314\n",
      "Epoch 26/100\n",
      "\u001b[1m242/242\u001b[0m \u001b[32m━━━━━━━━━━━━━━━━━━━━\u001b[0m\u001b[37m\u001b[0m \u001b[1m26s\u001b[0m 108ms/step - accuracy: 0.9883 - loss: 0.0331 - val_accuracy: 0.9915 - val_loss: 0.0241\n",
      "Epoch 27/100\n",
      "\u001b[1m242/242\u001b[0m \u001b[32m━━━━━━━━━━━━━━━━━━━━\u001b[0m\u001b[37m\u001b[0m \u001b[1m26s\u001b[0m 107ms/step - accuracy: 0.9913 - loss: 0.0261 - val_accuracy: 0.9943 - val_loss: 0.0179\n",
      "Epoch 28/100\n",
      "\u001b[1m242/242\u001b[0m \u001b[32m━━━━━━━━━━━━━━━━━━━━\u001b[0m\u001b[37m\u001b[0m \u001b[1m26s\u001b[0m 107ms/step - accuracy: 0.9926 - loss: 0.0236 - val_accuracy: 0.9932 - val_loss: 0.0208\n",
      "Epoch 29/100\n",
      "\u001b[1m242/242\u001b[0m \u001b[32m━━━━━━━━━━━━━━━━━━━━\u001b[0m\u001b[37m\u001b[0m \u001b[1m26s\u001b[0m 106ms/step - accuracy: 0.9927 - loss: 0.0230 - val_accuracy: 0.9955 - val_loss: 0.0149\n",
      "Epoch 30/100\n",
      "\u001b[1m242/242\u001b[0m \u001b[32m━━━━━━━━━━━━━━━━━━━━\u001b[0m\u001b[37m\u001b[0m \u001b[1m26s\u001b[0m 107ms/step - accuracy: 0.9944 - loss: 0.0187 - val_accuracy: 0.9872 - val_loss: 0.0373\n",
      "Epoch 31/100\n",
      "\u001b[1m242/242\u001b[0m \u001b[32m━━━━━━━━━━━━━━━━━━━━\u001b[0m\u001b[37m\u001b[0m \u001b[1m26s\u001b[0m 106ms/step - accuracy: 0.9873 - loss: 0.0356 - val_accuracy: 0.9914 - val_loss: 0.0245\n",
      "Epoch 32/100\n",
      "\u001b[1m242/242\u001b[0m \u001b[32m━━━━━━━━━━━━━━━━━━━━\u001b[0m\u001b[37m\u001b[0m \u001b[1m26s\u001b[0m 107ms/step - accuracy: 0.9911 - loss: 0.0262 - val_accuracy: 0.9956 - val_loss: 0.0147\n",
      "Epoch 33/100\n",
      "\u001b[1m242/242\u001b[0m \u001b[32m━━━━━━━━━━━━━━━━━━━━\u001b[0m\u001b[37m\u001b[0m \u001b[1m26s\u001b[0m 109ms/step - accuracy: 0.9948 - loss: 0.0173 - val_accuracy: 0.9959 - val_loss: 0.0137\n",
      "Epoch 34/100\n",
      "\u001b[1m242/242\u001b[0m \u001b[32m━━━━━━━━━━━━━━━━━━━━\u001b[0m\u001b[37m\u001b[0m \u001b[1m26s\u001b[0m 107ms/step - accuracy: 0.9943 - loss: 0.0188 - val_accuracy: 0.9880 - val_loss: 0.0323\n",
      "Epoch 35/100\n",
      "\u001b[1m242/242\u001b[0m \u001b[32m━━━━━━━━━━━━━━━━━━━━\u001b[0m\u001b[37m\u001b[0m \u001b[1m27s\u001b[0m 112ms/step - accuracy: 0.9880 - loss: 0.0335 - val_accuracy: 0.9922 - val_loss: 0.0222\n",
      "Epoch 36/100\n",
      "\u001b[1m242/242\u001b[0m \u001b[32m━━━━━━━━━━━━━━━━━━━━\u001b[0m\u001b[37m\u001b[0m \u001b[1m28s\u001b[0m 116ms/step - accuracy: 0.9901 - loss: 0.0289 - val_accuracy: 0.9915 - val_loss: 0.0250\n",
      "Epoch 37/100\n",
      "\u001b[1m242/242\u001b[0m \u001b[32m━━━━━━━━━━━━━━━━━━━━\u001b[0m\u001b[37m\u001b[0m \u001b[1m26s\u001b[0m 108ms/step - accuracy: 0.9914 - loss: 0.0255 - val_accuracy: 0.9952 - val_loss: 0.0157\n",
      "Epoch 38/100\n",
      "\u001b[1m242/242\u001b[0m \u001b[32m━━━━━━━━━━━━━━━━━━━━\u001b[0m\u001b[37m\u001b[0m \u001b[1m26s\u001b[0m 107ms/step - accuracy: 0.9939 - loss: 0.0202 - val_accuracy: 0.9956 - val_loss: 0.0144\n",
      "Epoch 39/100\n",
      "\u001b[1m242/242\u001b[0m \u001b[32m━━━━━━━━━━━━━━━━━━━━\u001b[0m\u001b[37m\u001b[0m \u001b[1m26s\u001b[0m 108ms/step - accuracy: 0.9944 - loss: 0.0186 - val_accuracy: 0.9936 - val_loss: 0.0215\n",
      "Epoch 40/100\n",
      "\u001b[1m242/242\u001b[0m \u001b[32m━━━━━━━━━━━━━━━━━━━━\u001b[0m\u001b[37m\u001b[0m \u001b[1m26s\u001b[0m 107ms/step - accuracy: 0.9938 - loss: 0.0204 - val_accuracy: 0.9898 - val_loss: 0.0288\n",
      "Epoch 41/100\n",
      "\u001b[1m242/242\u001b[0m \u001b[32m━━━━━━━━━━━━━━━━━━━━\u001b[0m\u001b[37m\u001b[0m \u001b[1m26s\u001b[0m 108ms/step - accuracy: 0.9895 - loss: 0.0300 - val_accuracy: 0.9920 - val_loss: 0.0233\n",
      "Epoch 42/100\n",
      "\u001b[1m242/242\u001b[0m \u001b[32m━━━━━━━━━━━━━━━━━━━━\u001b[0m\u001b[37m\u001b[0m \u001b[1m26s\u001b[0m 109ms/step - accuracy: 0.9913 - loss: 0.0253 - val_accuracy: 0.9950 - val_loss: 0.0163\n",
      "Epoch 43/100\n",
      "\u001b[1m242/242\u001b[0m \u001b[32m━━━━━━━━━━━━━━━━━━━━\u001b[0m\u001b[37m\u001b[0m \u001b[1m27s\u001b[0m 112ms/step - accuracy: 0.9934 - loss: 0.0211 - val_accuracy: 0.9948 - val_loss: 0.0165\n",
      "Epoch 44/100\n",
      "\u001b[1m242/242\u001b[0m \u001b[32m━━━━━━━━━━━━━━━━━━━━\u001b[0m\u001b[37m\u001b[0m \u001b[1m28s\u001b[0m 114ms/step - accuracy: 0.9919 - loss: 0.0256 - val_accuracy: 0.9960 - val_loss: 0.0133\n",
      "Epoch 45/100\n",
      "\u001b[1m242/242\u001b[0m \u001b[32m━━━━━━━━━━━━━━━━━━━━\u001b[0m\u001b[37m\u001b[0m \u001b[1m28s\u001b[0m 114ms/step - accuracy: 0.9953 - loss: 0.0158 - val_accuracy: 0.9838 - val_loss: 0.0433\n",
      "Epoch 46/100\n",
      "\u001b[1m242/242\u001b[0m \u001b[32m━━━━━━━━━━━━━━━━━━━━\u001b[0m\u001b[37m\u001b[0m \u001b[1m28s\u001b[0m 114ms/step - accuracy: 0.9861 - loss: 0.0373 - val_accuracy: 0.9906 - val_loss: 0.0275\n",
      "Epoch 47/100\n",
      "\u001b[1m242/242\u001b[0m \u001b[32m━━━━━━━━━━━━━━━━━━━━\u001b[0m\u001b[37m\u001b[0m \u001b[1m28s\u001b[0m 114ms/step - accuracy: 0.9896 - loss: 0.0298 - val_accuracy: 0.9916 - val_loss: 0.0237\n",
      "Epoch 48/100\n",
      "\u001b[1m242/242\u001b[0m \u001b[32m━━━━━━━━━━━━━━━━━━━━\u001b[0m\u001b[37m\u001b[0m \u001b[1m28s\u001b[0m 115ms/step - accuracy: 0.9915 - loss: 0.0252 - val_accuracy: 0.9949 - val_loss: 0.0162\n",
      "Epoch 49/100\n",
      "\u001b[1m242/242\u001b[0m \u001b[32m━━━━━━━━━━━━━━━━━━━━\u001b[0m\u001b[37m\u001b[0m \u001b[1m27s\u001b[0m 112ms/step - accuracy: 0.9928 - loss: 0.0228 - val_accuracy: 0.9942 - val_loss: 0.0172\n",
      "Epoch 50/100\n",
      "\u001b[1m242/242\u001b[0m \u001b[32m━━━━━━━━━━━━━━━━━━━━\u001b[0m\u001b[37m\u001b[0m \u001b[1m27s\u001b[0m 112ms/step - accuracy: 0.9913 - loss: 0.0261 - val_accuracy: 0.9961 - val_loss: 0.0134\n",
      "Epoch 51/100\n",
      "\u001b[1m242/242\u001b[0m \u001b[32m━━━━━━━━━━━━━━━━━━━━\u001b[0m\u001b[37m\u001b[0m \u001b[1m27s\u001b[0m 112ms/step - accuracy: 0.9953 - loss: 0.0156 - val_accuracy: 0.9857 - val_loss: 0.0494\n",
      "Epoch 52/100\n",
      "\u001b[1m242/242\u001b[0m \u001b[32m━━━━━━━━━━━━━━━━━━━━\u001b[0m\u001b[37m\u001b[0m \u001b[1m28s\u001b[0m 115ms/step - accuracy: 0.9895 - loss: 0.0312 - val_accuracy: 0.9960 - val_loss: 0.0134\n",
      "Epoch 53/100\n",
      "\u001b[1m242/242\u001b[0m \u001b[32m━━━━━━━━━━━━━━━━━━━━\u001b[0m\u001b[37m\u001b[0m \u001b[1m27s\u001b[0m 111ms/step - accuracy: 0.9955 - loss: 0.0152 - val_accuracy: 0.9963 - val_loss: 0.0124\n",
      "Epoch 54/100\n",
      "\u001b[1m242/242\u001b[0m \u001b[32m━━━━━━━━━━━━━━━━━━━━\u001b[0m\u001b[37m\u001b[0m \u001b[1m27s\u001b[0m 112ms/step - accuracy: 0.9957 - loss: 0.0143 - val_accuracy: 0.9964 - val_loss: 0.0123\n",
      "Epoch 55/100\n",
      "\u001b[1m242/242\u001b[0m \u001b[32m━━━━━━━━━━━━━━━━━━━━\u001b[0m\u001b[37m\u001b[0m \u001b[1m27s\u001b[0m 111ms/step - accuracy: 0.9958 - loss: 0.0142 - val_accuracy: 0.9964 - val_loss: 0.0123\n",
      "Epoch 56/100\n",
      "\u001b[1m242/242\u001b[0m \u001b[32m━━━━━━━━━━━━━━━━━━━━\u001b[0m\u001b[37m\u001b[0m \u001b[1m26s\u001b[0m 105ms/step - accuracy: 0.9958 - loss: 0.0142 - val_accuracy: 0.9964 - val_loss: 0.0121\n",
      "Epoch 57/100\n",
      "\u001b[1m242/242\u001b[0m \u001b[32m━━━━━━━━━━━━━━━━━━━━\u001b[0m\u001b[37m\u001b[0m \u001b[1m26s\u001b[0m 109ms/step - accuracy: 0.9932 - loss: 0.0218 - val_accuracy: 0.9913 - val_loss: 0.0256\n",
      "Epoch 58/100\n",
      "\u001b[1m242/242\u001b[0m \u001b[32m━━━━━━━━━━━━━━━━━━━━\u001b[0m\u001b[37m\u001b[0m \u001b[1m27s\u001b[0m 112ms/step - accuracy: 0.9909 - loss: 0.0264 - val_accuracy: 0.9937 - val_loss: 0.0180\n",
      "Epoch 59/100\n",
      "\u001b[1m242/242\u001b[0m \u001b[32m━━━━━━━━━━━━━━━━━━━━\u001b[0m\u001b[37m\u001b[0m \u001b[1m27s\u001b[0m 113ms/step - accuracy: 0.9935 - loss: 0.0201 - val_accuracy: 0.9924 - val_loss: 0.0219\n",
      "Epoch 60/100\n",
      "\u001b[1m242/242\u001b[0m \u001b[32m━━━━━━━━━━━━━━━━━━━━\u001b[0m\u001b[37m\u001b[0m \u001b[1m27s\u001b[0m 112ms/step - accuracy: 0.9937 - loss: 0.0191 - val_accuracy: 0.9961 - val_loss: 0.0129\n",
      "Epoch 61/100\n",
      "\u001b[1m242/242\u001b[0m \u001b[32m━━━━━━━━━━━━━━━━━━━━\u001b[0m\u001b[37m\u001b[0m \u001b[1m27s\u001b[0m 112ms/step - accuracy: 0.9958 - loss: 0.0144 - val_accuracy: 0.9959 - val_loss: 0.0130\n",
      "Epoch 62/100\n",
      "\u001b[1m242/242\u001b[0m \u001b[32m━━━━━━━━━━━━━━━━━━━━\u001b[0m\u001b[37m\u001b[0m \u001b[1m27s\u001b[0m 111ms/step - accuracy: 0.9958 - loss: 0.0141 - val_accuracy: 0.9848 - val_loss: 0.0645\n",
      "Epoch 63/100\n",
      "\u001b[1m242/242\u001b[0m \u001b[32m━━━━━━━━━━━━━━━━━━━━\u001b[0m\u001b[37m\u001b[0m \u001b[1m27s\u001b[0m 111ms/step - accuracy: 0.9863 - loss: 0.0399 - val_accuracy: 0.9922 - val_loss: 0.0220\n",
      "Epoch 64/100\n",
      "\u001b[1m242/242\u001b[0m \u001b[32m━━━━━━━━━━━━━━━━━━━━\u001b[0m\u001b[37m\u001b[0m \u001b[1m27s\u001b[0m 113ms/step - accuracy: 0.9921 - loss: 0.0231 - val_accuracy: 0.9951 - val_loss: 0.0152\n",
      "Epoch 65/100\n",
      "\u001b[1m242/242\u001b[0m \u001b[32m━━━━━━━━━━━━━━━━━━━━\u001b[0m\u001b[37m\u001b[0m \u001b[1m27s\u001b[0m 112ms/step - accuracy: 0.9940 - loss: 0.0185 - val_accuracy: 0.9961 - val_loss: 0.0130\n",
      "Epoch 66/100\n",
      "\u001b[1m242/242\u001b[0m \u001b[32m━━━━━━━━━━━━━━━━━━━━\u001b[0m\u001b[37m\u001b[0m \u001b[1m27s\u001b[0m 112ms/step - accuracy: 0.9952 - loss: 0.0156 - val_accuracy: 0.9863 - val_loss: 0.0405\n",
      "Epoch 67/100\n",
      "\u001b[1m242/242\u001b[0m \u001b[32m━━━━━━━━━━━━━━━━━━━━\u001b[0m\u001b[37m\u001b[0m \u001b[1m27s\u001b[0m 111ms/step - accuracy: 0.9894 - loss: 0.0296 - val_accuracy: 0.9955 - val_loss: 0.0142\n",
      "Epoch 68/100\n",
      "\u001b[1m242/242\u001b[0m \u001b[32m━━━━━━━━━━━━━━━━━━━━\u001b[0m\u001b[37m\u001b[0m \u001b[1m27s\u001b[0m 111ms/step - accuracy: 0.9949 - loss: 0.0166 - val_accuracy: 0.9908 - val_loss: 0.0263\n",
      "Epoch 69/100\n",
      "\u001b[1m242/242\u001b[0m \u001b[32m━━━━━━━━━━━━━━━━━━━━\u001b[0m\u001b[37m\u001b[0m \u001b[1m27s\u001b[0m 111ms/step - accuracy: 0.9922 - loss: 0.0224 - val_accuracy: 0.9961 - val_loss: 0.0128\n",
      "Epoch 70/100\n",
      "\u001b[1m242/242\u001b[0m \u001b[32m━━━━━━━━━━━━━━━━━━━━\u001b[0m\u001b[37m\u001b[0m \u001b[1m27s\u001b[0m 113ms/step - accuracy: 0.9958 - loss: 0.0137 - val_accuracy: 0.9965 - val_loss: 0.0120\n",
      "Epoch 71/100\n",
      "\u001b[1m242/242\u001b[0m \u001b[32m━━━━━━━━━━━━━━━━━━━━\u001b[0m\u001b[37m\u001b[0m \u001b[1m27s\u001b[0m 112ms/step - accuracy: 0.9891 - loss: 0.0322 - val_accuracy: 0.9912 - val_loss: 0.0254\n",
      "Epoch 72/100\n",
      "\u001b[1m242/242\u001b[0m \u001b[32m━━━━━━━━━━━━━━━━━━━━\u001b[0m\u001b[37m\u001b[0m \u001b[1m27s\u001b[0m 112ms/step - accuracy: 0.9904 - loss: 0.0272 - val_accuracy: 0.9918 - val_loss: 0.0224\n",
      "Epoch 73/100\n",
      "\u001b[1m242/242\u001b[0m \u001b[32m━━━━━━━━━━━━━━━━━━━━\u001b[0m\u001b[37m\u001b[0m \u001b[1m27s\u001b[0m 112ms/step - accuracy: 0.9916 - loss: 0.0235 - val_accuracy: 0.9954 - val_loss: 0.0153\n",
      "Epoch 74/100\n",
      "\u001b[1m242/242\u001b[0m \u001b[32m━━━━━━━━━━━━━━━━━━━━\u001b[0m\u001b[37m\u001b[0m \u001b[1m27s\u001b[0m 112ms/step - accuracy: 0.9950 - loss: 0.0162 - val_accuracy: 0.9963 - val_loss: 0.0124\n",
      "Epoch 75/100\n",
      "\u001b[1m242/242\u001b[0m \u001b[32m━━━━━━━━━━━━━━━━━━━━\u001b[0m\u001b[37m\u001b[0m \u001b[1m26s\u001b[0m 107ms/step - accuracy: 0.9921 - loss: 0.0238 - val_accuracy: 0.9917 - val_loss: 0.0237\n",
      "Epoch 76/100\n",
      "\u001b[1m242/242\u001b[0m \u001b[32m━━━━━━━━━━━━━━━━━━━━\u001b[0m\u001b[37m\u001b[0m \u001b[1m26s\u001b[0m 108ms/step - accuracy: 0.9913 - loss: 0.0246 - val_accuracy: 0.9943 - val_loss: 0.0172\n",
      "Epoch 77/100\n",
      "\u001b[1m242/242\u001b[0m \u001b[32m━━━━━━━━━━━━━━━━━━━━\u001b[0m\u001b[37m\u001b[0m \u001b[1m26s\u001b[0m 108ms/step - accuracy: 0.9936 - loss: 0.0193 - val_accuracy: 0.9958 - val_loss: 0.0137\n",
      "Epoch 78/100\n",
      "\u001b[1m242/242\u001b[0m \u001b[32m━━━━━━━━━━━━━━━━━━━━\u001b[0m\u001b[37m\u001b[0m \u001b[1m26s\u001b[0m 106ms/step - accuracy: 0.9954 - loss: 0.0150 - val_accuracy: 0.9964 - val_loss: 0.0121\n",
      "Epoch 79/100\n",
      "\u001b[1m242/242\u001b[0m \u001b[32m━━━━━━━━━━━━━━━━━━━━\u001b[0m\u001b[37m\u001b[0m \u001b[1m26s\u001b[0m 105ms/step - accuracy: 0.9959 - loss: 0.0137 - val_accuracy: 0.9852 - val_loss: 0.0350\n",
      "Epoch 80/100\n",
      "\u001b[1m242/242\u001b[0m \u001b[32m━━━━━━━━━━━━━━━━━━━━\u001b[0m\u001b[37m\u001b[0m \u001b[1m25s\u001b[0m 104ms/step - accuracy: 0.9887 - loss: 0.0306 - val_accuracy: 0.9921 - val_loss: 0.0230\n",
      "Epoch 81/100\n",
      "\u001b[1m242/242\u001b[0m \u001b[32m━━━━━━━━━━━━━━━━━━━━\u001b[0m\u001b[37m\u001b[0m \u001b[1m25s\u001b[0m 104ms/step - accuracy: 0.9919 - loss: 0.0236 - val_accuracy: 0.9947 - val_loss: 0.0168\n",
      "Epoch 82/100\n",
      "\u001b[1m242/242\u001b[0m \u001b[32m━━━━━━━━━━━━━━━━━━━━\u001b[0m\u001b[37m\u001b[0m \u001b[1m25s\u001b[0m 104ms/step - accuracy: 0.9948 - loss: 0.0169 - val_accuracy: 0.9962 - val_loss: 0.0122\n",
      "Epoch 83/100\n",
      "\u001b[1m242/242\u001b[0m \u001b[32m━━━━━━━━━━━━━━━━━━━━\u001b[0m\u001b[37m\u001b[0m \u001b[1m25s\u001b[0m 104ms/step - accuracy: 0.9962 - loss: 0.0128 - val_accuracy: 0.9967 - val_loss: 0.0112\n",
      "Epoch 84/100\n",
      "\u001b[1m242/242\u001b[0m \u001b[32m━━━━━━━━━━━━━━━━━━━━\u001b[0m\u001b[37m\u001b[0m \u001b[1m25s\u001b[0m 104ms/step - accuracy: 0.9963 - loss: 0.0125 - val_accuracy: 0.9968 - val_loss: 0.0111\n",
      "Epoch 85/100\n",
      "\u001b[1m242/242\u001b[0m \u001b[32m━━━━━━━━━━━━━━━━━━━━\u001b[0m\u001b[37m\u001b[0m \u001b[1m25s\u001b[0m 104ms/step - accuracy: 0.9887 - loss: 0.0324 - val_accuracy: 0.9917 - val_loss: 0.0237\n",
      "Epoch 86/100\n",
      "\u001b[1m242/242\u001b[0m \u001b[32m━━━━━━━━━━━━━━━━━━━━\u001b[0m\u001b[37m\u001b[0m \u001b[1m25s\u001b[0m 104ms/step - accuracy: 0.9918 - loss: 0.0238 - val_accuracy: 0.9939 - val_loss: 0.0186\n",
      "Epoch 87/100\n",
      "\u001b[1m242/242\u001b[0m \u001b[32m━━━━━━━━━━━━━━━━━━━━\u001b[0m\u001b[37m\u001b[0m \u001b[1m25s\u001b[0m 104ms/step - accuracy: 0.9944 - loss: 0.0172 - val_accuracy: 0.9900 - val_loss: 0.0261\n",
      "Epoch 88/100\n",
      "\u001b[1m242/242\u001b[0m \u001b[32m━━━━━━━━━━━━━━━━━━━━\u001b[0m\u001b[37m\u001b[0m \u001b[1m25s\u001b[0m 103ms/step - accuracy: 0.9945 - loss: 0.0173 - val_accuracy: 0.9913 - val_loss: 0.0253\n",
      "Epoch 89/100\n",
      "\u001b[1m242/242\u001b[0m \u001b[32m━━━━━━━━━━━━━━━━━━━━\u001b[0m\u001b[37m\u001b[0m \u001b[1m25s\u001b[0m 103ms/step - accuracy: 0.9911 - loss: 0.0254 - val_accuracy: 0.9957 - val_loss: 0.0136\n",
      "Epoch 90/100\n",
      "\u001b[1m242/242\u001b[0m \u001b[32m━━━━━━━━━━━━━━━━━━━━\u001b[0m\u001b[37m\u001b[0m \u001b[1m25s\u001b[0m 103ms/step - accuracy: 0.9952 - loss: 0.0152 - val_accuracy: 0.9916 - val_loss: 0.0252\n",
      "Epoch 91/100\n",
      "\u001b[1m242/242\u001b[0m \u001b[32m━━━━━━━━━━━━━━━━━━━━\u001b[0m\u001b[37m\u001b[0m \u001b[1m25s\u001b[0m 103ms/step - accuracy: 0.9928 - loss: 0.0213 - val_accuracy: 0.9963 - val_loss: 0.0121\n",
      "Epoch 92/100\n",
      "\u001b[1m242/242\u001b[0m \u001b[32m━━━━━━━━━━━━━━━━━━━━\u001b[0m\u001b[37m\u001b[0m \u001b[1m25s\u001b[0m 103ms/step - accuracy: 0.9960 - loss: 0.0130 - val_accuracy: 0.9968 - val_loss: 0.0110\n",
      "Epoch 93/100\n",
      "\u001b[1m242/242\u001b[0m \u001b[32m━━━━━━━━━━━━━━━━━━━━\u001b[0m\u001b[37m\u001b[0m \u001b[1m25s\u001b[0m 103ms/step - accuracy: 0.9963 - loss: 0.0123 - val_accuracy: 0.9968 - val_loss: 0.0110\n",
      "Epoch 94/100\n",
      "\u001b[1m242/242\u001b[0m \u001b[32m━━━━━━━━━━━━━━━━━━━━\u001b[0m\u001b[37m\u001b[0m \u001b[1m25s\u001b[0m 103ms/step - accuracy: 0.9964 - loss: 0.0119 - val_accuracy: 0.9968 - val_loss: 0.0109\n",
      "Epoch 95/100\n",
      "\u001b[1m242/242\u001b[0m \u001b[32m━━━━━━━━━━━━━━━━━━━━\u001b[0m\u001b[37m\u001b[0m \u001b[1m25s\u001b[0m 103ms/step - accuracy: 0.9958 - loss: 0.0138 - val_accuracy: 0.9969 - val_loss: 0.0108\n",
      "Epoch 96/100\n",
      "\u001b[1m242/242\u001b[0m \u001b[32m━━━━━━━━━━━━━━━━━━━━\u001b[0m\u001b[37m\u001b[0m \u001b[1m26s\u001b[0m 109ms/step - accuracy: 0.9965 - loss: 0.0119 - val_accuracy: 0.9968 - val_loss: 0.0105\n",
      "Epoch 97/100\n",
      "\u001b[1m242/242\u001b[0m \u001b[32m━━━━━━━━━━━━━━━━━━━━\u001b[0m\u001b[37m\u001b[0m \u001b[1m27s\u001b[0m 110ms/step - accuracy: 0.9965 - loss: 0.0115 - val_accuracy: 0.9969 - val_loss: 0.0106\n",
      "Epoch 98/100\n",
      "\u001b[1m242/242\u001b[0m \u001b[32m━━━━━━━━━━━━━━━━━━━━\u001b[0m\u001b[37m\u001b[0m \u001b[1m26s\u001b[0m 108ms/step - accuracy: 0.9966 - loss: 0.0115 - val_accuracy: 0.9968 - val_loss: 0.0105\n",
      "Epoch 99/100\n",
      "\u001b[1m242/242\u001b[0m \u001b[32m━━━━━━━━━━━━━━━━━━━━\u001b[0m\u001b[37m\u001b[0m \u001b[1m27s\u001b[0m 110ms/step - accuracy: 0.9966 - loss: 0.0113 - val_accuracy: 0.9875 - val_loss: 0.0313\n",
      "Epoch 100/100\n",
      "\u001b[1m242/242\u001b[0m \u001b[32m━━━━━━━━━━━━━━━━━━━━\u001b[0m\u001b[37m\u001b[0m \u001b[1m27s\u001b[0m 110ms/step - accuracy: 0.9897 - loss: 0.0281 - val_accuracy: 0.9937 - val_loss: 0.0183\n",
      "CPU times: user 12min 57s, sys: 1min 57s, total: 14min 54s\n",
      "Wall time: 44min 3s\n"
     ]
    }
   ],
   "source": [
    "%%time\n",
    "# Train model\n",
    "history = model.fit(\n",
    "    X_train, y_train,\n",
    "    epochs=100,\n",
    "    batch_size=8192,\n",
    "    validation_data=(X_val, y_val)\n",
    ")"
   ]
  },
  {
   "cell_type": "code",
   "execution_count": 90,
   "id": "b179f932-ef39-4561-9546-58f736d91fc6",
   "metadata": {},
   "outputs": [
    {
     "name": "stdout",
     "output_type": "stream",
     "text": [
      "\u001b[1m13256/13256\u001b[0m \u001b[32m━━━━━━━━━━━━━━━━━━━━\u001b[0m\u001b[37m\u001b[0m \u001b[1m31s\u001b[0m 2ms/step\n"
     ]
    }
   ],
   "source": [
    "# Evaluate model\n",
    "y_pred = model.predict(X_test)"
   ]
  },
  {
   "cell_type": "code",
   "execution_count": 93,
   "id": "e351d327-8210-4398-a906-f0a1fd8711bb",
   "metadata": {},
   "outputs": [
    {
     "name": "stdout",
     "output_type": "stream",
     "text": [
      "\u001b[1m13256/13256\u001b[0m \u001b[32m━━━━━━━━━━━━━━━━━━━━\u001b[0m\u001b[37m\u001b[0m \u001b[1m46s\u001b[0m 3ms/step - accuracy: 0.9937 - loss: 0.0182\n"
     ]
    }
   ],
   "source": [
    "_, accuracy = model.evaluate(X_test, y_test)"
   ]
  },
  {
   "cell_type": "code",
   "execution_count": 94,
   "id": "4e90d426-d328-4ddb-8e01-4d3f390e3864",
   "metadata": {},
   "outputs": [],
   "source": [
    "y_test = np.argmax(y_test, axis=1)\n",
    "y_pred = np.argmax(y_pred, axis=1)"
   ]
  },
  {
   "cell_type": "code",
   "execution_count": 95,
   "id": "27266d00-bab4-4277-8b10-af25c5ce454e",
   "metadata": {},
   "outputs": [],
   "source": [
    "precision = precision_score(y_true=y_test, y_pred=y_pred, average=\"weighted\")\n",
    "f1 = f1_score(y_true=y_test, y_pred=y_pred, average=\"weighted\")\n",
    "recall = recall_score(y_true=y_test, y_pred=y_pred, average=\"weighted\")\n",
    "mae = mean_absolute_error(y_true=y_test,y_pred=y_pred)\n",
    "mse = mean_squared_error(y_true=y_test,y_pred=y_pred) \n",
    "rmse = root_mean_squared_error(y_true=y_test,y_pred=y_pred)"
   ]
  },
  {
   "cell_type": "code",
   "execution_count": 96,
   "id": "35c958be-3d0c-4f13-b13f-b2b522aca43a",
   "metadata": {},
   "outputs": [],
   "source": [
    "results = [accuracy, precision, f1, recall, mae, mse, rmse]\n",
    "results_dict[\"LSTM\"] = results"
   ]
  },
  {
   "cell_type": "code",
   "execution_count": 97,
   "id": "a6f22b97-b8c3-4069-b6c4-20319b291c8b",
   "metadata": {},
   "outputs": [],
   "source": [
    "results_df = pd.DataFrame.from_dict(results_dict, orient=\"index\", columns=[\"Accuracy\", \"Precision\", \"F1\", \"Recall\", \"MAE\", \"MSE\", \"RMSE\"])"
   ]
  },
  {
   "cell_type": "code",
   "execution_count": 98,
   "id": "3cd8304f-6535-4682-881e-3bdd60ec1df3",
   "metadata": {},
   "outputs": [
    {
     "data": {
      "text/html": [
       "<div>\n",
       "<style scoped>\n",
       "    .dataframe tbody tr th:only-of-type {\n",
       "        vertical-align: middle;\n",
       "    }\n",
       "\n",
       "    .dataframe tbody tr th {\n",
       "        vertical-align: top;\n",
       "    }\n",
       "\n",
       "    .dataframe thead th {\n",
       "        text-align: right;\n",
       "    }\n",
       "</style>\n",
       "<table border=\"1\" class=\"dataframe\">\n",
       "  <thead>\n",
       "    <tr style=\"text-align: right;\">\n",
       "      <th></th>\n",
       "      <th>Accuracy</th>\n",
       "      <th>Precision</th>\n",
       "      <th>F1</th>\n",
       "      <th>Recall</th>\n",
       "      <th>MAE</th>\n",
       "      <th>MSE</th>\n",
       "      <th>RMSE</th>\n",
       "    </tr>\n",
       "  </thead>\n",
       "  <tbody>\n",
       "    <tr>\n",
       "      <th>KNN</th>\n",
       "      <td>0.996853</td>\n",
       "      <td>0.996862</td>\n",
       "      <td>0.996856</td>\n",
       "      <td>0.996853</td>\n",
       "      <td>0.003147</td>\n",
       "      <td>0.003147</td>\n",
       "      <td>0.056100</td>\n",
       "    </tr>\n",
       "    <tr>\n",
       "      <th>RF</th>\n",
       "      <td>0.998713</td>\n",
       "      <td>0.998713</td>\n",
       "      <td>0.998713</td>\n",
       "      <td>0.998713</td>\n",
       "      <td>0.001287</td>\n",
       "      <td>0.001287</td>\n",
       "      <td>0.035877</td>\n",
       "    </tr>\n",
       "    <tr>\n",
       "      <th>XGBoost</th>\n",
       "      <td>0.996735</td>\n",
       "      <td>0.996733</td>\n",
       "      <td>0.996734</td>\n",
       "      <td>0.996735</td>\n",
       "      <td>0.003265</td>\n",
       "      <td>0.003265</td>\n",
       "      <td>0.057141</td>\n",
       "    </tr>\n",
       "    <tr>\n",
       "      <th>LightGBM</th>\n",
       "      <td>0.995144</td>\n",
       "      <td>0.995140</td>\n",
       "      <td>0.995141</td>\n",
       "      <td>0.995144</td>\n",
       "      <td>0.004856</td>\n",
       "      <td>0.004856</td>\n",
       "      <td>0.069688</td>\n",
       "    </tr>\n",
       "    <tr>\n",
       "      <th>LSVC</th>\n",
       "      <td>0.879460</td>\n",
       "      <td>0.884654</td>\n",
       "      <td>0.860732</td>\n",
       "      <td>0.879460</td>\n",
       "      <td>0.120540</td>\n",
       "      <td>0.120540</td>\n",
       "      <td>0.347189</td>\n",
       "    </tr>\n",
       "    <tr>\n",
       "      <th>FF-NN</th>\n",
       "      <td>0.989662</td>\n",
       "      <td>0.989634</td>\n",
       "      <td>0.989619</td>\n",
       "      <td>0.989662</td>\n",
       "      <td>0.010338</td>\n",
       "      <td>0.010338</td>\n",
       "      <td>0.101674</td>\n",
       "    </tr>\n",
       "    <tr>\n",
       "      <th>LSTM</th>\n",
       "      <td>0.993621</td>\n",
       "      <td>0.993643</td>\n",
       "      <td>0.993629</td>\n",
       "      <td>0.993621</td>\n",
       "      <td>0.006379</td>\n",
       "      <td>0.006379</td>\n",
       "      <td>0.079871</td>\n",
       "    </tr>\n",
       "  </tbody>\n",
       "</table>\n",
       "</div>"
      ],
      "text/plain": [
       "          Accuracy  Precision        F1    Recall       MAE       MSE  \\\n",
       "KNN       0.996853   0.996862  0.996856  0.996853  0.003147  0.003147   \n",
       "RF        0.998713   0.998713  0.998713  0.998713  0.001287  0.001287   \n",
       "XGBoost   0.996735   0.996733  0.996734  0.996735  0.003265  0.003265   \n",
       "LightGBM  0.995144   0.995140  0.995141  0.995144  0.004856  0.004856   \n",
       "LSVC      0.879460   0.884654  0.860732  0.879460  0.120540  0.120540   \n",
       "FF-NN     0.989662   0.989634  0.989619  0.989662  0.010338  0.010338   \n",
       "LSTM      0.993621   0.993643  0.993629  0.993621  0.006379  0.006379   \n",
       "\n",
       "              RMSE  \n",
       "KNN       0.056100  \n",
       "RF        0.035877  \n",
       "XGBoost   0.057141  \n",
       "LightGBM  0.069688  \n",
       "LSVC      0.347189  \n",
       "FF-NN     0.101674  \n",
       "LSTM      0.079871  "
      ]
     },
     "execution_count": 98,
     "metadata": {},
     "output_type": "execute_result"
    }
   ],
   "source": [
    "results_df"
   ]
  },
  {
   "cell_type": "markdown",
   "id": "862a97b4-43cb-4a62-bc85-b04f12d37897",
   "metadata": {},
   "source": [
    "# 6. Plotting data"
   ]
  },
  {
   "cell_type": "code",
   "execution_count": 99,
   "id": "43a936e6-e207-434f-b449-42b4084f5cee",
   "metadata": {},
   "outputs": [],
   "source": [
    "def plotResults(df, columns_list, rows, columns):\n",
    "    \"\"\"\n",
    "    Plot results\n",
    "    \"\"\"\n",
    "    fig, axes = plt.subplots(rows, columns)\n",
    "    for ax, col in zip(axes.ravel(), columns_list):\n",
    "        df[col].plot(ax=ax,\n",
    "                     kind=\"bar\",\n",
    "                     figsize=(15,50),\n",
    "                     fontsize=12)\n",
    "        if col in [\"Accuracy\", \"Precision\", \"F1\", \"Recall\"]:\n",
    "            ax.set_title(f\"{col} (Higher is better)\", fontsize=20)\n",
    "        else:\n",
    "            ax.set_title(f\"{col} (Lower is better)\", fontsize=20)\n",
    "        ax.tick_params(axis='x', labelrotation=0)\n",
    "        ax.grid(which='major', linestyle='-')\n",
    "        ax.grid(which='minor', linestyle='--')\n",
    "        ax.set_axisbelow(True)\n",
    "        extent = ax.get_window_extent().transformed(fig.dpi_scale_trans.inverted())\n",
    "        fig.savefig(f\"images/results/{col}.png\", bbox_inches=extent.expanded(1.1, 1.2))"
   ]
  },
  {
   "cell_type": "code",
   "execution_count": 100,
   "id": "88a4fbb6-a99f-45e3-afb6-ed9de7d2a3ae",
   "metadata": {},
   "outputs": [
    {
     "data": {
      "image/png": "[encoded data removed]",
      "text/plain": [
       "<Figure size 1500x5000 with 7 Axes>"
      ]
     },
     "metadata": {},
     "output_type": "display_data"
    }
   ],
   "source": [
    "plotResults(results_df, results_df.columns, len(results_df.columns), 1)"
   ]
  },
  {
   "cell_type": "code",
   "execution_count": null,
   "id": "86dd3645-e937-4ffa-bcd0-683c0f20d7fe",
   "metadata": {},
   "outputs": [],
   "source": []
  }
 ],
 "metadata": {
  "kernelspec": {
   "display_name": "Python 3 (ipykernel)",
   "language": "python",
   "name": "python3"
  },
  "language_info": {
   "codemirror_mode": {
    "name": "ipython",
    "version": 3
   },
   "file_extension": ".py",
   "mimetype": "text/x-python",
   "name": "python",
   "nbconvert_exporter": "python",
   "pygments_lexer": "ipython3",
   "version": "3.10.16"
  }
 },
 "nbformat": 4,
 "nbformat_minor": 5
}
