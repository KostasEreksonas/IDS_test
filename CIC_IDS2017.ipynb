{
 "cells": [
  {
   "cell_type": "markdown",
   "id": "907e836c-143f-4707-937c-2a7221738c14",
   "metadata": {},
   "source": [
    "# CIC IDS 2017"
   ]
  },
  {
   "cell_type": "code",
   "execution_count": 8,
   "id": "6f6907d9-cd7d-47f7-8d45-023bfc28c8fa",
   "metadata": {},
   "outputs": [],
   "source": [
    "import pandas as pd\n",
    "import numpy as np\n",
    "import matplotlib.pyplot as plt\n",
    "%matplotlib inline"
   ]
  }
 ],
 "metadata": {
  "kernelspec": {
   "display_name": "Python 3 (ipykernel)",
   "language": "python",
   "name": "python3"
  },
  "language_info": {
   "codemirror_mode": {
    "name": "ipython",
    "version": 3
   },
   "file_extension": ".py",
   "mimetype": "text/x-python",
   "name": "python",
   "nbconvert_exporter": "python",
   "pygments_lexer": "ipython3",
   "version": "3.10.13"
  }
 },
 "nbformat": 4,
 "nbformat_minor": 5
}
