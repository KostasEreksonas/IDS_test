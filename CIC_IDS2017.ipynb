{
 "cells": [
  {
   "cell_type": "markdown",
   "id": "907e836c-143f-4707-937c-2a7221738c14",
   "metadata": {},
   "source": [
    "# CIC IDS 2017"
   ]
  },
  {
   "cell_type": "code",
   "execution_count": 2,
   "id": "6f6907d9-cd7d-47f7-8d45-023bfc28c8fa",
   "metadata": {},
   "outputs": [],
   "source": [
    "import os\n",
    "import pandas as pd\n",
    "import numpy as np\n",
    "import matplotlib.pyplot as plt\n",
    "%matplotlib inline"
   ]
  },
  {
   "cell_type": "code",
   "execution_count": 3,
   "id": "30f6db93-1ed1-4a63-b4c3-f2854e5c6183",
   "metadata": {},
   "outputs": [
    {
     "name": "stdout",
     "output_type": "stream",
     "text": [
      "data/CIC_IDS_2017/download_dataset\n",
      "data/CIC_IDS_2017/GeneratedLabelledFlows.zip\n",
      "data/CIC_IDS_2017/GeneratedLabelledFlows.md5\n",
      "data/CIC_IDS_2017/MachineLearningCSV.zip\n",
      "data/CIC_IDS_2017/README.md\n",
      "data/CIC_IDS_2017/MachineLearningCSV.md5\n",
      "data/CIC_IDS_2017/MachineLearningCVE/Thursday-WorkingHours-Afternoon-Infilteration.pcap_ISCX.csv\n",
      "data/CIC_IDS_2017/MachineLearningCVE/Monday-WorkingHours.pcap_ISCX.csv\n",
      "data/CIC_IDS_2017/MachineLearningCVE/Friday-WorkingHours-Afternoon-PortScan.pcap_ISCX.csv\n",
      "data/CIC_IDS_2017/MachineLearningCVE/Tuesday-WorkingHours.pcap_ISCX.csv\n",
      "data/CIC_IDS_2017/MachineLearningCVE/Friday-WorkingHours-Afternoon-DDos.pcap_ISCX.csv\n",
      "data/CIC_IDS_2017/MachineLearningCVE/Wednesday-workingHours.pcap_ISCX.csv\n",
      "data/CIC_IDS_2017/MachineLearningCVE/Friday-WorkingHours-Morning.pcap_ISCX.csv\n",
      "data/CIC_IDS_2017/MachineLearningCVE/Thursday-WorkingHours-Morning-WebAttacks.pcap_ISCX.csv\n",
      "data/CIC_IDS_2017/TrafficLabelling /Thursday-WorkingHours-Afternoon-Infilteration.pcap_ISCX.csv\n",
      "data/CIC_IDS_2017/TrafficLabelling /Monday-WorkingHours.pcap_ISCX.csv\n",
      "data/CIC_IDS_2017/TrafficLabelling /Friday-WorkingHours-Afternoon-PortScan.pcap_ISCX.csv\n",
      "data/CIC_IDS_2017/TrafficLabelling /Tuesday-WorkingHours.pcap_ISCX.csv\n",
      "data/CIC_IDS_2017/TrafficLabelling /Friday-WorkingHours-Afternoon-DDos.pcap_ISCX.csv\n",
      "data/CIC_IDS_2017/TrafficLabelling /Wednesday-workingHours.pcap_ISCX.csv\n",
      "data/CIC_IDS_2017/TrafficLabelling /Friday-WorkingHours-Morning.pcap_ISCX.csv\n",
      "data/CIC_IDS_2017/TrafficLabelling /Thursday-WorkingHours-Morning-WebAttacks.pcap_ISCX.csv\n"
     ]
    }
   ],
   "source": [
    "for dirname, _, filenames in os.walk('data/CIC_IDS_2017/'):\n",
    "    for filename in filenames:\n",
    "        print(os.path.join(dirname, filename))"
   ]
  },
  {
   "cell_type": "code",
   "execution_count": 4,
   "id": "70998090-dcb3-4e1e-abd5-f083b157f1c8",
   "metadata": {},
   "outputs": [
    {
     "name": "stdout",
     "output_type": "stream",
     "text": [
      "8\n"
     ]
    }
   ],
   "source": [
    "!ls data/CIC_IDS_2017/MachineLearningCVE/*.csv| wc -l"
   ]
  },
  {
   "cell_type": "code",
   "execution_count": 10,
   "id": "048211cf-fbda-448a-99ec-c0de727c7eb0",
   "metadata": {},
   "outputs": [
    {
     "name": "stdout",
     "output_type": "stream",
     "text": [
      "data/CIC_IDS_2017/MachineLearningCVE/Friday-WorkingHours-Afternoon-DDos.pcap_ISCX.csv\n",
      "data/CIC_IDS_2017/MachineLearningCVE/Friday-WorkingHours-Afternoon-PortScan.pcap_ISCX.csv\n",
      "data/CIC_IDS_2017/MachineLearningCVE/Friday-WorkingHours-Morning.pcap_ISCX.csv\n",
      "data/CIC_IDS_2017/MachineLearningCVE/Monday-WorkingHours.pcap_ISCX.csv\n",
      "data/CIC_IDS_2017/MachineLearningCVE/Thursday-WorkingHours-Afternoon-Infilteration.pcap_ISCX.csv\n",
      "data/CIC_IDS_2017/MachineLearningCVE/Thursday-WorkingHours-Morning-WebAttacks.pcap_ISCX.csv\n",
      "data/CIC_IDS_2017/MachineLearningCVE/Tuesday-WorkingHours.pcap_ISCX.csv\n",
      "data/CIC_IDS_2017/MachineLearningCVE/Wednesday-workingHours.pcap_ISCX.csv\n"
     ]
    }
   ],
   "source": [
    "!ls data/CIC_IDS_2017/MachineLearningCVE/*.csv"
   ]
  },
  {
   "cell_type": "code",
   "execution_count": 26,
   "id": "53c17ef5-a063-48e4-affe-c4e4fe75896a",
   "metadata": {},
   "outputs": [],
   "source": [
    "df1 = pd.read_csv('data/CIC_IDS_2017/MachineLearningCVE/Monday-WorkingHours.pcap_ISCX.csv')\n",
    "df2 = pd.read_csv('data/CIC_IDS_2017/MachineLearningCVE/Tuesday-WorkingHours.pcap_ISCX.csv')\n",
    "df3 = pd.read_csv('data/CIC_IDS_2017/MachineLearningCVE/Wednesday-workingHours.pcap_ISCX.csv')\n",
    "df4 = pd.read_csv('data/CIC_IDS_2017/MachineLearningCVE/Thursday-WorkingHours-Morning-WebAttacks.pcap_ISCX.csv')\n",
    "df5 = pd.read_csv('data/CIC_IDS_2017/MachineLearningCVE/Thursday-WorkingHours-Afternoon-Infilteration.pcap_ISCX.csv')\n",
    "df6 = pd.read_csv('data/CIC_IDS_2017/MachineLearningCVE/Friday-WorkingHours-Morning.pcap_ISCX.csv')\n",
    "df7 = pd.read_csv('data/CIC_IDS_2017/MachineLearningCVE/Friday-WorkingHours-Afternoon-DDos.pcap_ISCX.csv')\n",
    "df8 = pd.read_csv('data/CIC_IDS_2017/MachineLearningCVE/Friday-WorkingHours-Afternoon-PortScan.pcap_ISCX.csv')"
   ]
  },
  {
   "cell_type": "code",
   "execution_count": 27,
   "id": "08e421b9-9216-42c5-9e80-4efd9b35c618",
   "metadata": {},
   "outputs": [
    {
     "data": {
      "text/html": [
       "<div>\n",
       "<style scoped>\n",
       "    .dataframe tbody tr th:only-of-type {\n",
       "        vertical-align: middle;\n",
       "    }\n",
       "\n",
       "    .dataframe tbody tr th {\n",
       "        vertical-align: top;\n",
       "    }\n",
       "\n",
       "    .dataframe thead th {\n",
       "        text-align: right;\n",
       "    }\n",
       "</style>\n",
       "<table border=\"1\" class=\"dataframe\">\n",
       "  <thead>\n",
       "    <tr style=\"text-align: right;\">\n",
       "      <th></th>\n",
       "      <th>Destination Port</th>\n",
       "      <th>Flow Duration</th>\n",
       "      <th>Total Fwd Packets</th>\n",
       "      <th>Total Backward Packets</th>\n",
       "      <th>Total Length of Fwd Packets</th>\n",
       "      <th>Total Length of Bwd Packets</th>\n",
       "      <th>Fwd Packet Length Max</th>\n",
       "      <th>Fwd Packet Length Min</th>\n",
       "      <th>Fwd Packet Length Mean</th>\n",
       "      <th>Fwd Packet Length Std</th>\n",
       "      <th>...</th>\n",
       "      <th>min_seg_size_forward</th>\n",
       "      <th>Active Mean</th>\n",
       "      <th>Active Std</th>\n",
       "      <th>Active Max</th>\n",
       "      <th>Active Min</th>\n",
       "      <th>Idle Mean</th>\n",
       "      <th>Idle Std</th>\n",
       "      <th>Idle Max</th>\n",
       "      <th>Idle Min</th>\n",
       "      <th>Label</th>\n",
       "    </tr>\n",
       "  </thead>\n",
       "  <tbody>\n",
       "    <tr>\n",
       "      <th>0</th>\n",
       "      <td>88</td>\n",
       "      <td>640</td>\n",
       "      <td>7</td>\n",
       "      <td>4</td>\n",
       "      <td>440</td>\n",
       "      <td>358</td>\n",
       "      <td>220</td>\n",
       "      <td>0</td>\n",
       "      <td>62.857143</td>\n",
       "      <td>107.349008</td>\n",
       "      <td>...</td>\n",
       "      <td>20</td>\n",
       "      <td>0.0</td>\n",
       "      <td>0.0</td>\n",
       "      <td>0</td>\n",
       "      <td>0</td>\n",
       "      <td>0.0</td>\n",
       "      <td>0.0</td>\n",
       "      <td>0</td>\n",
       "      <td>0</td>\n",
       "      <td>BENIGN</td>\n",
       "    </tr>\n",
       "    <tr>\n",
       "      <th>1</th>\n",
       "      <td>88</td>\n",
       "      <td>900</td>\n",
       "      <td>9</td>\n",
       "      <td>4</td>\n",
       "      <td>600</td>\n",
       "      <td>2944</td>\n",
       "      <td>300</td>\n",
       "      <td>0</td>\n",
       "      <td>66.666667</td>\n",
       "      <td>132.287566</td>\n",
       "      <td>...</td>\n",
       "      <td>20</td>\n",
       "      <td>0.0</td>\n",
       "      <td>0.0</td>\n",
       "      <td>0</td>\n",
       "      <td>0</td>\n",
       "      <td>0.0</td>\n",
       "      <td>0.0</td>\n",
       "      <td>0</td>\n",
       "      <td>0</td>\n",
       "      <td>BENIGN</td>\n",
       "    </tr>\n",
       "    <tr>\n",
       "      <th>2</th>\n",
       "      <td>88</td>\n",
       "      <td>1205</td>\n",
       "      <td>7</td>\n",
       "      <td>4</td>\n",
       "      <td>2776</td>\n",
       "      <td>2830</td>\n",
       "      <td>1388</td>\n",
       "      <td>0</td>\n",
       "      <td>396.571429</td>\n",
       "      <td>677.274651</td>\n",
       "      <td>...</td>\n",
       "      <td>20</td>\n",
       "      <td>0.0</td>\n",
       "      <td>0.0</td>\n",
       "      <td>0</td>\n",
       "      <td>0</td>\n",
       "      <td>0.0</td>\n",
       "      <td>0.0</td>\n",
       "      <td>0</td>\n",
       "      <td>0</td>\n",
       "      <td>BENIGN</td>\n",
       "    </tr>\n",
       "    <tr>\n",
       "      <th>3</th>\n",
       "      <td>88</td>\n",
       "      <td>511</td>\n",
       "      <td>7</td>\n",
       "      <td>4</td>\n",
       "      <td>452</td>\n",
       "      <td>370</td>\n",
       "      <td>226</td>\n",
       "      <td>0</td>\n",
       "      <td>64.571429</td>\n",
       "      <td>110.276708</td>\n",
       "      <td>...</td>\n",
       "      <td>20</td>\n",
       "      <td>0.0</td>\n",
       "      <td>0.0</td>\n",
       "      <td>0</td>\n",
       "      <td>0</td>\n",
       "      <td>0.0</td>\n",
       "      <td>0.0</td>\n",
       "      <td>0</td>\n",
       "      <td>0</td>\n",
       "      <td>BENIGN</td>\n",
       "    </tr>\n",
       "    <tr>\n",
       "      <th>4</th>\n",
       "      <td>88</td>\n",
       "      <td>773</td>\n",
       "      <td>9</td>\n",
       "      <td>4</td>\n",
       "      <td>612</td>\n",
       "      <td>2944</td>\n",
       "      <td>306</td>\n",
       "      <td>0</td>\n",
       "      <td>68.000000</td>\n",
       "      <td>134.933317</td>\n",
       "      <td>...</td>\n",
       "      <td>20</td>\n",
       "      <td>0.0</td>\n",
       "      <td>0.0</td>\n",
       "      <td>0</td>\n",
       "      <td>0</td>\n",
       "      <td>0.0</td>\n",
       "      <td>0.0</td>\n",
       "      <td>0</td>\n",
       "      <td>0</td>\n",
       "      <td>BENIGN</td>\n",
       "    </tr>\n",
       "  </tbody>\n",
       "</table>\n",
       "<p>5 rows × 79 columns</p>\n",
       "</div>"
      ],
      "text/plain": [
       "    Destination Port   Flow Duration   Total Fwd Packets  \\\n",
       "0                 88             640                   7   \n",
       "1                 88             900                   9   \n",
       "2                 88            1205                   7   \n",
       "3                 88             511                   7   \n",
       "4                 88             773                   9   \n",
       "\n",
       "    Total Backward Packets  Total Length of Fwd Packets  \\\n",
       "0                        4                          440   \n",
       "1                        4                          600   \n",
       "2                        4                         2776   \n",
       "3                        4                          452   \n",
       "4                        4                          612   \n",
       "\n",
       "    Total Length of Bwd Packets   Fwd Packet Length Max  \\\n",
       "0                           358                     220   \n",
       "1                          2944                     300   \n",
       "2                          2830                    1388   \n",
       "3                           370                     226   \n",
       "4                          2944                     306   \n",
       "\n",
       "    Fwd Packet Length Min   Fwd Packet Length Mean   Fwd Packet Length Std  \\\n",
       "0                       0                62.857143              107.349008   \n",
       "1                       0                66.666667              132.287566   \n",
       "2                       0               396.571429              677.274651   \n",
       "3                       0                64.571429              110.276708   \n",
       "4                       0                68.000000              134.933317   \n",
       "\n",
       "   ...   min_seg_size_forward  Active Mean   Active Std   Active Max  \\\n",
       "0  ...                     20          0.0          0.0            0   \n",
       "1  ...                     20          0.0          0.0            0   \n",
       "2  ...                     20          0.0          0.0            0   \n",
       "3  ...                     20          0.0          0.0            0   \n",
       "4  ...                     20          0.0          0.0            0   \n",
       "\n",
       "    Active Min  Idle Mean   Idle Std   Idle Max   Idle Min   Label  \n",
       "0            0        0.0        0.0          0          0  BENIGN  \n",
       "1            0        0.0        0.0          0          0  BENIGN  \n",
       "2            0        0.0        0.0          0          0  BENIGN  \n",
       "3            0        0.0        0.0          0          0  BENIGN  \n",
       "4            0        0.0        0.0          0          0  BENIGN  \n",
       "\n",
       "[5 rows x 79 columns]"
      ]
     },
     "execution_count": 27,
     "metadata": {},
     "output_type": "execute_result"
    }
   ],
   "source": [
    "df2.head()"
   ]
  },
  {
   "cell_type": "code",
   "execution_count": 28,
   "id": "8ecf90db-27c0-4c26-84ad-6c50b6db50a7",
   "metadata": {},
   "outputs": [
    {
     "name": "stdout",
     "output_type": "stream",
     "text": [
      "<class 'pandas.core.frame.DataFrame'>\n",
      "RangeIndex: 445909 entries, 0 to 445908\n",
      "Data columns (total 79 columns):\n",
      " #   Column                        Non-Null Count   Dtype  \n",
      "---  ------                        --------------   -----  \n",
      " 0    Destination Port             445909 non-null  int64  \n",
      " 1    Flow Duration                445909 non-null  int64  \n",
      " 2    Total Fwd Packets            445909 non-null  int64  \n",
      " 3    Total Backward Packets       445909 non-null  int64  \n",
      " 4   Total Length of Fwd Packets   445909 non-null  int64  \n",
      " 5    Total Length of Bwd Packets  445909 non-null  int64  \n",
      " 6    Fwd Packet Length Max        445909 non-null  int64  \n",
      " 7    Fwd Packet Length Min        445909 non-null  int64  \n",
      " 8    Fwd Packet Length Mean       445909 non-null  float64\n",
      " 9    Fwd Packet Length Std        445909 non-null  float64\n",
      " 10  Bwd Packet Length Max         445909 non-null  int64  \n",
      " 11   Bwd Packet Length Min        445909 non-null  int64  \n",
      " 12   Bwd Packet Length Mean       445909 non-null  float64\n",
      " 13   Bwd Packet Length Std        445909 non-null  float64\n",
      " 14  Flow Bytes/s                  445708 non-null  float64\n",
      " 15   Flow Packets/s               445909 non-null  float64\n",
      " 16   Flow IAT Mean                445909 non-null  float64\n",
      " 17   Flow IAT Std                 445909 non-null  float64\n",
      " 18   Flow IAT Max                 445909 non-null  int64  \n",
      " 19   Flow IAT Min                 445909 non-null  int64  \n",
      " 20  Fwd IAT Total                 445909 non-null  int64  \n",
      " 21   Fwd IAT Mean                 445909 non-null  float64\n",
      " 22   Fwd IAT Std                  445909 non-null  float64\n",
      " 23   Fwd IAT Max                  445909 non-null  int64  \n",
      " 24   Fwd IAT Min                  445909 non-null  int64  \n",
      " 25  Bwd IAT Total                 445909 non-null  int64  \n",
      " 26   Bwd IAT Mean                 445909 non-null  float64\n",
      " 27   Bwd IAT Std                  445909 non-null  float64\n",
      " 28   Bwd IAT Max                  445909 non-null  int64  \n",
      " 29   Bwd IAT Min                  445909 non-null  int64  \n",
      " 30  Fwd PSH Flags                 445909 non-null  int64  \n",
      " 31   Bwd PSH Flags                445909 non-null  int64  \n",
      " 32   Fwd URG Flags                445909 non-null  int64  \n",
      " 33   Bwd URG Flags                445909 non-null  int64  \n",
      " 34   Fwd Header Length            445909 non-null  int64  \n",
      " 35   Bwd Header Length            445909 non-null  int64  \n",
      " 36  Fwd Packets/s                 445909 non-null  float64\n",
      " 37   Bwd Packets/s                445909 non-null  float64\n",
      " 38   Min Packet Length            445909 non-null  int64  \n",
      " 39   Max Packet Length            445909 non-null  int64  \n",
      " 40   Packet Length Mean           445909 non-null  float64\n",
      " 41   Packet Length Std            445909 non-null  float64\n",
      " 42   Packet Length Variance       445909 non-null  float64\n",
      " 43  FIN Flag Count                445909 non-null  int64  \n",
      " 44   SYN Flag Count               445909 non-null  int64  \n",
      " 45   RST Flag Count               445909 non-null  int64  \n",
      " 46   PSH Flag Count               445909 non-null  int64  \n",
      " 47   ACK Flag Count               445909 non-null  int64  \n",
      " 48   URG Flag Count               445909 non-null  int64  \n",
      " 49   CWE Flag Count               445909 non-null  int64  \n",
      " 50   ECE Flag Count               445909 non-null  int64  \n",
      " 51   Down/Up Ratio                445909 non-null  int64  \n",
      " 52   Average Packet Size          445909 non-null  float64\n",
      " 53   Avg Fwd Segment Size         445909 non-null  float64\n",
      " 54   Avg Bwd Segment Size         445909 non-null  float64\n",
      " 55   Fwd Header Length.1          445909 non-null  int64  \n",
      " 56  Fwd Avg Bytes/Bulk            445909 non-null  int64  \n",
      " 57   Fwd Avg Packets/Bulk         445909 non-null  int64  \n",
      " 58   Fwd Avg Bulk Rate            445909 non-null  int64  \n",
      " 59   Bwd Avg Bytes/Bulk           445909 non-null  int64  \n",
      " 60   Bwd Avg Packets/Bulk         445909 non-null  int64  \n",
      " 61  Bwd Avg Bulk Rate             445909 non-null  int64  \n",
      " 62  Subflow Fwd Packets           445909 non-null  int64  \n",
      " 63   Subflow Fwd Bytes            445909 non-null  int64  \n",
      " 64   Subflow Bwd Packets          445909 non-null  int64  \n",
      " 65   Subflow Bwd Bytes            445909 non-null  int64  \n",
      " 66  Init_Win_bytes_forward        445909 non-null  int64  \n",
      " 67   Init_Win_bytes_backward      445909 non-null  int64  \n",
      " 68   act_data_pkt_fwd             445909 non-null  int64  \n",
      " 69   min_seg_size_forward         445909 non-null  int64  \n",
      " 70  Active Mean                   445909 non-null  float64\n",
      " 71   Active Std                   445909 non-null  float64\n",
      " 72   Active Max                   445909 non-null  int64  \n",
      " 73   Active Min                   445909 non-null  int64  \n",
      " 74  Idle Mean                     445909 non-null  float64\n",
      " 75   Idle Std                     445909 non-null  float64\n",
      " 76   Idle Max                     445909 non-null  int64  \n",
      " 77   Idle Min                     445909 non-null  int64  \n",
      " 78   Label                        445909 non-null  object \n",
      "dtypes: float64(24), int64(54), object(1)\n",
      "memory usage: 268.8+ MB\n"
     ]
    }
   ],
   "source": [
    "df2.info()"
   ]
  },
  {
   "cell_type": "code",
   "execution_count": 29,
   "id": "e1e4130d-799e-4592-b74f-e4e7a6789681",
   "metadata": {},
   "outputs": [
    {
     "data": {
      "text/plain": [
       "array(['BENIGN', 'FTP-Patator', 'SSH-Patator'], dtype=object)"
      ]
     },
     "execution_count": 29,
     "metadata": {},
     "output_type": "execute_result"
    }
   ],
   "source": [
    "df2[' Label'].unique()"
   ]
  },
  {
   "cell_type": "code",
   "execution_count": 30,
   "id": "9e78f14a-e99e-4db1-882e-f3d561e5a108",
   "metadata": {},
   "outputs": [
    {
     "data": {
      "text/plain": [
       "array(['BENIGN', 'DoS slowloris', 'DoS Slowhttptest', 'DoS Hulk',\n",
       "       'DoS GoldenEye', 'Heartbleed'], dtype=object)"
      ]
     },
     "execution_count": 30,
     "metadata": {},
     "output_type": "execute_result"
    }
   ],
   "source": [
    "df3[' Label'].unique()"
   ]
  },
  {
   "cell_type": "code",
   "execution_count": 32,
   "id": "c9a199a8-2482-4549-b3e5-748d5732e1ed",
   "metadata": {},
   "outputs": [
    {
     "data": {
      "text/plain": [
       "array(['BENIGN', 'Web Attack � Brute Force', 'Web Attack � XSS',\n",
       "       'Web Attack � Sql Injection'], dtype=object)"
      ]
     },
     "execution_count": 32,
     "metadata": {},
     "output_type": "execute_result"
    }
   ],
   "source": [
    "df4[' Label'].unique()"
   ]
  },
  {
   "cell_type": "code",
   "execution_count": 33,
   "id": "18a6532d-fd2d-4274-980c-92b396a46417",
   "metadata": {},
   "outputs": [
    {
     "data": {
      "text/plain": [
       "array(['BENIGN', 'Infiltration'], dtype=object)"
      ]
     },
     "execution_count": 33,
     "metadata": {},
     "output_type": "execute_result"
    }
   ],
   "source": [
    "df5[' Label'].unique()"
   ]
  },
  {
   "cell_type": "code",
   "execution_count": 34,
   "id": "521e3fb3-9ff6-4d9c-a3c2-6456c8c933de",
   "metadata": {},
   "outputs": [
    {
     "data": {
      "text/plain": [
       "array(['BENIGN', 'Bot'], dtype=object)"
      ]
     },
     "execution_count": 34,
     "metadata": {},
     "output_type": "execute_result"
    }
   ],
   "source": [
    "df6[' Label'].unique()"
   ]
  },
  {
   "cell_type": "code",
   "execution_count": 35,
   "id": "21a465a4-7394-4a60-b5ef-60db01ac6afc",
   "metadata": {},
   "outputs": [
    {
     "data": {
      "text/plain": [
       "array(['BENIGN', 'DDoS'], dtype=object)"
      ]
     },
     "execution_count": 35,
     "metadata": {},
     "output_type": "execute_result"
    }
   ],
   "source": [
    "df7[' Label'].unique()"
   ]
  },
  {
   "cell_type": "code",
   "execution_count": 37,
   "id": "4a74e830-87ea-4b1b-b843-f9188e3a4efb",
   "metadata": {},
   "outputs": [
    {
     "data": {
      "text/plain": [
       "array(['BENIGN', 'PortScan'], dtype=object)"
      ]
     },
     "execution_count": 37,
     "metadata": {},
     "output_type": "execute_result"
    }
   ],
   "source": [
    "df8[' Label'].unique()"
   ]
  },
  {
   "cell_type": "code",
   "execution_count": 38,
   "id": "e62612ba-d89e-4999-857f-885b93ddb1a0",
   "metadata": {},
   "outputs": [
    {
     "data": {
      "text/plain": [
       "array([   22, 35396, 60058, ...,  8915, 41888,  9366])"
      ]
     },
     "execution_count": 38,
     "metadata": {},
     "output_type": "execute_result"
    }
   ],
   "source": [
    "df8[' Destination Port'].unique()"
   ]
  },
  {
   "cell_type": "code",
   "execution_count": null,
   "id": "c6b32f5d-fae6-42b0-b797-1ba35494fdaf",
   "metadata": {},
   "outputs": [],
   "source": []
  }
 ],
 "metadata": {
  "kernelspec": {
   "display_name": "Python 3 (ipykernel)",
   "language": "python",
   "name": "python3"
  },
  "language_info": {
   "codemirror_mode": {
    "name": "ipython",
    "version": 3
   },
   "file_extension": ".py",
   "mimetype": "text/x-python",
   "name": "python",
   "nbconvert_exporter": "python",
   "pygments_lexer": "ipython3",
   "version": "3.11.8"
  }
 },
 "nbformat": 4,
 "nbformat_minor": 5
}
